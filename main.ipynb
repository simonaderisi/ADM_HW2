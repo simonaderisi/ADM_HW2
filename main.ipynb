{
 "cells": [
  {
   "cell_type": "code",
   "execution_count": 5,
   "id": "0ad11a1c",
   "metadata": {},
   "outputs": [],
   "source": [
    "from matplotlib import pyplot as plt\n",
    "import pandas as pd\n",
    "import numpy as np\n",
    "import datetime\n",
    "pd.set_option('display.max_columns', 500) #show all columns\n",
    "import os\n",
    "pd.set_option('display.float_format', lambda x: f'%.{len(str(x%1))-2}f' % x) #display eventual float format\n",
    "os.listdir()"
   ]
  },
  {
   "cell_type": "markdown",
   "id": "023a1e72",
   "metadata": {},
   "source": [
    "## RQ1] After collecting information, the Data Scientists have to know what dataset they are dealing with, so let's start with an Exploratory Data Analysis (EDA). What can you say about our datasets? Please summarise its main characteristics with visual and tabular methods."
   ]
  },
  {
   "cell_type": "code",
   "execution_count": 2,
   "id": "2c0cd3ba-2eed-471c-8d8e-96d9b9620b32",
   "metadata": {},
   "outputs": [],
   "source": [
    "data_profiles = pd.read_csv('instagram_profiles.csv', delimiter='\\t')"
   ]
  },
  {
   "cell_type": "markdown",
   "id": "8fe32438-f24e-454f-b446-dc034be203cc",
   "metadata": {},
   "source": [
    "First of all we import the instagram profiles dataset and we want to analyze them so we visualize the head and the tail of our dataframe beacuse we imagine that it has huge dimension."
   ]
  },
  {
   "cell_type": "code",
   "execution_count": 2,
   "id": "7340ebbc-d3f9-4af4-964e-be6ae31bdf6e",
   "metadata": {},
   "outputs": [
    {
     "data": {
      "text/plain": [
       "pandas.core.frame.DataFrame"
      ]
     },
     "execution_count": 2,
     "metadata": {},
     "output_type": "execute_result"
    }
   ],
   "source": [
    "type(data_profiles) #we check that it is a dataframe"
   ]
  },
  {
   "cell_type": "code",
   "execution_count": 3,
   "id": "f2a06e82-9722-4cea-8faf-57b695212bbc",
   "metadata": {
    "collapsed": true,
    "jupyter": {
     "outputs_hidden": true
    },
    "tags": []
   },
   "outputs": [
    {
     "data": {
      "text/html": [
       "<div>\n",
       "<style scoped>\n",
       "    .dataframe tbody tr th:only-of-type {\n",
       "        vertical-align: middle;\n",
       "    }\n",
       "\n",
       "    .dataframe tbody tr th {\n",
       "        vertical-align: top;\n",
       "    }\n",
       "\n",
       "    .dataframe thead th {\n",
       "        text-align: right;\n",
       "    }\n",
       "</style>\n",
       "<table border=\"1\" class=\"dataframe\">\n",
       "  <thead>\n",
       "    <tr style=\"text-align: right;\">\n",
       "      <th></th>\n",
       "      <th>sid</th>\n",
       "      <th>profile_id</th>\n",
       "      <th>profile_name</th>\n",
       "      <th>firstname_lastname</th>\n",
       "      <th>description</th>\n",
       "      <th>following</th>\n",
       "      <th>followers</th>\n",
       "      <th>n_posts</th>\n",
       "      <th>url</th>\n",
       "      <th>cts</th>\n",
       "      <th>is_business_account</th>\n",
       "    </tr>\n",
       "  </thead>\n",
       "  <tbody>\n",
       "    <tr>\n",
       "      <th>0</th>\n",
       "      <td>4184446</td>\n",
       "      <td>4.721050e+09</td>\n",
       "      <td>jphillip033</td>\n",
       "      <td>John Pierce</td>\n",
       "      <td>\"Document Everything Always\"</td>\n",
       "      <td>250.0</td>\n",
       "      <td>146.0</td>\n",
       "      <td>170.0</td>\n",
       "      <td>NaN</td>\n",
       "      <td>2019-08-01 14:38:55.394 -0400</td>\n",
       "      <td>False</td>\n",
       "    </tr>\n",
       "    <tr>\n",
       "      <th>1</th>\n",
       "      <td>4184457</td>\n",
       "      <td>5.905830e+08</td>\n",
       "      <td>mama_haas</td>\n",
       "      <td>Deanna</td>\n",
       "      <td>Trying to enjoy the simple things in life. Kni...</td>\n",
       "      <td>534.0</td>\n",
       "      <td>1145.0</td>\n",
       "      <td>2878.0</td>\n",
       "      <td>www.etsy.com/shop/MamaHaas69</td>\n",
       "      <td>2019-08-01 14:39:36.526 -0400</td>\n",
       "      <td>False</td>\n",
       "    </tr>\n",
       "    <tr>\n",
       "      <th>2</th>\n",
       "      <td>4184460</td>\n",
       "      <td>1.074147e+09</td>\n",
       "      <td>yellowlightbreen</td>\n",
       "      <td>Eliza Gray</td>\n",
       "      <td>Maine is for Lovers</td>\n",
       "      <td>469.0</td>\n",
       "      <td>324.0</td>\n",
       "      <td>431.0</td>\n",
       "      <td>elizajanegray.com</td>\n",
       "      <td>2019-08-01 14:39:54.407 -0400</td>\n",
       "      <td>False</td>\n",
       "    </tr>\n",
       "    <tr>\n",
       "      <th>3</th>\n",
       "      <td>4184461</td>\n",
       "      <td>1.472039e+09</td>\n",
       "      <td>tec1025</td>\n",
       "      <td>Thomas Clark</td>\n",
       "      <td>NaN</td>\n",
       "      <td>NaN</td>\n",
       "      <td>NaN</td>\n",
       "      <td>NaN</td>\n",
       "      <td>NaN</td>\n",
       "      <td>2019-08-01 14:40:06.472 -0400</td>\n",
       "      <td>NaN</td>\n",
       "    </tr>\n",
       "    <tr>\n",
       "      <th>4</th>\n",
       "      <td>4184462</td>\n",
       "      <td>3.531421e+09</td>\n",
       "      <td>luckyfluff</td>\n",
       "      <td>NaN</td>\n",
       "      <td>NaN</td>\n",
       "      <td>NaN</td>\n",
       "      <td>NaN</td>\n",
       "      <td>NaN</td>\n",
       "      <td>NaN</td>\n",
       "      <td>2019-08-01 14:40:07.806 -0400</td>\n",
       "      <td>NaN</td>\n",
       "    </tr>\n",
       "  </tbody>\n",
       "</table>\n",
       "</div>"
      ],
      "text/plain": [
       "       sid    profile_id      profile_name firstname_lastname  \\\n",
       "0  4184446  4.721050e+09       jphillip033        John Pierce   \n",
       "1  4184457  5.905830e+08         mama_haas             Deanna   \n",
       "2  4184460  1.074147e+09  yellowlightbreen         Eliza Gray   \n",
       "3  4184461  1.472039e+09           tec1025       Thomas Clark   \n",
       "4  4184462  3.531421e+09        luckyfluff                NaN   \n",
       "\n",
       "                                         description  following  followers  \\\n",
       "0                       \"Document Everything Always\"      250.0      146.0   \n",
       "1  Trying to enjoy the simple things in life. Kni...      534.0     1145.0   \n",
       "2                                Maine is for Lovers      469.0      324.0   \n",
       "3                                                NaN        NaN        NaN   \n",
       "4                                                NaN        NaN        NaN   \n",
       "\n",
       "   n_posts                           url                            cts  \\\n",
       "0    170.0                           NaN  2019-08-01 14:38:55.394 -0400   \n",
       "1   2878.0  www.etsy.com/shop/MamaHaas69  2019-08-01 14:39:36.526 -0400   \n",
       "2    431.0             elizajanegray.com  2019-08-01 14:39:54.407 -0400   \n",
       "3      NaN                           NaN  2019-08-01 14:40:06.472 -0400   \n",
       "4      NaN                           NaN  2019-08-01 14:40:07.806 -0400   \n",
       "\n",
       "  is_business_account  \n",
       "0               False  \n",
       "1               False  \n",
       "2               False  \n",
       "3                 NaN  \n",
       "4                 NaN  "
      ]
     },
     "execution_count": 3,
     "metadata": {},
     "output_type": "execute_result"
    }
   ],
   "source": [
    "data_profiles.head()"
   ]
  },
  {
   "cell_type": "code",
   "execution_count": 4,
   "id": "87ddbcd2-e69a-4ca4-b7a9-e3c41a036b69",
   "metadata": {
    "collapsed": true,
    "jupyter": {
     "outputs_hidden": true
    },
    "tags": []
   },
   "outputs": [
    {
     "data": {
      "text/html": [
       "<div>\n",
       "<style scoped>\n",
       "    .dataframe tbody tr th:only-of-type {\n",
       "        vertical-align: middle;\n",
       "    }\n",
       "\n",
       "    .dataframe tbody tr th {\n",
       "        vertical-align: top;\n",
       "    }\n",
       "\n",
       "    .dataframe thead th {\n",
       "        text-align: right;\n",
       "    }\n",
       "</style>\n",
       "<table border=\"1\" class=\"dataframe\">\n",
       "  <thead>\n",
       "    <tr style=\"text-align: right;\">\n",
       "      <th></th>\n",
       "      <th>sid</th>\n",
       "      <th>profile_id</th>\n",
       "      <th>profile_name</th>\n",
       "      <th>firstname_lastname</th>\n",
       "      <th>description</th>\n",
       "      <th>following</th>\n",
       "      <th>followers</th>\n",
       "      <th>n_posts</th>\n",
       "      <th>url</th>\n",
       "      <th>cts</th>\n",
       "      <th>is_business_account</th>\n",
       "    </tr>\n",
       "  </thead>\n",
       "  <tbody>\n",
       "    <tr>\n",
       "      <th>4509581</th>\n",
       "      <td>4184467</td>\n",
       "      <td>1.418322e+09</td>\n",
       "      <td>karenarkesteyn</td>\n",
       "      <td>Karen Arkesteyn</td>\n",
       "      <td>🙏🏻</td>\n",
       "      <td>468.0</td>\n",
       "      <td>481.0</td>\n",
       "      <td>497.0</td>\n",
       "      <td>NaN</td>\n",
       "      <td>2019-08-01 14:40:26.554 -0400</td>\n",
       "      <td>False</td>\n",
       "    </tr>\n",
       "    <tr>\n",
       "      <th>4509582</th>\n",
       "      <td>4184469</td>\n",
       "      <td>1.340704e+07</td>\n",
       "      <td>jornvlaeminck</td>\n",
       "      <td>Jorn Vlaeminck</td>\n",
       "      <td>NaN</td>\n",
       "      <td>NaN</td>\n",
       "      <td>NaN</td>\n",
       "      <td>NaN</td>\n",
       "      <td>NaN</td>\n",
       "      <td>2019-08-01 14:40:41.628 -0400</td>\n",
       "      <td>NaN</td>\n",
       "    </tr>\n",
       "    <tr>\n",
       "      <th>4509583</th>\n",
       "      <td>4184470</td>\n",
       "      <td>6.007354e+09</td>\n",
       "      <td>s_degol</td>\n",
       "      <td>Sanne Degol</td>\n",
       "      <td>NaN</td>\n",
       "      <td>NaN</td>\n",
       "      <td>NaN</td>\n",
       "      <td>NaN</td>\n",
       "      <td>NaN</td>\n",
       "      <td>2019-08-01 14:40:42.983 -0400</td>\n",
       "      <td>NaN</td>\n",
       "    </tr>\n",
       "    <tr>\n",
       "      <th>4509584</th>\n",
       "      <td>4184473</td>\n",
       "      <td>2.338990e+07</td>\n",
       "      <td>anwilms</td>\n",
       "      <td>An Wilms</td>\n",
       "      <td>Fashion - travel - photography ... that's me!👗...</td>\n",
       "      <td>504.0</td>\n",
       "      <td>153.0</td>\n",
       "      <td>183.0</td>\n",
       "      <td>NaN</td>\n",
       "      <td>2019-08-01 14:40:49.982 -0400</td>\n",
       "      <td>False</td>\n",
       "    </tr>\n",
       "    <tr>\n",
       "      <th>4509585</th>\n",
       "      <td>4184511</td>\n",
       "      <td>2.088094e+09</td>\n",
       "      <td>arnaubassols_</td>\n",
       "      <td>Arnau Bassols Noguer</td>\n",
       "      <td>NaN</td>\n",
       "      <td>NaN</td>\n",
       "      <td>NaN</td>\n",
       "      <td>NaN</td>\n",
       "      <td>NaN</td>\n",
       "      <td>2019-08-01 14:42:30.055 -0400</td>\n",
       "      <td>NaN</td>\n",
       "    </tr>\n",
       "  </tbody>\n",
       "</table>\n",
       "</div>"
      ],
      "text/plain": [
       "             sid    profile_id    profile_name    firstname_lastname  \\\n",
       "4509581  4184467  1.418322e+09  karenarkesteyn       Karen Arkesteyn   \n",
       "4509582  4184469  1.340704e+07   jornvlaeminck        Jorn Vlaeminck   \n",
       "4509583  4184470  6.007354e+09         s_degol           Sanne Degol   \n",
       "4509584  4184473  2.338990e+07         anwilms              An Wilms   \n",
       "4509585  4184511  2.088094e+09   arnaubassols_  Arnau Bassols Noguer   \n",
       "\n",
       "                                               description  following  \\\n",
       "4509581                                                 🙏🏻      468.0   \n",
       "4509582                                                NaN        NaN   \n",
       "4509583                                                NaN        NaN   \n",
       "4509584  Fashion - travel - photography ... that's me!👗...      504.0   \n",
       "4509585                                                NaN        NaN   \n",
       "\n",
       "         followers  n_posts  url                            cts  \\\n",
       "4509581      481.0    497.0  NaN  2019-08-01 14:40:26.554 -0400   \n",
       "4509582        NaN      NaN  NaN  2019-08-01 14:40:41.628 -0400   \n",
       "4509583        NaN      NaN  NaN  2019-08-01 14:40:42.983 -0400   \n",
       "4509584      153.0    183.0  NaN  2019-08-01 14:40:49.982 -0400   \n",
       "4509585        NaN      NaN  NaN  2019-08-01 14:42:30.055 -0400   \n",
       "\n",
       "        is_business_account  \n",
       "4509581               False  \n",
       "4509582                 NaN  \n",
       "4509583                 NaN  \n",
       "4509584               False  \n",
       "4509585                 NaN  "
      ]
     },
     "execution_count": 4,
     "metadata": {},
     "output_type": "execute_result"
    }
   ],
   "source": [
    "data_profiles.tail()"
   ]
  },
  {
   "cell_type": "code",
   "execution_count": 5,
   "id": "9d30e237-2079-4477-9067-e2ff110df30a",
   "metadata": {},
   "outputs": [
    {
     "data": {
      "text/plain": [
       "(4509586, 11)"
      ]
     },
     "execution_count": 5,
     "metadata": {},
     "output_type": "execute_result"
    }
   ],
   "source": [
    "data_profiles.shape #we get the dimensions of the dataset"
   ]
  },
  {
   "cell_type": "markdown",
   "id": "e73256a9-3a66-4b14-98d5-77ae3520f95d",
   "metadata": {},
   "source": [
    "We are interested in the dimension of our dataframe. So with the command shape we discover that the rows are 4509586 and the columns are 11.\n",
    "If we prefer to work with a reduced dataframe we can extract the first 1500000 rows."
   ]
  },
  {
   "cell_type": "code",
   "execution_count": 98,
   "id": "6fef4c4a-13d6-4dd7-9099-0650fa18d2bc",
   "metadata": {},
   "outputs": [],
   "source": [
    "top_profiles=pd.read_csv('instagram_profiles.csv', delimiter='\\t', nrows=1500000)"
   ]
  },
  {
   "cell_type": "code",
   "execution_count": 6,
   "id": "d4efb666-fc2e-4ce3-87f6-73ed2ffe2108",
   "metadata": {
    "tags": []
   },
   "outputs": [
    {
     "name": "stdout",
     "output_type": "stream",
     "text": [
      "<class 'pandas.core.frame.DataFrame'>\n",
      "RangeIndex: 4509586 entries, 0 to 4509585\n",
      "Data columns (total 11 columns):\n",
      " #   Column               Dtype  \n",
      "---  ------               -----  \n",
      " 0   sid                  int64  \n",
      " 1   profile_id           float64\n",
      " 2   profile_name         object \n",
      " 3   firstname_lastname   object \n",
      " 4   description          object \n",
      " 5   following            float64\n",
      " 6   followers            float64\n",
      " 7   n_posts              float64\n",
      " 8   url                  object \n",
      " 9   cts                  object \n",
      " 10  is_business_account  object \n",
      "dtypes: float64(4), int64(1), object(6)\n",
      "memory usage: 378.5+ MB\n"
     ]
    }
   ],
   "source": [
    "data_profiles.info()"
   ]
  },
  {
   "cell_type": "markdown",
   "id": "36d4c141-7fd1-498c-90d6-f544eb080652",
   "metadata": {},
   "source": [
    "Thanks to this code we discover that there are five quantitative variables and the rest of them are qualitatives. A figurative rappresentation of the dataframe is the following:"
   ]
  },
  {
   "cell_type": "code",
   "execution_count": null,
   "id": "023e260b-87aa-4583-8618-7f730e960a85",
   "metadata": {},
   "outputs": [],
   "source": [
    "data_profiles.plot.hist(legend=True, range=[0,30000])"
   ]
  },
  {
   "cell_type": "markdown",
   "id": "2ba763b5-f308-4560-8ade-31676bad47af",
   "metadata": {},
   "source": [
    "In particular for the following, followers and n_posts variables:"
   ]
  },
  {
   "cell_type": "code",
   "execution_count": 111,
   "id": "71141821-a3ca-4816-8e8c-77ee74690c1a",
   "metadata": {
    "tags": []
   },
   "outputs": [
    {
     "data": {
      "text/plain": [
       "<AxesSubplot:ylabel='Frequency'>"
      ]
     },
     "execution_count": 111,
     "metadata": {},
     "output_type": "execute_result"
    },
    {
     "data": {
      "image/png": "[encoded data removed]",
      "text/plain": [
       "<Figure size 432x288 with 1 Axes>"
      ]
     },
     "metadata": {
      "needs_background": "light"
     },
     "output_type": "display_data"
    }
   ],
   "source": [
    "data_profiles.following.plot.hist(range=[0,10000], edgecolor='black', color=\"lightpink\", legend=True)"
   ]
  },
  {
   "cell_type": "code",
   "execution_count": 112,
   "id": "75b17ba4-276f-4cad-b397-572db31e9ef1",
   "metadata": {},
   "outputs": [
    {
     "data": {
      "text/plain": [
       "<AxesSubplot:ylabel='Frequency'>"
      ]
     },
     "execution_count": 112,
     "metadata": {},
     "output_type": "execute_result"
    },
    {
     "data": {
      "image/png": "[encoded data removed]",
      "text/plain": [
       "<Figure size 432x288 with 1 Axes>"
      ]
     },
     "metadata": {
      "needs_background": "light"
     },
     "output_type": "display_data"
    }
   ],
   "source": [
    "data_profiles.followers.plot.hist(range=[0,10000], edgecolor='black',color=\"lightblue\", legend=True)"
   ]
  },
  {
   "cell_type": "code",
   "execution_count": 113,
   "id": "635cfa43-3e04-45e5-b9b9-bed3e184f187",
   "metadata": {},
   "outputs": [
    {
     "data": {
      "text/plain": [
       "<AxesSubplot:ylabel='Frequency'>"
      ]
     },
     "execution_count": 113,
     "metadata": {},
     "output_type": "execute_result"
    },
    {
     "data": {
      "image/png": "[encoded data removed]",
      "text/plain": [
       "<Figure size 432x288 with 1 Axes>"
      ]
     },
     "metadata": {
      "needs_background": "light"
     },
     "output_type": "display_data"
    }
   ],
   "source": [
    "data_profiles.n_posts.plot.hist(range=[0,10000], edgecolor='black', color=\"lightyellow\", legend=True)"
   ]
  },
  {
   "cell_type": "code",
   "execution_count": 27,
   "id": "07b8d3ac-b8d8-4c45-a393-a679140533b5",
   "metadata": {},
   "outputs": [
    {
     "name": "stdout",
     "output_type": "stream",
     "text": [
      "False    2590069\n",
      "True      855254\n",
      "Name: is_business_account, dtype: int64\n"
     ]
    },
    {
     "data": {
      "text/plain": [
       "<AxesSubplot:xlabel='is_business_account', ylabel='count'>"
      ]
     },
     "execution_count": 27,
     "metadata": {},
     "output_type": "execute_result"
    },
    {
     "data": {
      "image/png": "[encoded data removed]",
      "text/plain": [
       "<Figure size 432x288 with 1 Axes>"
      ]
     },
     "metadata": {
      "needs_background": "light"
     },
     "output_type": "display_data"
    }
   ],
   "source": [
    "print(data_profiles[\"is_business_account\"].value_counts())\n",
    "import seaborn as sns\n",
    "\n",
    "sns.countplot(x=\"is_business_account\", data=data_profiles)"
   ]
  },
  {
   "cell_type": "markdown",
   "id": "f00f2a97-abd8-49ea-8b63-bba5a0570a2c",
   "metadata": {},
   "source": [
    "We know that is_business_account is a boolean variable beacuse it contains only True and False values and we can visualize it with this barplot."
   ]
  },
  {
   "cell_type": "code",
   "execution_count": 7,
   "id": "49bc63e4-9659-4736-9cfd-52f9ce39abc6",
   "metadata": {
    "tags": []
   },
   "outputs": [
    {
     "data": {
      "text/html": [
       "<div>\n",
       "<style scoped>\n",
       "    .dataframe tbody tr th:only-of-type {\n",
       "        vertical-align: middle;\n",
       "    }\n",
       "\n",
       "    .dataframe tbody tr th {\n",
       "        vertical-align: top;\n",
       "    }\n",
       "\n",
       "    .dataframe thead th {\n",
       "        text-align: right;\n",
       "    }\n",
       "</style>\n",
       "<table border=\"1\" class=\"dataframe\">\n",
       "  <thead>\n",
       "    <tr style=\"text-align: right;\">\n",
       "      <th></th>\n",
       "      <th>sid</th>\n",
       "      <th>profile_id</th>\n",
       "      <th>following</th>\n",
       "      <th>followers</th>\n",
       "      <th>n_posts</th>\n",
       "    </tr>\n",
       "  </thead>\n",
       "  <tbody>\n",
       "    <tr>\n",
       "      <th>count</th>\n",
       "      <td>4.509586e+06</td>\n",
       "      <td>4.477139e+06</td>\n",
       "      <td>3.452771e+06</td>\n",
       "      <td>3.452771e+06</td>\n",
       "      <td>3.452771e+06</td>\n",
       "    </tr>\n",
       "    <tr>\n",
       "      <th>mean</th>\n",
       "      <td>2.255992e+06</td>\n",
       "      <td>3.083302e+09</td>\n",
       "      <td>1.405641e+03</td>\n",
       "      <td>4.739899e+03</td>\n",
       "      <td>4.095414e+02</td>\n",
       "    </tr>\n",
       "    <tr>\n",
       "      <th>std</th>\n",
       "      <td>1.301807e+06</td>\n",
       "      <td>4.266575e+10</td>\n",
       "      <td>8.113473e+03</td>\n",
       "      <td>1.939087e+05</td>\n",
       "      <td>1.041940e+03</td>\n",
       "    </tr>\n",
       "    <tr>\n",
       "      <th>min</th>\n",
       "      <td>1.186000e+03</td>\n",
       "      <td>4.000000e+00</td>\n",
       "      <td>0.000000e+00</td>\n",
       "      <td>0.000000e+00</td>\n",
       "      <td>0.000000e+00</td>\n",
       "    </tr>\n",
       "    <tr>\n",
       "      <th>25%</th>\n",
       "      <td>1.128596e+06</td>\n",
       "      <td>2.735177e+08</td>\n",
       "      <td>3.560000e+02</td>\n",
       "      <td>1.590000e+02</td>\n",
       "      <td>2.200000e+01</td>\n",
       "    </tr>\n",
       "    <tr>\n",
       "      <th>50%</th>\n",
       "      <td>2.255992e+06</td>\n",
       "      <td>1.649248e+09</td>\n",
       "      <td>7.540000e+02</td>\n",
       "      <td>4.060000e+02</td>\n",
       "      <td>1.200000e+02</td>\n",
       "    </tr>\n",
       "    <tr>\n",
       "      <th>75%</th>\n",
       "      <td>3.383389e+06</td>\n",
       "      <td>5.514691e+09</td>\n",
       "      <td>1.573000e+03</td>\n",
       "      <td>9.740000e+02</td>\n",
       "      <td>4.200000e+02</td>\n",
       "    </tr>\n",
       "    <tr>\n",
       "      <th>max</th>\n",
       "      <td>4.510785e+06</td>\n",
       "      <td>9.001013e+13</td>\n",
       "      <td>4.191080e+06</td>\n",
       "      <td>2.854576e+08</td>\n",
       "      <td>1.837300e+05</td>\n",
       "    </tr>\n",
       "  </tbody>\n",
       "</table>\n",
       "</div>"
      ],
      "text/plain": [
       "                sid    profile_id     following     followers       n_posts\n",
       "count  4.509586e+06  4.477139e+06  3.452771e+06  3.452771e+06  3.452771e+06\n",
       "mean   2.255992e+06  3.083302e+09  1.405641e+03  4.739899e+03  4.095414e+02\n",
       "std    1.301807e+06  4.266575e+10  8.113473e+03  1.939087e+05  1.041940e+03\n",
       "min    1.186000e+03  4.000000e+00  0.000000e+00  0.000000e+00  0.000000e+00\n",
       "25%    1.128596e+06  2.735177e+08  3.560000e+02  1.590000e+02  2.200000e+01\n",
       "50%    2.255992e+06  1.649248e+09  7.540000e+02  4.060000e+02  1.200000e+02\n",
       "75%    3.383389e+06  5.514691e+09  1.573000e+03  9.740000e+02  4.200000e+02\n",
       "max    4.510785e+06  9.001013e+13  4.191080e+06  2.854576e+08  1.837300e+05"
      ]
     },
     "execution_count": 7,
     "metadata": {},
     "output_type": "execute_result"
    }
   ],
   "source": [
    "data_profiles.describe()"
   ]
  },
  {
   "cell_type": "markdown",
   "id": "459b64a5-496c-4b6e-a499-92a41108cf0f",
   "metadata": {},
   "source": [
    "This function displays the count, the mean, the standard deviation, tha maximum and the minimum values, and the first, the second (median) and the third quartiles of our quantitive variables. The mean is sensitive to outliers, but the fact that the mean of the variables profile_id, following, followers and n_posts is so small compared to the max value of the variables indicates that the max value is an outlier."
   ]
  },
  {
   "cell_type": "code",
   "execution_count": 28,
   "id": "c36c7a28-f7e0-4804-844c-60dd789babc0",
   "metadata": {
    "tags": []
   },
   "outputs": [],
   "source": [
    "def find_outliers_IQR(df):\n",
    "\n",
    "   q1=df.quantile(0.25)\n",
    "\n",
    "   q3=df.quantile(0.75)\n",
    "\n",
    "   IQR=q3-q1\n",
    "\n",
    "   outliers = df[((df<(q1-1.5*IQR)) | (df>(q3+1.5*IQR)))]\n",
    "\n",
    "   return outliers\n"
   ]
  },
  {
   "cell_type": "markdown",
   "id": "b40953bb-feaa-43a3-9bb6-6ec6799acac5",
   "metadata": {},
   "source": [
    "Thanks to the function find_outliers_IQR we can now individuate the number of outliers. So we apply it for each quantitative variables with outliers and we visualize them in a boxplot."
   ]
  },
  {
   "cell_type": "code",
   "execution_count": 29,
   "id": "f2a19b12-f726-4130-ae7b-38e3f7b73ea3",
   "metadata": {
    "tags": []
   },
   "outputs": [
    {
     "name": "stdout",
     "output_type": "stream",
     "text": [
      "number of outliers of profile_id variable: 3389\n",
      "max outlier value of profile_id variable: 90010129721363.0\n",
      "min outlier value of profile_id variable: 13376493023.0\n"
     ]
    },
    {
     "data": {
      "text/plain": [
       "<AxesSubplot:>"
      ]
     },
     "execution_count": 29,
     "metadata": {},
     "output_type": "execute_result"
    },
    {
     "data": {
      "image/png": "[encoded data removed]",
      "text/plain": [
       "<Figure size 432x288 with 1 Axes>"
      ]
     },
     "metadata": {
      "needs_background": "light"
     },
     "output_type": "display_data"
    }
   ],
   "source": [
    "o_prof=find_outliers_IQR(data_profiles['profile_id'])\n",
    "print('number of outliers of profile_id variable: '+ str(len(o_prof)))\n",
    "print('max outlier value of profile_id variable: '+ str(o_prof.max()))\n",
    "print('min outlier value of profile_id variable: '+ str(o_prof.min()))\n",
    "\n",
    "data_profiles.boxplot(column=['profile_id'])"
   ]
  },
  {
   "cell_type": "code",
   "execution_count": 5,
   "id": "ffba7b06-0e02-4b4e-9428-917db3dfdf59",
   "metadata": {
    "tags": []
   },
   "outputs": [
    {
     "name": "stdout",
     "output_type": "stream",
     "text": [
      "number of outliers of following variable: 370009\n",
      "max outlier value of following variable: 4191080.0\n",
      "min outlier value of following variable: 3399.0\n"
     ]
    },
    {
     "data": {
      "text/plain": [
       "<AxesSubplot:>"
      ]
     },
     "execution_count": 5,
     "metadata": {},
     "output_type": "execute_result"
    },
    {
     "data": {
      "image/png": "[encoded data removed]",
      "text/plain": [
       "<Figure size 432x288 with 1 Axes>"
      ]
     },
     "metadata": {
      "needs_background": "light"
     },
     "output_type": "display_data"
    }
   ],
   "source": [
    "o_following=find_outliers_IQR(data_profiles['following'])\n",
    "print('number of outliers of following variable: '+ str(len(o_following)))\n",
    "print('max outlier value of following variable: '+ str(o_following.max()))\n",
    "print('min outlier value of following variable: '+ str(o_following.min()))\n",
    "\n",
    "data_profiles.boxplot(column=['following'])"
   ]
  },
  {
   "cell_type": "code",
   "execution_count": 12,
   "id": "6dd58b0f-d9a4-4e4a-8728-1e447bda4077",
   "metadata": {
    "collapsed": true,
    "jupyter": {
     "outputs_hidden": true
    },
    "tags": []
   },
   "outputs": [
    {
     "name": "stdout",
     "output_type": "stream",
     "text": [
      "number of outliers of followers variable: 385054\n",
      "max outlier value of followers variable: 285457645.0\n",
      "min outlier value of followers variable: 2197.0\n"
     ]
    },
    {
     "data": {
      "text/plain": [
       "<AxesSubplot:>"
      ]
     },
     "execution_count": 12,
     "metadata": {},
     "output_type": "execute_result"
    },
    {
     "data": {
      "image/png": "[encoded data removed]",
      "text/plain": [
       "<Figure size 432x288 with 1 Axes>"
      ]
     },
     "metadata": {
      "needs_background": "light"
     },
     "output_type": "display_data"
    }
   ],
   "source": [
    "o_followers=find_outliers_IQR(data_profiles['followers'])\n",
    "print('number of outliers of followers variable: '+ str(len(o_followers)))\n",
    "print('max outlier value of followers variable: '+ str(o_followers.max()))\n",
    "print('min outlier value of followers variable: '+ str(o_followers.min()))\n",
    "\n",
    "data_profiles.boxplot(column=['followers'])"
   ]
  },
  {
   "cell_type": "code",
   "execution_count": null,
   "id": "8ce762d3-3043-4cc6-af02-b4478f722c2c",
   "metadata": {
    "collapsed": true,
    "jupyter": {
     "outputs_hidden": true
    },
    "tags": []
   },
   "outputs": [],
   "source": [
    "o_posts=find_outliers_IQR(data_profiles['n_posts'])\n",
    "print('number of outliers of n_posts variable: '+ str(len(o_posts)))\n",
    "print('max outlier value of n_posts variable: '+ str(o_posts.max()))\n",
    "print('min outlier value of n_posts variable: '+ str(o_posts.min()))\n",
    "\n",
    "data_profiles.boxplot(column=['n_posts'])"
   ]
  },
  {
   "cell_type": "markdown",
   "id": "088eeabb-7ff4-40a0-9040-f42a8fc8a87f",
   "metadata": {},
   "source": [
    "After the analysis of outliers we are intrested of the missing values of the dataframe."
   ]
  },
  {
   "cell_type": "code",
   "execution_count": 6,
   "id": "423b829e-98c3-436e-a72a-384b304c89a8",
   "metadata": {
    "tags": []
   },
   "outputs": [
    {
     "data": {
      "text/html": [
       "<div>\n",
       "<style scoped>\n",
       "    .dataframe tbody tr th:only-of-type {\n",
       "        vertical-align: middle;\n",
       "    }\n",
       "\n",
       "    .dataframe tbody tr th {\n",
       "        vertical-align: top;\n",
       "    }\n",
       "\n",
       "    .dataframe thead th {\n",
       "        text-align: right;\n",
       "    }\n",
       "</style>\n",
       "<table border=\"1\" class=\"dataframe\">\n",
       "  <thead>\n",
       "    <tr style=\"text-align: right;\">\n",
       "      <th></th>\n",
       "      <th>sid</th>\n",
       "      <th>profile_id</th>\n",
       "      <th>profile_name</th>\n",
       "      <th>firstname_lastname</th>\n",
       "      <th>description</th>\n",
       "      <th>following</th>\n",
       "      <th>followers</th>\n",
       "      <th>n_posts</th>\n",
       "      <th>url</th>\n",
       "      <th>cts</th>\n",
       "      <th>is_business_account</th>\n",
       "    </tr>\n",
       "  </thead>\n",
       "  <tbody>\n",
       "    <tr>\n",
       "      <th>0</th>\n",
       "      <td>False</td>\n",
       "      <td>False</td>\n",
       "      <td>False</td>\n",
       "      <td>False</td>\n",
       "      <td>False</td>\n",
       "      <td>False</td>\n",
       "      <td>False</td>\n",
       "      <td>False</td>\n",
       "      <td>True</td>\n",
       "      <td>False</td>\n",
       "      <td>False</td>\n",
       "    </tr>\n",
       "    <tr>\n",
       "      <th>1</th>\n",
       "      <td>False</td>\n",
       "      <td>False</td>\n",
       "      <td>False</td>\n",
       "      <td>False</td>\n",
       "      <td>False</td>\n",
       "      <td>False</td>\n",
       "      <td>False</td>\n",
       "      <td>False</td>\n",
       "      <td>False</td>\n",
       "      <td>False</td>\n",
       "      <td>False</td>\n",
       "    </tr>\n",
       "    <tr>\n",
       "      <th>2</th>\n",
       "      <td>False</td>\n",
       "      <td>False</td>\n",
       "      <td>False</td>\n",
       "      <td>False</td>\n",
       "      <td>False</td>\n",
       "      <td>False</td>\n",
       "      <td>False</td>\n",
       "      <td>False</td>\n",
       "      <td>False</td>\n",
       "      <td>False</td>\n",
       "      <td>False</td>\n",
       "    </tr>\n",
       "    <tr>\n",
       "      <th>3</th>\n",
       "      <td>False</td>\n",
       "      <td>False</td>\n",
       "      <td>False</td>\n",
       "      <td>False</td>\n",
       "      <td>True</td>\n",
       "      <td>True</td>\n",
       "      <td>True</td>\n",
       "      <td>True</td>\n",
       "      <td>True</td>\n",
       "      <td>False</td>\n",
       "      <td>True</td>\n",
       "    </tr>\n",
       "    <tr>\n",
       "      <th>4</th>\n",
       "      <td>False</td>\n",
       "      <td>False</td>\n",
       "      <td>False</td>\n",
       "      <td>True</td>\n",
       "      <td>True</td>\n",
       "      <td>True</td>\n",
       "      <td>True</td>\n",
       "      <td>True</td>\n",
       "      <td>True</td>\n",
       "      <td>False</td>\n",
       "      <td>True</td>\n",
       "    </tr>\n",
       "    <tr>\n",
       "      <th>...</th>\n",
       "      <td>...</td>\n",
       "      <td>...</td>\n",
       "      <td>...</td>\n",
       "      <td>...</td>\n",
       "      <td>...</td>\n",
       "      <td>...</td>\n",
       "      <td>...</td>\n",
       "      <td>...</td>\n",
       "      <td>...</td>\n",
       "      <td>...</td>\n",
       "      <td>...</td>\n",
       "    </tr>\n",
       "    <tr>\n",
       "      <th>4509581</th>\n",
       "      <td>False</td>\n",
       "      <td>False</td>\n",
       "      <td>False</td>\n",
       "      <td>False</td>\n",
       "      <td>False</td>\n",
       "      <td>False</td>\n",
       "      <td>False</td>\n",
       "      <td>False</td>\n",
       "      <td>True</td>\n",
       "      <td>False</td>\n",
       "      <td>False</td>\n",
       "    </tr>\n",
       "    <tr>\n",
       "      <th>4509582</th>\n",
       "      <td>False</td>\n",
       "      <td>False</td>\n",
       "      <td>False</td>\n",
       "      <td>False</td>\n",
       "      <td>True</td>\n",
       "      <td>True</td>\n",
       "      <td>True</td>\n",
       "      <td>True</td>\n",
       "      <td>True</td>\n",
       "      <td>False</td>\n",
       "      <td>True</td>\n",
       "    </tr>\n",
       "    <tr>\n",
       "      <th>4509583</th>\n",
       "      <td>False</td>\n",
       "      <td>False</td>\n",
       "      <td>False</td>\n",
       "      <td>False</td>\n",
       "      <td>True</td>\n",
       "      <td>True</td>\n",
       "      <td>True</td>\n",
       "      <td>True</td>\n",
       "      <td>True</td>\n",
       "      <td>False</td>\n",
       "      <td>True</td>\n",
       "    </tr>\n",
       "    <tr>\n",
       "      <th>4509584</th>\n",
       "      <td>False</td>\n",
       "      <td>False</td>\n",
       "      <td>False</td>\n",
       "      <td>False</td>\n",
       "      <td>False</td>\n",
       "      <td>False</td>\n",
       "      <td>False</td>\n",
       "      <td>False</td>\n",
       "      <td>True</td>\n",
       "      <td>False</td>\n",
       "      <td>False</td>\n",
       "    </tr>\n",
       "    <tr>\n",
       "      <th>4509585</th>\n",
       "      <td>False</td>\n",
       "      <td>False</td>\n",
       "      <td>False</td>\n",
       "      <td>False</td>\n",
       "      <td>True</td>\n",
       "      <td>True</td>\n",
       "      <td>True</td>\n",
       "      <td>True</td>\n",
       "      <td>True</td>\n",
       "      <td>False</td>\n",
       "      <td>True</td>\n",
       "    </tr>\n",
       "  </tbody>\n",
       "</table>\n",
       "<p>4509586 rows × 11 columns</p>\n",
       "</div>"
      ],
      "text/plain": [
       "           sid  profile_id  profile_name  firstname_lastname  description  \\\n",
       "0        False       False         False               False        False   \n",
       "1        False       False         False               False        False   \n",
       "2        False       False         False               False        False   \n",
       "3        False       False         False               False         True   \n",
       "4        False       False         False                True         True   \n",
       "...        ...         ...           ...                 ...          ...   \n",
       "4509581  False       False         False               False        False   \n",
       "4509582  False       False         False               False         True   \n",
       "4509583  False       False         False               False         True   \n",
       "4509584  False       False         False               False        False   \n",
       "4509585  False       False         False               False         True   \n",
       "\n",
       "         following  followers  n_posts    url    cts  is_business_account  \n",
       "0            False      False    False   True  False                False  \n",
       "1            False      False    False  False  False                False  \n",
       "2            False      False    False  False  False                False  \n",
       "3             True       True     True   True  False                 True  \n",
       "4             True       True     True   True  False                 True  \n",
       "...            ...        ...      ...    ...    ...                  ...  \n",
       "4509581      False      False    False   True  False                False  \n",
       "4509582       True       True     True   True  False                 True  \n",
       "4509583       True       True     True   True  False                 True  \n",
       "4509584      False      False    False   True  False                False  \n",
       "4509585       True       True     True   True  False                 True  \n",
       "\n",
       "[4509586 rows x 11 columns]"
      ]
     },
     "execution_count": 6,
     "metadata": {},
     "output_type": "execute_result"
    }
   ],
   "source": [
    "data_profiles.isnull()"
   ]
  },
  {
   "cell_type": "code",
   "execution_count": 30,
   "id": "6b279635-31c9-4a73-86c0-488ae0cd1151",
   "metadata": {
    "tags": []
   },
   "outputs": [
    {
     "data": {
      "text/plain": [
       "sid                          0\n",
       "profile_id               32447\n",
       "profile_name                 0\n",
       "firstname_lastname      288465\n",
       "description            2055996\n",
       "following              1056815\n",
       "followers              1056815\n",
       "n_posts                1056815\n",
       "url                    3639312\n",
       "cts                     438488\n",
       "is_business_account    1064263\n",
       "dtype: int64"
      ]
     },
     "execution_count": 30,
     "metadata": {},
     "output_type": "execute_result"
    }
   ],
   "source": [
    "data_profiles.isnull().sum()"
   ]
  },
  {
   "cell_type": "markdown",
   "id": "89fd1545-0e20-4e03-9387-cd27f0a7a535",
   "metadata": {},
   "source": [
    "We obtain the number of missing values for each variable. We can also check the proportion of missing values for each column:"
   ]
  },
  {
   "cell_type": "code",
   "execution_count": 31,
   "id": "9710b5ba-7f2b-45a3-b0ea-cbae8ed6fb61",
   "metadata": {
    "tags": []
   },
   "outputs": [
    {
     "name": "stdout",
     "output_type": "stream",
     "text": [
      "profile_id : 0.72%\n",
      "firstname_lastname : 6.40%\n",
      "description : 45.59%\n",
      "following : 23.43%\n",
      "followers : 23.43%\n",
      "n_posts : 23.43%\n",
      "url : 80.70%\n",
      "cts : 9.72%\n",
      "is_business_account : 23.60%\n"
     ]
    }
   ],
   "source": [
    "for column in data_profiles.columns:\n",
    "    if data_profiles[column].isnull().sum() > 0:\n",
    "        print(column, ': {:.2%}'.format(data_profiles[column].isnull().sum() /\n",
    "                                               data_profiles[column].shape[0]))"
   ]
  },
  {
   "cell_type": "markdown",
   "id": "609f50c4-2a23-461e-8eee-cd8317c77af3",
   "metadata": {},
   "source": [
    "Now we know that there are a lot of missing value and we have to decide what strategy adopt for them. First of all we produce a copy of our dataset in order to modify it. "
   ]
  },
  {
   "cell_type": "code",
   "execution_count": 33,
   "id": "f8eafcff-67af-431e-a548-8f13b6ec427c",
   "metadata": {},
   "outputs": [],
   "source": [
    "d_prof_c = data_profiles.copy()"
   ]
  },
  {
   "cell_type": "markdown",
   "id": "f0eb22a1-438e-4d10-8f2a-acbedf3b2bd5",
   "metadata": {},
   "source": [
    "For the qualitatives variables firstname_lastname, description, url and cts we have replaced the missing values with an empty string, beacuse we don't have information about it."
   ]
  },
  {
   "cell_type": "code",
   "execution_count": 35,
   "id": "a45d508d-6680-4ff4-b0c3-9fc841299f9f",
   "metadata": {
    "tags": []
   },
   "outputs": [],
   "source": [
    "d_prof_c.firstname_lastname.fillna('', inplace=True)\n",
    "d_prof_c.description.fillna('', inplace=True)\n",
    "d_prof_c.url.fillna('', inplace=True)\n",
    "d_prof_c.cts.fillna('', inplace=True)\n"
   ]
  },
  {
   "cell_type": "markdown",
   "id": "39ec7274-13a8-4386-9fe7-a99698546c6a",
   "metadata": {},
   "source": [
    "For the variable is_business_account we can assume that they are False."
   ]
  },
  {
   "cell_type": "code",
   "execution_count": 36,
   "id": "e52285b2-75ed-40f5-9fb1-cb99c0d150f8",
   "metadata": {},
   "outputs": [],
   "source": [
    "d_prof_c.is_business_account.fillna(False, inplace=True)\n",
    "c=d_prof_c[\"is_business_account\"].value_counts()\n"
   ]
  },
  {
   "cell_type": "markdown",
   "id": "8650273a-3b91-4d73-a952-011f7e6b6fe8",
   "metadata": {},
   "source": [
    "For the quantitative variables following, follower and n_posts between all the techniques we choose the imputation with an additional column that consists of replacing the missing values with the median value and adding an additional column that has the value False if it wasn't a null value and True otherwise. That's because we assume that if you have a profile on instragam you will follow at least 1 profile and viceversa so replace the missing value with 0 doesn't make sense. We choose that strategy also because deleting the rows will reduce our dataframe too much."
   ]
  },
  {
   "cell_type": "code",
   "execution_count": 37,
   "id": "7e96914e-b53d-47cc-adaa-aa1471464d7b",
   "metadata": {},
   "outputs": [],
   "source": [
    "d_prof_c['FollowingIsMissing'] = d_prof_c['following'].isnull()\n",
    "d_prof_c['FollowersIsMissing'] = d_prof_c['followers'].isnull()\n",
    "d_prof_c['PostsIsMissing'] = d_prof_c['n_posts'].isnull()\n"
   ]
  },
  {
   "cell_type": "code",
   "execution_count": 38,
   "id": "e239466b-c885-4b6a-8c1d-901380bb4bea",
   "metadata": {
    "tags": []
   },
   "outputs": [
    {
     "data": {
      "text/plain": [
       "0     False\n",
       "1     False\n",
       "2     False\n",
       "3      True\n",
       "4      True\n",
       "      ...  \n",
       "95    False\n",
       "96    False\n",
       "97    False\n",
       "98    False\n",
       "99    False\n",
       "Name: FollowingIsMissing, Length: 100, dtype: bool"
      ]
     },
     "execution_count": 38,
     "metadata": {},
     "output_type": "execute_result"
    }
   ],
   "source": [
    "d_prof_c['following']=d_prof_c['following'].fillna(d_prof_c['following'].median())\n",
    "d_prof_c.FollowingIsMissing.head(100)"
   ]
  },
  {
   "cell_type": "code",
   "execution_count": 39,
   "id": "997cfcf0-8e75-44ba-97b8-cad56d3436dc",
   "metadata": {
    "tags": []
   },
   "outputs": [
    {
     "data": {
      "text/plain": [
       "0      False\n",
       "1      False\n",
       "2      False\n",
       "3       True\n",
       "4       True\n",
       "       ...  \n",
       "195    False\n",
       "196    False\n",
       "197    False\n",
       "198    False\n",
       "199    False\n",
       "Name: FollowersIsMissing, Length: 200, dtype: bool"
      ]
     },
     "execution_count": 39,
     "metadata": {},
     "output_type": "execute_result"
    }
   ],
   "source": [
    "d_prof_c['followers']=d_prof_c['followers'].fillna(d_prof_c['followers'].median())\n",
    "d_prof_c.FollowersIsMissing.head(200)"
   ]
  },
  {
   "cell_type": "code",
   "execution_count": 40,
   "id": "1c2f0804-196d-442b-8fd0-7fd290b6b574",
   "metadata": {
    "tags": []
   },
   "outputs": [
    {
     "data": {
      "text/plain": [
       "0      False\n",
       "1      False\n",
       "2      False\n",
       "3       True\n",
       "4       True\n",
       "       ...  \n",
       "195    False\n",
       "196    False\n",
       "197    False\n",
       "198    False\n",
       "199    False\n",
       "Name: PostsIsMissing, Length: 200, dtype: bool"
      ]
     },
     "execution_count": 40,
     "metadata": {},
     "output_type": "execute_result"
    }
   ],
   "source": [
    "d_prof_c['n_posts']=d_prof_c['n_posts'].fillna(d_prof_c['n_posts'].median())\n",
    "d_prof_c.PostsIsMissing.head(200)"
   ]
  },
  {
   "cell_type": "markdown",
   "id": "3df1e3ed-9547-478b-8b32-0aa5027e7f46",
   "metadata": {},
   "source": [
    "The profile_id should be an identificator number for each profile so we may set it with a range of number between 0 and 4509586 as following. But we prefer to eliminate the null rows because we need the profile_id variable to communicate between our different dataframes. So we will eliminate the rows. "
   ]
  },
  {
   "cell_type": "markdown",
   "id": "6c7120e2-1782-44f1-b7f7-2eeb12aaac19",
   "metadata": {
    "jupyter": {
     "outputs_hidden": true
    },
    "tags": []
   },
   "source": [
    "l=list(range(0,4509586))\n",
    "d_prof_c['profile_id']=l\n",
    "d_prof_c.profile_id.head(100)"
   ]
  },
  {
   "cell_type": "code",
   "execution_count": 41,
   "id": "907955e9-135d-448e-a4f7-d750711a8c5e",
   "metadata": {},
   "outputs": [],
   "source": [
    "d_prof_c.dropna(subset=['profile_id'], inplace=True)"
   ]
  },
  {
   "cell_type": "code",
   "execution_count": 42,
   "id": "8dadc395-50ee-4851-9823-3595aad57321",
   "metadata": {
    "tags": []
   },
   "outputs": [
    {
     "data": {
      "text/plain": [
       "sid                    0\n",
       "profile_id             0\n",
       "profile_name           0\n",
       "firstname_lastname     0\n",
       "description            0\n",
       "following              0\n",
       "followers              0\n",
       "n_posts                0\n",
       "url                    0\n",
       "cts                    0\n",
       "is_business_account    0\n",
       "FollowingIsMissing     0\n",
       "FollowersIsMissing     0\n",
       "PostsIsMissing         0\n",
       "dtype: int64"
      ]
     },
     "execution_count": 42,
     "metadata": {},
     "output_type": "execute_result"
    }
   ],
   "source": [
    "d_prof_c.isnull().sum()"
   ]
  },
  {
   "cell_type": "markdown",
   "id": "8b4cb86d-9a62-464f-812e-7b4c97dd36ba",
   "metadata": {},
   "source": [
    "The next dataframe we want to analyze is instagram locations so we import it and as usual we study its main characteristics."
   ]
  },
  {
   "cell_type": "code",
   "execution_count": 44,
   "id": "6422ad85-c58f-4a3c-8747-5307f3960c47",
   "metadata": {},
   "outputs": [],
   "source": [
    "import pandas as pd\n",
    "data_locations = pd.read_csv('instagram_locations.csv', delimiter='\\t')"
   ]
  },
  {
   "cell_type": "code",
   "execution_count": 103,
   "id": "0da67d10-974a-47a7-8946-a9300456739d",
   "metadata": {},
   "outputs": [
    {
     "data": {
      "text/plain": [
       "pandas.core.frame.DataFrame"
      ]
     },
     "execution_count": 103,
     "metadata": {},
     "output_type": "execute_result"
    }
   ],
   "source": [
    "type(data_locations)"
   ]
  },
  {
   "cell_type": "code",
   "execution_count": 144,
   "id": "916bacf0-f370-4129-96d6-7bae3ac54a0d",
   "metadata": {
    "collapsed": true,
    "jupyter": {
     "outputs_hidden": true
    },
    "tags": []
   },
   "outputs": [
    {
     "data": {
      "text/html": [
       "<div>\n",
       "<style scoped>\n",
       "    .dataframe tbody tr th:only-of-type {\n",
       "        vertical-align: middle;\n",
       "    }\n",
       "\n",
       "    .dataframe tbody tr th {\n",
       "        vertical-align: top;\n",
       "    }\n",
       "\n",
       "    .dataframe thead th {\n",
       "        text-align: right;\n",
       "    }\n",
       "</style>\n",
       "<table border=\"1\" class=\"dataframe\">\n",
       "  <thead>\n",
       "    <tr style=\"text-align: right;\">\n",
       "      <th></th>\n",
       "      <th>sid</th>\n",
       "      <th>id</th>\n",
       "      <th>name</th>\n",
       "      <th>street</th>\n",
       "      <th>zip</th>\n",
       "      <th>city</th>\n",
       "      <th>region</th>\n",
       "      <th>cd</th>\n",
       "      <th>phone</th>\n",
       "      <th>aj_exact_city_match</th>\n",
       "      <th>...</th>\n",
       "      <th>dir_city_name</th>\n",
       "      <th>dir_city_slug</th>\n",
       "      <th>dir_country_id</th>\n",
       "      <th>dir_country_name</th>\n",
       "      <th>lat</th>\n",
       "      <th>lng</th>\n",
       "      <th>primary_alias_on_fb</th>\n",
       "      <th>slug</th>\n",
       "      <th>website</th>\n",
       "      <th>cts</th>\n",
       "    </tr>\n",
       "  </thead>\n",
       "  <tbody>\n",
       "    <tr>\n",
       "      <th>0</th>\n",
       "      <td>719981</td>\n",
       "      <td>110296492939207</td>\n",
       "      <td>Playa de Daimuz - Valencia, España</td>\n",
       "      <td>NaN</td>\n",
       "      <td>NaN</td>\n",
       "      <td>NaN</td>\n",
       "      <td>NaN</td>\n",
       "      <td>NaN</td>\n",
       "      <td>NaN</td>\n",
       "      <td>False</td>\n",
       "      <td>...</td>\n",
       "      <td>NaN</td>\n",
       "      <td>NaN</td>\n",
       "      <td>NaN</td>\n",
       "      <td>NaN</td>\n",
       "      <td>-0.139475</td>\n",
       "      <td>38.974391</td>\n",
       "      <td>daimuzplaya</td>\n",
       "      <td>playa-de-daimuz-valencia-espana</td>\n",
       "      <td>https://es.wikipedia.org/wiki/Daimuz</td>\n",
       "      <td>2019-05-29 01:21:29.987</td>\n",
       "    </tr>\n",
       "    <tr>\n",
       "      <th>1</th>\n",
       "      <td>719983</td>\n",
       "      <td>274391278</td>\n",
       "      <td>Nová Vieska</td>\n",
       "      <td>NaN</td>\n",
       "      <td>NaN</td>\n",
       "      <td>Nová Vieska</td>\n",
       "      <td>NaN</td>\n",
       "      <td>SK</td>\n",
       "      <td>NaN</td>\n",
       "      <td>True</td>\n",
       "      <td>...</td>\n",
       "      <td>Kis-Újfalu</td>\n",
       "      <td>kis-ujfalu</td>\n",
       "      <td>SK</td>\n",
       "      <td>Slovakia</td>\n",
       "      <td>18.466667</td>\n",
       "      <td>47.866667</td>\n",
       "      <td>NaN</td>\n",
       "      <td>nova-vieska</td>\n",
       "      <td>NaN</td>\n",
       "      <td>2019-05-29 01:21:38.037</td>\n",
       "    </tr>\n",
       "    <tr>\n",
       "      <th>2</th>\n",
       "      <td>719985</td>\n",
       "      <td>148885595789195</td>\n",
       "      <td>Everest Today</td>\n",
       "      <td>Himalayas</td>\n",
       "      <td>+977</td>\n",
       "      <td>Kathmandu, Nepal</td>\n",
       "      <td>NaN</td>\n",
       "      <td>NP</td>\n",
       "      <td>NaN</td>\n",
       "      <td>False</td>\n",
       "      <td>...</td>\n",
       "      <td>Pasupati</td>\n",
       "      <td>pasupati</td>\n",
       "      <td>NP</td>\n",
       "      <td>Nepal</td>\n",
       "      <td>85.330150</td>\n",
       "      <td>27.701960</td>\n",
       "      <td>EverestToday</td>\n",
       "      <td>everest-today</td>\n",
       "      <td>NaN</td>\n",
       "      <td>2019-05-29 01:21:46.295</td>\n",
       "    </tr>\n",
       "    <tr>\n",
       "      <th>3</th>\n",
       "      <td>719987</td>\n",
       "      <td>263258277</td>\n",
       "      <td>BULAC - Bibliothèque universitaire des langues...</td>\n",
       "      <td>65, rue des Grands-Moulins</td>\n",
       "      <td>75013</td>\n",
       "      <td>Paris, France</td>\n",
       "      <td>NaN</td>\n",
       "      <td>FR</td>\n",
       "      <td>01 81 69 18 00</td>\n",
       "      <td>False</td>\n",
       "      <td>...</td>\n",
       "      <td>13ème Arrondissement Paris</td>\n",
       "      <td>13eme-arrondissement-paris</td>\n",
       "      <td>FR</td>\n",
       "      <td>France</td>\n",
       "      <td>2.375995</td>\n",
       "      <td>48.827240</td>\n",
       "      <td>BULAC.Paris</td>\n",
       "      <td>bulac-bibliotheque-universitaire-des-langues-e...</td>\n",
       "      <td>www.bulac.fr</td>\n",
       "      <td>2019-05-29 01:21:54.355</td>\n",
       "    </tr>\n",
       "    <tr>\n",
       "      <th>4</th>\n",
       "      <td>326443</td>\n",
       "      <td>406147529857708</td>\n",
       "      <td>ABC Cable Networks Group</td>\n",
       "      <td>3800 W Alameda Ave</td>\n",
       "      <td>91505</td>\n",
       "      <td>Burbank, California</td>\n",
       "      <td>NaN</td>\n",
       "      <td>US</td>\n",
       "      <td>(818) 569-7500</td>\n",
       "      <td>False</td>\n",
       "      <td>...</td>\n",
       "      <td>NaN</td>\n",
       "      <td>NaN</td>\n",
       "      <td>NaN</td>\n",
       "      <td>NaN</td>\n",
       "      <td>-118.341864</td>\n",
       "      <td>34.153265</td>\n",
       "      <td>NaN</td>\n",
       "      <td>abc-cable-networks-group</td>\n",
       "      <td>NaN</td>\n",
       "      <td>2019-04-02 15:22:55.703</td>\n",
       "    </tr>\n",
       "  </tbody>\n",
       "</table>\n",
       "<p>5 rows × 23 columns</p>\n",
       "</div>"
      ],
      "text/plain": [
       "      sid               id                                               name  \\\n",
       "0  719981  110296492939207                 Playa de Daimuz - Valencia, España   \n",
       "1  719983        274391278                                        Nová Vieska   \n",
       "2  719985  148885595789195                                      Everest Today   \n",
       "3  719987        263258277  BULAC - Bibliothèque universitaire des langues...   \n",
       "4  326443  406147529857708                           ABC Cable Networks Group   \n",
       "\n",
       "                       street    zip                 city region   cd  \\\n",
       "0                         NaN    NaN                  NaN    NaN  NaN   \n",
       "1                         NaN    NaN          Nová Vieska    NaN   SK   \n",
       "2                   Himalayas   +977     Kathmandu, Nepal    NaN   NP   \n",
       "3  65, rue des Grands-Moulins  75013        Paris, France    NaN   FR   \n",
       "4          3800 W Alameda Ave  91505  Burbank, California    NaN   US   \n",
       "\n",
       "            phone aj_exact_city_match  ...               dir_city_name  \\\n",
       "0             NaN               False  ...                         NaN   \n",
       "1             NaN                True  ...                  Kis-Újfalu   \n",
       "2             NaN               False  ...                    Pasupati   \n",
       "3  01 81 69 18 00               False  ...  13ème Arrondissement Paris   \n",
       "4  (818) 569-7500               False  ...                         NaN   \n",
       "\n",
       "                dir_city_slug dir_country_id dir_country_name         lat  \\\n",
       "0                         NaN            NaN              NaN   -0.139475   \n",
       "1                  kis-ujfalu             SK         Slovakia   18.466667   \n",
       "2                    pasupati             NP            Nepal   85.330150   \n",
       "3  13eme-arrondissement-paris             FR           France    2.375995   \n",
       "4                         NaN            NaN              NaN -118.341864   \n",
       "\n",
       "         lng primary_alias_on_fb  \\\n",
       "0  38.974391         daimuzplaya   \n",
       "1  47.866667                 NaN   \n",
       "2  27.701960        EverestToday   \n",
       "3  48.827240         BULAC.Paris   \n",
       "4  34.153265                 NaN   \n",
       "\n",
       "                                                slug  \\\n",
       "0                    playa-de-daimuz-valencia-espana   \n",
       "1                                        nova-vieska   \n",
       "2                                      everest-today   \n",
       "3  bulac-bibliotheque-universitaire-des-langues-e...   \n",
       "4                           abc-cable-networks-group   \n",
       "\n",
       "                                website                      cts  \n",
       "0  https://es.wikipedia.org/wiki/Daimuz  2019-05-29 01:21:29.987  \n",
       "1                                   NaN  2019-05-29 01:21:38.037  \n",
       "2                                   NaN  2019-05-29 01:21:46.295  \n",
       "3                          www.bulac.fr  2019-05-29 01:21:54.355  \n",
       "4                                   NaN  2019-04-02 15:22:55.703  \n",
       "\n",
       "[5 rows x 23 columns]"
      ]
     },
     "execution_count": 144,
     "metadata": {},
     "output_type": "execute_result"
    }
   ],
   "source": [
    "data_locations.head()"
   ]
  },
  {
   "cell_type": "code",
   "execution_count": 105,
   "id": "694eda7d-87e3-47c5-aeec-5e35899c20f3",
   "metadata": {
    "tags": []
   },
   "outputs": [
    {
     "data": {
      "text/html": [
       "<div>\n",
       "<style scoped>\n",
       "    .dataframe tbody tr th:only-of-type {\n",
       "        vertical-align: middle;\n",
       "    }\n",
       "\n",
       "    .dataframe tbody tr th {\n",
       "        vertical-align: top;\n",
       "    }\n",
       "\n",
       "    .dataframe thead th {\n",
       "        text-align: right;\n",
       "    }\n",
       "</style>\n",
       "<table border=\"1\" class=\"dataframe\">\n",
       "  <thead>\n",
       "    <tr style=\"text-align: right;\">\n",
       "      <th></th>\n",
       "      <th>sid</th>\n",
       "      <th>id</th>\n",
       "      <th>name</th>\n",
       "      <th>street</th>\n",
       "      <th>zip</th>\n",
       "      <th>city</th>\n",
       "      <th>region</th>\n",
       "      <th>cd</th>\n",
       "      <th>phone</th>\n",
       "      <th>aj_exact_city_match</th>\n",
       "      <th>...</th>\n",
       "      <th>dir_city_name</th>\n",
       "      <th>dir_city_slug</th>\n",
       "      <th>dir_country_id</th>\n",
       "      <th>dir_country_name</th>\n",
       "      <th>lat</th>\n",
       "      <th>lng</th>\n",
       "      <th>primary_alias_on_fb</th>\n",
       "      <th>slug</th>\n",
       "      <th>website</th>\n",
       "      <th>cts</th>\n",
       "    </tr>\n",
       "  </thead>\n",
       "  <tbody>\n",
       "    <tr>\n",
       "      <th>1022653</th>\n",
       "      <td>719973</td>\n",
       "      <td>873926439475785</td>\n",
       "      <td>Baby Season</td>\n",
       "      <td>Suarez de Figueroa # 380</td>\n",
       "      <td>NaN</td>\n",
       "      <td>Santa Cruz de la Sierra, Bolivia</td>\n",
       "      <td>NaN</td>\n",
       "      <td>BO</td>\n",
       "      <td>69118383</td>\n",
       "      <td>False</td>\n",
       "      <td>...</td>\n",
       "      <td>Santa Cruz de la Sierra</td>\n",
       "      <td>santa-cruz-de-la-sierra</td>\n",
       "      <td>BO</td>\n",
       "      <td>Bolivia</td>\n",
       "      <td>-63.185307</td>\n",
       "      <td>-17.786130</td>\n",
       "      <td>babyseason.srl</td>\n",
       "      <td>baby-season</td>\n",
       "      <td>NaN</td>\n",
       "      <td>2019-05-29 01:20:57.078</td>\n",
       "    </tr>\n",
       "    <tr>\n",
       "      <th>1022654</th>\n",
       "      <td>719975</td>\n",
       "      <td>390707529</td>\n",
       "      <td>Cueva Carvajal</td>\n",
       "      <td>NaN</td>\n",
       "      <td>NaN</td>\n",
       "      <td>NaN</td>\n",
       "      <td>NaN</td>\n",
       "      <td>NaN</td>\n",
       "      <td>+52 81 2089 7776</td>\n",
       "      <td>NaN</td>\n",
       "      <td>...</td>\n",
       "      <td>NaN</td>\n",
       "      <td>NaN</td>\n",
       "      <td>NaN</td>\n",
       "      <td>NaN</td>\n",
       "      <td>-100.359619</td>\n",
       "      <td>25.653550</td>\n",
       "      <td>CuevaCarvajalBrewPub</td>\n",
       "      <td>cueva-carvajal</td>\n",
       "      <td>http://www.cuevacarvajal.mx</td>\n",
       "      <td>2019-05-29 01:21:04.434</td>\n",
       "    </tr>\n",
       "    <tr>\n",
       "      <th>1022655</th>\n",
       "      <td>719977</td>\n",
       "      <td>1205466612894741</td>\n",
       "      <td>The Cheesecake Factory</td>\n",
       "      <td>304 Orland Square Dr</td>\n",
       "      <td>60462</td>\n",
       "      <td>Orland Park, Illinois</td>\n",
       "      <td>NaN</td>\n",
       "      <td>US</td>\n",
       "      <td>(708) 873-3747</td>\n",
       "      <td>False</td>\n",
       "      <td>...</td>\n",
       "      <td>Manor Homes</td>\n",
       "      <td>manor-homes</td>\n",
       "      <td>US</td>\n",
       "      <td>United States</td>\n",
       "      <td>-87.843649</td>\n",
       "      <td>41.618551</td>\n",
       "      <td>NaN</td>\n",
       "      <td>the-cheesecake-factory</td>\n",
       "      <td>http://locations.thecheesecakefactory.com/il/o...</td>\n",
       "      <td>2019-05-29 01:21:13.404</td>\n",
       "    </tr>\n",
       "    <tr>\n",
       "      <th>1022656</th>\n",
       "      <td>719979</td>\n",
       "      <td>286794844</td>\n",
       "      <td>Plimmer Towers</td>\n",
       "      <td>2 Gilmer Terrace</td>\n",
       "      <td>NaN</td>\n",
       "      <td>Wellington, New Zealand</td>\n",
       "      <td>NaN</td>\n",
       "      <td>NZ</td>\n",
       "      <td>NaN</td>\n",
       "      <td>False</td>\n",
       "      <td>...</td>\n",
       "      <td>NaN</td>\n",
       "      <td>NaN</td>\n",
       "      <td>NaN</td>\n",
       "      <td>NaN</td>\n",
       "      <td>174.775000</td>\n",
       "      <td>-41.285800</td>\n",
       "      <td>NaN</td>\n",
       "      <td>plimmer-towers</td>\n",
       "      <td>NaN</td>\n",
       "      <td>2019-05-29 01:21:21.628</td>\n",
       "    </tr>\n",
       "    <tr>\n",
       "      <th>1022657</th>\n",
       "      <td>720678</td>\n",
       "      <td>554330673</td>\n",
       "      <td>Старые Бирюли</td>\n",
       "      <td>Северная улица</td>\n",
       "      <td>NaN</td>\n",
       "      <td>NaN</td>\n",
       "      <td>NaN</td>\n",
       "      <td>NaN</td>\n",
       "      <td>NaN</td>\n",
       "      <td>False</td>\n",
       "      <td>...</td>\n",
       "      <td>NaN</td>\n",
       "      <td>NaN</td>\n",
       "      <td>NaN</td>\n",
       "      <td>NaN</td>\n",
       "      <td>49.444430</td>\n",
       "      <td>55.979180</td>\n",
       "      <td>NaN</td>\n",
       "      <td>NaN</td>\n",
       "      <td>NaN</td>\n",
       "      <td>2019-05-29 02:07:00.772</td>\n",
       "    </tr>\n",
       "  </tbody>\n",
       "</table>\n",
       "<p>5 rows × 23 columns</p>\n",
       "</div>"
      ],
      "text/plain": [
       "            sid                id                    name  \\\n",
       "1022653  719973   873926439475785             Baby Season   \n",
       "1022654  719975         390707529          Cueva Carvajal   \n",
       "1022655  719977  1205466612894741  The Cheesecake Factory   \n",
       "1022656  719979         286794844          Plimmer Towers   \n",
       "1022657  720678         554330673           Старые Бирюли   \n",
       "\n",
       "                           street    zip                              city  \\\n",
       "1022653  Suarez de Figueroa # 380    NaN  Santa Cruz de la Sierra, Bolivia   \n",
       "1022654                       NaN    NaN                               NaN   \n",
       "1022655      304 Orland Square Dr  60462             Orland Park, Illinois   \n",
       "1022656          2 Gilmer Terrace    NaN           Wellington, New Zealand   \n",
       "1022657            Северная улица    NaN                               NaN   \n",
       "\n",
       "        region   cd             phone aj_exact_city_match  ...  \\\n",
       "1022653    NaN   BO          69118383               False  ...   \n",
       "1022654    NaN  NaN  +52 81 2089 7776                 NaN  ...   \n",
       "1022655    NaN   US    (708) 873-3747               False  ...   \n",
       "1022656    NaN   NZ               NaN               False  ...   \n",
       "1022657    NaN  NaN               NaN               False  ...   \n",
       "\n",
       "                   dir_city_name            dir_city_slug dir_country_id  \\\n",
       "1022653  Santa Cruz de la Sierra  santa-cruz-de-la-sierra             BO   \n",
       "1022654                      NaN                      NaN            NaN   \n",
       "1022655              Manor Homes              manor-homes             US   \n",
       "1022656                      NaN                      NaN            NaN   \n",
       "1022657                      NaN                      NaN            NaN   \n",
       "\n",
       "        dir_country_name         lat        lng   primary_alias_on_fb  \\\n",
       "1022653          Bolivia  -63.185307 -17.786130        babyseason.srl   \n",
       "1022654              NaN -100.359619  25.653550  CuevaCarvajalBrewPub   \n",
       "1022655    United States  -87.843649  41.618551                   NaN   \n",
       "1022656              NaN  174.775000 -41.285800                   NaN   \n",
       "1022657              NaN   49.444430  55.979180                   NaN   \n",
       "\n",
       "                           slug  \\\n",
       "1022653             baby-season   \n",
       "1022654          cueva-carvajal   \n",
       "1022655  the-cheesecake-factory   \n",
       "1022656          plimmer-towers   \n",
       "1022657                     NaN   \n",
       "\n",
       "                                                   website  \\\n",
       "1022653                                                NaN   \n",
       "1022654                        http://www.cuevacarvajal.mx   \n",
       "1022655  http://locations.thecheesecakefactory.com/il/o...   \n",
       "1022656                                                NaN   \n",
       "1022657                                                NaN   \n",
       "\n",
       "                             cts  \n",
       "1022653  2019-05-29 01:20:57.078  \n",
       "1022654  2019-05-29 01:21:04.434  \n",
       "1022655  2019-05-29 01:21:13.404  \n",
       "1022656  2019-05-29 01:21:21.628  \n",
       "1022657  2019-05-29 02:07:00.772  \n",
       "\n",
       "[5 rows x 23 columns]"
      ]
     },
     "execution_count": 105,
     "metadata": {},
     "output_type": "execute_result"
    }
   ],
   "source": [
    "data_locations.tail()"
   ]
  },
  {
   "cell_type": "code",
   "execution_count": 106,
   "id": "6bfe73a1-63b3-44be-afc6-e6cba1289a55",
   "metadata": {},
   "outputs": [
    {
     "data": {
      "text/plain": [
       "(1022658, 23)"
      ]
     },
     "execution_count": 106,
     "metadata": {},
     "output_type": "execute_result"
    }
   ],
   "source": [
    "data_locations.shape"
   ]
  },
  {
   "cell_type": "code",
   "execution_count": 107,
   "id": "ff85d12f-eec4-4154-a26b-f66b80a94c94",
   "metadata": {
    "tags": []
   },
   "outputs": [
    {
     "name": "stdout",
     "output_type": "stream",
     "text": [
      "<class 'pandas.core.frame.DataFrame'>\n",
      "RangeIndex: 1022658 entries, 0 to 1022657\n",
      "Data columns (total 23 columns):\n",
      " #   Column                  Non-Null Count    Dtype  \n",
      "---  ------                  --------------    -----  \n",
      " 0   sid                     1022658 non-null  int64  \n",
      " 1   id                      1022658 non-null  int64  \n",
      " 2   name                    1022658 non-null  object \n",
      " 3   street                  715704 non-null   object \n",
      " 4   zip                     715579 non-null   object \n",
      " 5   city                    937166 non-null   object \n",
      " 6   region                  1760 non-null     object \n",
      " 7   cd                      939010 non-null   object \n",
      " 8   phone                   601688 non-null   object \n",
      " 9   aj_exact_city_match     1000510 non-null  object \n",
      " 10  aj_exact_country_match  1000510 non-null  object \n",
      " 11  blurb                   406705 non-null   object \n",
      " 12  dir_city_id             495698 non-null   object \n",
      " 13  dir_city_name           495698 non-null   object \n",
      " 14  dir_city_slug           495221 non-null   object \n",
      " 15  dir_country_id          495628 non-null   object \n",
      " 16  dir_country_name        495698 non-null   object \n",
      " 17  lat                     1016495 non-null  float64\n",
      " 18  lng                     1016495 non-null  float64\n",
      " 19  primary_alias_on_fb     425531 non-null   object \n",
      " 20  slug                    941668 non-null   object \n",
      " 21  website                 623262 non-null   object \n",
      " 22  cts                     1022658 non-null  object \n",
      "dtypes: float64(2), int64(2), object(19)\n",
      "memory usage: 179.5+ MB\n"
     ]
    }
   ],
   "source": [
    "data_locations.info()"
   ]
  },
  {
   "cell_type": "code",
   "execution_count": 22,
   "id": "8ef75069-f530-44d4-aaf9-c202206518e6",
   "metadata": {
    "tags": []
   },
   "outputs": [
    {
     "data": {
      "text/html": [
       "<div>\n",
       "<style scoped>\n",
       "    .dataframe tbody tr th:only-of-type {\n",
       "        vertical-align: middle;\n",
       "    }\n",
       "\n",
       "    .dataframe tbody tr th {\n",
       "        vertical-align: top;\n",
       "    }\n",
       "\n",
       "    .dataframe thead th {\n",
       "        text-align: right;\n",
       "    }\n",
       "</style>\n",
       "<table border=\"1\" class=\"dataframe\">\n",
       "  <thead>\n",
       "    <tr style=\"text-align: right;\">\n",
       "      <th></th>\n",
       "      <th>sid</th>\n",
       "      <th>id</th>\n",
       "      <th>lat</th>\n",
       "      <th>lng</th>\n",
       "    </tr>\n",
       "  </thead>\n",
       "  <tbody>\n",
       "    <tr>\n",
       "      <th>count</th>\n",
       "      <td>1.022658e+06</td>\n",
       "      <td>1.022658e+06</td>\n",
       "      <td>1.016495e+06</td>\n",
       "      <td>1.016495e+06</td>\n",
       "    </tr>\n",
       "    <tr>\n",
       "      <th>mean</th>\n",
       "      <td>5.274856e+05</td>\n",
       "      <td>3.152851e+14</td>\n",
       "      <td>-1.529215e+01</td>\n",
       "      <td>3.421718e+01</td>\n",
       "    </tr>\n",
       "    <tr>\n",
       "      <th>std</th>\n",
       "      <td>2.994567e+05</td>\n",
       "      <td>5.795031e+14</td>\n",
       "      <td>7.615085e+01</td>\n",
       "      <td>2.201081e+01</td>\n",
       "    </tr>\n",
       "    <tr>\n",
       "      <th>min</th>\n",
       "      <td>1.000000e+00</td>\n",
       "      <td>7.000000e+00</td>\n",
       "      <td>-1.799830e+02</td>\n",
       "      <td>-9.000000e+01</td>\n",
       "    </tr>\n",
       "    <tr>\n",
       "      <th>25%</th>\n",
       "      <td>2.688392e+05</td>\n",
       "      <td>2.522377e+08</td>\n",
       "      <td>-8.015575e+01</td>\n",
       "      <td>2.997555e+01</td>\n",
       "    </tr>\n",
       "    <tr>\n",
       "      <th>50%</th>\n",
       "      <td>5.300405e+05</td>\n",
       "      <td>8.573350e+08</td>\n",
       "      <td>-2.450000e+00</td>\n",
       "      <td>4.067820e+01</td>\n",
       "    </tr>\n",
       "    <tr>\n",
       "      <th>75%</th>\n",
       "      <td>7.866598e+05</td>\n",
       "      <td>3.304662e+14</td>\n",
       "      <td>3.071740e+01</td>\n",
       "      <td>4.884722e+01</td>\n",
       "    </tr>\n",
       "    <tr>\n",
       "      <th>max</th>\n",
       "      <td>1.043657e+06</td>\n",
       "      <td>2.402148e+16</td>\n",
       "      <td>1.799941e+02</td>\n",
       "      <td>8.999870e+01</td>\n",
       "    </tr>\n",
       "  </tbody>\n",
       "</table>\n",
       "</div>"
      ],
      "text/plain": [
       "                sid            id           lat           lng\n",
       "count  1.022658e+06  1.022658e+06  1.016495e+06  1.016495e+06\n",
       "mean   5.274856e+05  3.152851e+14 -1.529215e+01  3.421718e+01\n",
       "std    2.994567e+05  5.795031e+14  7.615085e+01  2.201081e+01\n",
       "min    1.000000e+00  7.000000e+00 -1.799830e+02 -9.000000e+01\n",
       "25%    2.688392e+05  2.522377e+08 -8.015575e+01  2.997555e+01\n",
       "50%    5.300405e+05  8.573350e+08 -2.450000e+00  4.067820e+01\n",
       "75%    7.866598e+05  3.304662e+14  3.071740e+01  4.884722e+01\n",
       "max    1.043657e+06  2.402148e+16  1.799941e+02  8.999870e+01"
      ]
     },
     "execution_count": 22,
     "metadata": {},
     "output_type": "execute_result"
    }
   ],
   "source": [
    "data_locations.describe() #use info and describe function to obtain information about the dataset"
   ]
  },
  {
   "cell_type": "markdown",
   "id": "ebe93012-4b4b-42ba-a3ca-5d2b28e3cb9b",
   "metadata": {},
   "source": [
    "The dimension is 1022658 rows and 23 columns. Most of the variables are qualitative and the only quantitative are sid, id, lat, lng. "
   ]
  },
  {
   "cell_type": "code",
   "execution_count": 48,
   "id": "ce72ebe7-f188-446f-a865-dac30af858d5",
   "metadata": {
    "tags": []
   },
   "outputs": [
    {
     "data": {
      "text/plain": [
       "<AxesSubplot:ylabel='Frequency'>"
      ]
     },
     "execution_count": 48,
     "metadata": {},
     "output_type": "execute_result"
    },
    {
     "data": {
      "image/png": "[encoded data removed]",
      "text/plain": [
       "<Figure size 432x288 with 1 Axes>"
      ]
     },
     "metadata": {
      "needs_background": "light"
     },
     "output_type": "display_data"
    }
   ],
   "source": [
    "data_locations.plot.hist(range=[0,1])\n"
   ]
  },
  {
   "cell_type": "markdown",
   "id": "6bf6a2f9-2cc1-4c48-a6eb-d7e5f03a5c67",
   "metadata": {},
   "source": [
    "We know that the values of latitude change in the range (90, -90) and the longitude values in the range(180, -180). So we want to check this condition."
   ]
  },
  {
   "cell_type": "code",
   "execution_count": 2,
   "id": "b51a1787-4d8c-4e75-8e11-a1903039fb64",
   "metadata": {},
   "outputs": [
    {
     "data": {
      "text/plain": [
       "295655"
      ]
     },
     "execution_count": 2,
     "metadata": {},
     "output_type": "execute_result"
    }
   ],
   "source": [
    "len([index for index,value in enumerate(data_locations.lat) if value > 90 or value< -90])"
   ]
  },
  {
   "cell_type": "code",
   "execution_count": 3,
   "id": "1a020d26-2ff5-4371-b58e-44d84c962815",
   "metadata": {},
   "outputs": [
    {
     "data": {
      "text/plain": [
       "0"
      ]
     },
     "execution_count": 3,
     "metadata": {},
     "output_type": "execute_result"
    }
   ],
   "source": [
    "len([index for index,value in enumerate(data_locations.lng) if value > 180 or value< -180])"
   ]
  },
  {
   "cell_type": "code",
   "execution_count": 4,
   "id": "448cc19c-418b-4c4c-bc93-45b12a75ea93",
   "metadata": {},
   "outputs": [
    {
     "data": {
      "text/plain": [
       "0"
      ]
     },
     "execution_count": 4,
     "metadata": {},
     "output_type": "execute_result"
    }
   ],
   "source": [
    "len([index for index,value in enumerate(data_locations.lat) if value > 180 or value< -180])"
   ]
  },
  {
   "cell_type": "code",
   "execution_count": 5,
   "id": "156e97db-4701-4814-9af2-f63c76172653",
   "metadata": {},
   "outputs": [
    {
     "data": {
      "text/plain": [
       "0"
      ]
     },
     "execution_count": 5,
     "metadata": {},
     "output_type": "execute_result"
    }
   ],
   "source": [
    "len([index for index,value in enumerate(data_locations.lng) if value > 90 or value< -90])"
   ]
  },
  {
   "cell_type": "markdown",
   "id": "bd0b4481-d218-42bf-87ab-5dc1ccd5473e",
   "metadata": {},
   "source": [
    "We notice that the conditions are not verified and this suppose the presence of an error in the collection of latitude and longitude data, so we have two alternatives: the first one is to eliminate the rows with strange values, bute they are 295655, so we prefer a second option.\n",
    "We assume that the latitude values and the longitude values are inverted so we swap them in a copy of the dataframe otherwise we should eliminate all the rows with values higher then (90, -90) for the latitude variable."
   ]
  },
  {
   "cell_type": "code",
   "execution_count": 53,
   "id": "e8576c10-d4c6-43b7-bc14-75bacd3138e3",
   "metadata": {},
   "outputs": [],
   "source": [
    "d_loc_c=data_locations.copy()"
   ]
  },
  {
   "cell_type": "code",
   "execution_count": null,
   "id": "c352d7b1-ba5c-4b98-ab43-4e0c6bba7d0c",
   "metadata": {},
   "outputs": [],
   "source": [
    "#d_loc_c.drop(d_loc_c[d_loc_c['lat'] > 90 or d_loc_c[d_loc_c['lat'] < -90].index, inplace = True)"
   ]
  },
  {
   "cell_type": "code",
   "execution_count": 54,
   "id": "db625d04-86b9-4006-b96c-b99afe8dd8b1",
   "metadata": {},
   "outputs": [],
   "source": [
    "d_loc_c.rename(columns={'lat': 'longitude', 'lng':'latitude'}, inplace=True)"
   ]
  },
  {
   "cell_type": "code",
   "execution_count": 55,
   "id": "c3761218-c030-4a92-9ac0-10d4b959b133",
   "metadata": {},
   "outputs": [
    {
     "data": {
      "text/plain": [
       "89.998698"
      ]
     },
     "execution_count": 55,
     "metadata": {},
     "output_type": "execute_result"
    }
   ],
   "source": [
    "d_loc_c.latitude.max()"
   ]
  },
  {
   "cell_type": "code",
   "execution_count": 56,
   "id": "59dbbf4f-baec-4f8b-9f1c-138d8e640db5",
   "metadata": {},
   "outputs": [
    {
     "data": {
      "text/plain": [
       "-90.0"
      ]
     },
     "execution_count": 56,
     "metadata": {},
     "output_type": "execute_result"
    }
   ],
   "source": [
    "d_loc_c.latitude.min()"
   ]
  },
  {
   "cell_type": "code",
   "execution_count": 57,
   "id": "03096cf8-ac1e-41d6-890b-8770115c52e9",
   "metadata": {},
   "outputs": [
    {
     "data": {
      "text/plain": [
       "179.994121"
      ]
     },
     "execution_count": 57,
     "metadata": {},
     "output_type": "execute_result"
    }
   ],
   "source": [
    "d_loc_c.longitude.max()"
   ]
  },
  {
   "cell_type": "code",
   "execution_count": 58,
   "id": "a8ef64fc-c788-4204-80a3-743a962d4956",
   "metadata": {},
   "outputs": [
    {
     "data": {
      "text/plain": [
       "-179.983"
      ]
     },
     "execution_count": 58,
     "metadata": {},
     "output_type": "execute_result"
    }
   ],
   "source": [
    "d_loc_c.longitude.min()"
   ]
  },
  {
   "cell_type": "markdown",
   "id": "007af666-67c2-4cd1-aa98-112f0fd4d2aa",
   "metadata": {},
   "source": [
    "We are working on the missing values:"
   ]
  },
  {
   "cell_type": "code",
   "execution_count": 60,
   "id": "65b08ef7-25e6-41f8-a4d8-eb93b122c0da",
   "metadata": {
    "tags": []
   },
   "outputs": [
    {
     "name": "stdout",
     "output_type": "stream",
     "text": [
      "street : 30.02%\n",
      "zip : 30.03%\n",
      "city : 8.36%\n",
      "region : 99.83%\n",
      "cd : 8.18%\n",
      "phone : 41.16%\n",
      "aj_exact_city_match : 2.17%\n",
      "aj_exact_country_match : 2.17%\n",
      "blurb : 60.23%\n",
      "dir_city_id : 51.53%\n",
      "dir_city_name : 51.53%\n",
      "dir_city_slug : 51.58%\n",
      "dir_country_id : 51.54%\n",
      "dir_country_name : 51.53%\n",
      "lat : 0.60%\n",
      "lng : 0.60%\n",
      "primary_alias_on_fb : 58.39%\n",
      "slug : 7.92%\n",
      "website : 39.05%\n"
     ]
    }
   ],
   "source": [
    "for column in data_locations.columns:\n",
    "    if data_locations[column].isnull().sum() > 0:\n",
    "        print(column, ': {:.2%}'.format(data_locations[column].isnull().sum() /\n",
    "                                               data_locations[column].shape[0]))"
   ]
  },
  {
   "cell_type": "code",
   "execution_count": 54,
   "id": "aeec6af9-79f2-4013-9204-71271cdfdab6",
   "metadata": {
    "tags": []
   },
   "outputs": [
    {
     "data": {
      "text/plain": [
       "sid                             0\n",
       "id                              0\n",
       "name                            0\n",
       "street                     306954\n",
       "zip                        307079\n",
       "city                        85492\n",
       "region                    1020898\n",
       "cd                          83648\n",
       "phone                      420970\n",
       "aj_exact_city_match         22148\n",
       "aj_exact_country_match      22148\n",
       "blurb                      615953\n",
       "dir_city_id                526960\n",
       "dir_city_name              526960\n",
       "dir_city_slug              527437\n",
       "dir_country_id             527030\n",
       "dir_country_name           526960\n",
       "lat                          6163\n",
       "lng                          6163\n",
       "primary_alias_on_fb        597127\n",
       "slug                        80990\n",
       "website                    399396\n",
       "cts                             0\n",
       "dtype: int64"
      ]
     },
     "execution_count": 54,
     "metadata": {},
     "output_type": "execute_result"
    }
   ],
   "source": [
    "data_locations.isnull().sum()"
   ]
  },
  {
   "cell_type": "markdown",
   "id": "a8fd3cf4-4402-41da-b56d-408ace1d40fe",
   "metadata": {},
   "source": [
    "As before for the qualitatives variables we choose to replace the NA values with an empty string."
   ]
  },
  {
   "cell_type": "code",
   "execution_count": 61,
   "id": "485ce22c-a5ac-469d-ab47-476318e0a6c9",
   "metadata": {},
   "outputs": [],
   "source": [
    "d_loc_c.street.fillna('', inplace=True)\n",
    "d_loc_c.zip.fillna('', inplace=True)\n",
    "d_loc_c.city.fillna('', inplace=True)\n",
    "d_loc_c.region.fillna('', inplace=True)\n",
    "d_loc_c.cd.fillna('', inplace=True)\n",
    "d_loc_c.phone.fillna('', inplace=True)\n",
    "d_loc_c.aj_exact_city_match.fillna('', inplace=True)\n",
    "d_loc_c.aj_exact_country_match.fillna('', inplace=True)\n",
    "d_loc_c.blurb.fillna('', inplace=True)\n",
    "d_loc_c.dir_city_id.fillna('', inplace=True)\n",
    "d_loc_c.dir_city_name.fillna('', inplace=True)\n",
    "d_loc_c.dir_city_slug.fillna('', inplace=True)\n",
    "d_loc_c.dir_country_id.fillna('', inplace=True)\n",
    "d_loc_c.dir_country_name.fillna('', inplace=True)\n",
    "d_loc_c.primary_alias_on_fb.fillna('', inplace=True)\n",
    "d_loc_c.slug.fillna('', inplace=True)\n",
    "d_loc_c.website.fillna('', inplace=True)\n",
    "d_loc_c.cts.fillna('', inplace=True)"
   ]
  },
  {
   "cell_type": "markdown",
   "id": "125b8261-3a73-44f8-aa4b-ff620cbb1469",
   "metadata": {},
   "source": [
    "For the latitude and longitude values we delete the rows with NA because if we inplace them with 0, that 0 will represent a specific point on the map and in the end we risk to have wrong locations."
   ]
  },
  {
   "cell_type": "code",
   "execution_count": 62,
   "id": "24df045a-1d3d-4da5-a061-884bcce4afc9",
   "metadata": {},
   "outputs": [],
   "source": [
    "d_loc_c.dropna(subset=['longitude','latitude'], inplace=True)"
   ]
  },
  {
   "cell_type": "code",
   "execution_count": 64,
   "id": "cfaf6701-e8d4-4995-b09c-d717a8263c03",
   "metadata": {},
   "outputs": [
    {
     "data": {
      "text/plain": [
       "<AxesSubplot:ylabel='Frequency'>"
      ]
     },
     "execution_count": 64,
     "metadata": {},
     "output_type": "execute_result"
    },
    {
     "data": {
      "image/png": "[encoded data removed]",
      "text/plain": [
       "<Figure size 432x288 with 1 Axes>"
      ]
     },
     "metadata": {
      "needs_background": "light"
     },
     "output_type": "display_data"
    }
   ],
   "source": [
    "d_loc_c.latitude.plot.hist(edgecolor='black', color=\"lightpink\", legend=True)"
   ]
  },
  {
   "cell_type": "code",
   "execution_count": 66,
   "id": "d4fa72c6-1744-4b9f-9190-3364945e35d6",
   "metadata": {},
   "outputs": [
    {
     "data": {
      "text/plain": [
       "<AxesSubplot:ylabel='Frequency'>"
      ]
     },
     "execution_count": 66,
     "metadata": {},
     "output_type": "execute_result"
    },
    {
     "data": {
      "image/png": "[encoded data removed]",
      "text/plain": [
       "<Figure size 432x288 with 1 Axes>"
      ]
     },
     "metadata": {
      "needs_background": "light"
     },
     "output_type": "display_data"
    }
   ],
   "source": [
    "d_loc_c.longitude.plot.hist(edgecolor='black', color=\"lightgreen\", legend=True)"
   ]
  },
  {
   "cell_type": "code",
   "execution_count": 67,
   "id": "4b155a09-0d7a-4bb4-8bdf-93413e3d1f4b",
   "metadata": {
    "tags": []
   },
   "outputs": [
    {
     "data": {
      "text/plain": [
       "sid                       0\n",
       "id                        0\n",
       "name                      0\n",
       "street                    0\n",
       "zip                       0\n",
       "city                      0\n",
       "region                    0\n",
       "cd                        0\n",
       "phone                     0\n",
       "aj_exact_city_match       0\n",
       "aj_exact_country_match    0\n",
       "blurb                     0\n",
       "dir_city_id               0\n",
       "dir_city_name             0\n",
       "dir_city_slug             0\n",
       "dir_country_id            0\n",
       "dir_country_name          0\n",
       "longitude                 0\n",
       "latitude                  0\n",
       "primary_alias_on_fb       0\n",
       "slug                      0\n",
       "website                   0\n",
       "cts                       0\n",
       "dtype: int64"
      ]
     },
     "execution_count": 67,
     "metadata": {},
     "output_type": "execute_result"
    }
   ],
   "source": [
    "d_loc_c.isnull().sum()"
   ]
  },
  {
   "cell_type": "code",
   "execution_count": 51,
   "id": "677a05c3-d934-48d4-af47-fc3a3f236841",
   "metadata": {},
   "outputs": [
    {
     "data": {
      "text/plain": [
       "179.994121"
      ]
     },
     "execution_count": 51,
     "metadata": {},
     "output_type": "execute_result"
    }
   ],
   "source": [
    "d_loc_c.lat.max()"
   ]
  },
  {
   "cell_type": "markdown",
   "id": "212117a0-f916-4558-aa33-3e0e1a9b6fff",
   "metadata": {},
   "source": [
    "For the instagram posts dataframe we have to use a different technique for read the file because of its dimention.\n",
    "So we will estract the varible that we will need."
   ]
  },
  {
   "cell_type": "code",
   "execution_count": 164,
   "id": "3a7b2af9-cd8e-4eed-a42a-a731ed2ff74f",
   "metadata": {
    "tags": []
   },
   "outputs": [],
   "source": [
    "data_posts_sid = pd.read_csv('instagram_posts.csv', delimiter='\\t', usecols=[ 'sid'])\n"
   ]
  },
  {
   "cell_type": "code",
   "execution_count": 165,
   "id": "6bbdcefc",
   "metadata": {},
   "outputs": [],
   "source": [
    "data_posts_sid_profile = pd.read_csv('instagram_posts.csv', delimiter='\\t', usecols=[ 'sid_profile'])\n"
   ]
  },
  {
   "cell_type": "code",
   "execution_count": 8,
   "id": "018f9355-7468-4be4-9a15-616a562032f5",
   "metadata": {},
   "outputs": [],
   "source": [
    "data_posts_post_id = pd.read_csv('instagram_posts.csv', delimiter='\\t', usecols=[ 'post_id'])\n"
   ]
  },
  {
   "cell_type": "code",
   "execution_count": 12,
   "id": "911acb39-2200-40dc-9465-616e5af047b2",
   "metadata": {},
   "outputs": [
    {
     "name": "stdout",
     "output_type": "stream",
     "text": [
      "       post_id\n",
      "0  BXdjjUlgcgq\n",
      "1  BVg0pbolYBC\n",
      "2  BRgkjcXFp3Q\n",
      "3  BKTKeNhjEA7\n",
      "4   8-NQrvoYLX\n",
      "              post_id\n",
      "42710192  BcpWMWGBfxh\n",
      "42710193  Ba6LZWwlCl8\n",
      "42710194  BPN0kM1hYUw\n",
      "42710195  BxsZ8nDBr-L\n",
      "42710196  BgNJ4EzHQwQ\n",
      "post_id    0\n",
      "dtype: int64\n"
     ]
    }
   ],
   "source": [
    "print(data_posts_post_id.head())\n",
    "print(data_posts_post_id.tail())\n",
    "print(data_posts_post_id.isnull().sum())"
   ]
  },
  {
   "cell_type": "markdown",
   "id": "4fe129c7-48c2-4781-ae95-a9d3a80d3ca7",
   "metadata": {},
   "source": [
    "In the EDA, we have shown the most appropriate methods for modifying datasets in order to clean them up and to make work easier. However, when we went to solve the research questions, we preferred to use the original dataset by extracting only the columns of interest for the question, when possible, and we then treated the individual columns to make the analysis faster and more efficient."
   ]
  },
  {
   "cell_type": "markdown",
   "id": "f72358cd",
   "metadata": {},
   "source": [
    "## **[RQ2] Let's explore the dataset by finding simple insights regarding the profile and posts.**\n",
    "\n",
    "\n",
    "\n",
    "\n",
    "\n"
   ]
  },
  {
   "cell_type": "markdown",
   "id": "ef21c608",
   "metadata": {},
   "source": [
    "### **Plot the number of posts for each profile in descending order.**"
   ]
  },
  {
   "cell_type": "code",
   "execution_count": 4,
   "id": "7dc5197f",
   "metadata": {},
   "outputs": [
    {
     "data": {
      "text/html": [
       "<div>\n",
       "<style scoped>\n",
       "    .dataframe tbody tr th:only-of-type {\n",
       "        vertical-align: middle;\n",
       "    }\n",
       "\n",
       "    .dataframe tbody tr th {\n",
       "        vertical-align: top;\n",
       "    }\n",
       "\n",
       "    .dataframe thead th {\n",
       "        text-align: right;\n",
       "    }\n",
       "</style>\n",
       "<table border=\"1\" class=\"dataframe\">\n",
       "  <thead>\n",
       "    <tr style=\"text-align: right;\">\n",
       "      <th></th>\n",
       "      <th>profile_id</th>\n",
       "      <th>profile_name</th>\n",
       "      <th>n_posts</th>\n",
       "    </tr>\n",
       "  </thead>\n",
       "  <tbody>\n",
       "    <tr>\n",
       "      <th>3990313</th>\n",
       "      <td>1.996648e+08</td>\n",
       "      <td>jasem33312</td>\n",
       "      <td>183730.0</td>\n",
       "    </tr>\n",
       "    <tr>\n",
       "      <th>2571453</th>\n",
       "      <td>8.563367e+09</td>\n",
       "      <td>koenigpic</td>\n",
       "      <td>142428.0</td>\n",
       "    </tr>\n",
       "    <tr>\n",
       "      <th>4338921</th>\n",
       "      <td>1.273455e+09</td>\n",
       "      <td>rudyanto62</td>\n",
       "      <td>126340.0</td>\n",
       "    </tr>\n",
       "    <tr>\n",
       "      <th>3942129</th>\n",
       "      <td>9.813508e+06</td>\n",
       "      <td>hometown_ni</td>\n",
       "      <td>125220.0</td>\n",
       "    </tr>\n",
       "    <tr>\n",
       "      <th>4219642</th>\n",
       "      <td>1.607309e+09</td>\n",
       "      <td>dwfitfiber_thailand</td>\n",
       "      <td>117262.0</td>\n",
       "    </tr>\n",
       "    <tr>\n",
       "      <th>...</th>\n",
       "      <td>...</td>\n",
       "      <td>...</td>\n",
       "      <td>...</td>\n",
       "    </tr>\n",
       "    <tr>\n",
       "      <th>2402230</th>\n",
       "      <td>1.050933e+10</td>\n",
       "      <td>faith.dever</td>\n",
       "      <td>0.0</td>\n",
       "    </tr>\n",
       "    <tr>\n",
       "      <th>2402229</th>\n",
       "      <td>8.779595e+09</td>\n",
       "      <td>sugarsprinkledglitter</td>\n",
       "      <td>0.0</td>\n",
       "    </tr>\n",
       "    <tr>\n",
       "      <th>377966</th>\n",
       "      <td>8.618561e+08</td>\n",
       "      <td>hannahkraft13</td>\n",
       "      <td>0.0</td>\n",
       "    </tr>\n",
       "    <tr>\n",
       "      <th>2402225</th>\n",
       "      <td>4.117964e+09</td>\n",
       "      <td>4pf_cj_</td>\n",
       "      <td>0.0</td>\n",
       "    </tr>\n",
       "    <tr>\n",
       "      <th>1243638</th>\n",
       "      <td>3.991297e+09</td>\n",
       "      <td>muricafer</td>\n",
       "      <td>0.0</td>\n",
       "    </tr>\n",
       "  </tbody>\n",
       "</table>\n",
       "<p>3452771 rows × 3 columns</p>\n",
       "</div>"
      ],
      "text/plain": [
       "           profile_id           profile_name   n_posts\n",
       "3990313  1.996648e+08             jasem33312  183730.0\n",
       "2571453  8.563367e+09              koenigpic  142428.0\n",
       "4338921  1.273455e+09             rudyanto62  126340.0\n",
       "3942129  9.813508e+06            hometown_ni  125220.0\n",
       "4219642  1.607309e+09    dwfitfiber_thailand  117262.0\n",
       "...               ...                    ...       ...\n",
       "2402230  1.050933e+10            faith.dever       0.0\n",
       "2402229  8.779595e+09  sugarsprinkledglitter       0.0\n",
       "377966   8.618561e+08          hannahkraft13       0.0\n",
       "2402225  4.117964e+09                4pf_cj_       0.0\n",
       "1243638  3.991297e+09              muricafer       0.0\n",
       "\n",
       "[3452771 rows x 3 columns]"
      ]
     },
     "execution_count": 4,
     "metadata": {},
     "output_type": "execute_result"
    }
   ],
   "source": [
    "profiles_n_posts = pd.read_csv('instagram_profiles.csv', sep = '\\t', usecols=['profile_id','profile_name','n_posts'])\n",
    "#sort values by the number of posts in descending order, after dropping NA values\n",
    "profiles_n_posts_sorted=profiles_n_posts.dropna(subset=['n_posts']).sort_values(by=\"n_posts\", ascending=False)\n",
    "profiles_n_posts_sorted"
   ]
  },
  {
   "cell_type": "markdown",
   "id": "434c3de0",
   "metadata": {},
   "source": [
    "As it is possible to see from this sorted table, there are some profiles which have a number of posts with a magnitude order of $10^5$, while in the tail it is evident that many profiles have zero posts that is actually plausible."
   ]
  },
  {
   "cell_type": "markdown",
   "id": "c06cca3f",
   "metadata": {},
   "source": [
    "###  What posts have the highest number of _likes_?"
   ]
  },
  {
   "cell_type": "code",
   "execution_count": 74,
   "id": "05d162db",
   "metadata": {
    "scrolled": true
   },
   "outputs": [
    {
     "data": {
      "text/html": [
       "<div>\n",
       "<style scoped>\n",
       "    .dataframe tbody tr th:only-of-type {\n",
       "        vertical-align: middle;\n",
       "    }\n",
       "\n",
       "    .dataframe tbody tr th {\n",
       "        vertical-align: top;\n",
       "    }\n",
       "\n",
       "    .dataframe thead th {\n",
       "        text-align: right;\n",
       "    }\n",
       "</style>\n",
       "<table border=\"1\" class=\"dataframe\">\n",
       "  <thead>\n",
       "    <tr style=\"text-align: right;\">\n",
       "      <th></th>\n",
       "      <th>post_id</th>\n",
       "      <th>numbr_likes</th>\n",
       "    </tr>\n",
       "  </thead>\n",
       "  <tbody>\n",
       "    <tr>\n",
       "      <th>19624085</th>\n",
       "      <td>Bt3yaXmAM0d</td>\n",
       "      <td>8822952.0</td>\n",
       "    </tr>\n",
       "    <tr>\n",
       "      <th>19623988</th>\n",
       "      <td>BuwffB7g8cK</td>\n",
       "      <td>5447066.0</td>\n",
       "    </tr>\n",
       "    <tr>\n",
       "      <th>19624082</th>\n",
       "      <td>Buc1gyZAaMQ</td>\n",
       "      <td>5116398.0</td>\n",
       "    </tr>\n",
       "    <tr>\n",
       "      <th>19623986</th>\n",
       "      <td>BvcukE8AMuG</td>\n",
       "      <td>4271466.0</td>\n",
       "    </tr>\n",
       "    <tr>\n",
       "      <th>39701024</th>\n",
       "      <td>BqSLFVBFLfq</td>\n",
       "      <td>4264745.0</td>\n",
       "    </tr>\n",
       "    <tr>\n",
       "      <th>6293907</th>\n",
       "      <td>BwTSXBKg7gN</td>\n",
       "      <td>3586546.0</td>\n",
       "    </tr>\n",
       "    <tr>\n",
       "      <th>19624086</th>\n",
       "      <td>Btw8pFXAvQm</td>\n",
       "      <td>3558599.0</td>\n",
       "    </tr>\n",
       "    <tr>\n",
       "      <th>19802016</th>\n",
       "      <td>BvC3n6_gqin</td>\n",
       "      <td>3533326.0</td>\n",
       "    </tr>\n",
       "    <tr>\n",
       "      <th>30850564</th>\n",
       "      <td>Bw7vqLrFkHi</td>\n",
       "      <td>3340297.0</td>\n",
       "    </tr>\n",
       "    <tr>\n",
       "      <th>39812576</th>\n",
       "      <td>Bw2gTH1AiDA</td>\n",
       "      <td>3311246.0</td>\n",
       "    </tr>\n",
       "  </tbody>\n",
       "</table>\n",
       "</div>"
      ],
      "text/plain": [
       "              post_id  numbr_likes\n",
       "19624085  Bt3yaXmAM0d    8822952.0\n",
       "19623988  BuwffB7g8cK    5447066.0\n",
       "19624082  Buc1gyZAaMQ    5116398.0\n",
       "19623986  BvcukE8AMuG    4271466.0\n",
       "39701024  BqSLFVBFLfq    4264745.0\n",
       "6293907   BwTSXBKg7gN    3586546.0\n",
       "19624086  Btw8pFXAvQm    3558599.0\n",
       "19802016  BvC3n6_gqin    3533326.0\n",
       "30850564  Bw7vqLrFkHi    3340297.0\n",
       "39812576  Bw2gTH1AiDA    3311246.0"
      ]
     },
     "execution_count": 74,
     "metadata": {},
     "output_type": "execute_result"
    }
   ],
   "source": [
    "#read only the columns of the files which contains the post id and and the number of likes\n",
    "posts_n_of_like=pd.read_csv('instagram_posts.csv', sep='\\t', usecols=['post_id','numbr_likes'])\n",
    "#sort in descending order and return the first 10 rows after removing NA values\n",
    "posts_n_of_like.dropna(subset=[\"numbr_likes\"]).sort_values(by=\"numbr_likes\", ascending=False).head(10)"
   ]
  },
  {
   "cell_type": "markdown",
   "id": "a463daac",
   "metadata": {},
   "source": [
    "In this table it is possible to observe the post id of posts with the higher number of likes which has a magnitude order of $10^6$."
   ]
  },
  {
   "cell_type": "markdown",
   "id": "f36f237a",
   "metadata": {},
   "source": [
    "### What posts have the most and the least number of comments?"
   ]
  },
  {
   "cell_type": "code",
   "execution_count": null,
   "id": "690bb9a6",
   "metadata": {},
   "outputs": [],
   "source": [
    "#read only the columns of post with the post id and the number of comments\n",
    "posts_n_of_comment=pd.read_csv('instagram_posts.csv', sep='\\t', usecols=['post_id','number_comments'])\n",
    "\n",
    "#filter only for the post id which have a significative number of posts(e.g. not equal to zero)\n",
    "posts_n_of_comment=posts_n_of_comment[posts_n_of_comment[\"number_comments\"]!=0]\n",
    "\n",
    "#sort by number of comments in descending order after removing eventual NA values\n",
    "posts_n_of_comments_sorted=posts_n_of_comment.dropna(subset=[\"number_comments\"]).sort_values(by=\"number_comments\", ascending=False)"
   ]
  },
  {
   "cell_type": "code",
   "execution_count": 95,
   "id": "144b9810",
   "metadata": {},
   "outputs": [
    {
     "data": {
      "text/html": [
       "<div>\n",
       "<style scoped>\n",
       "    .dataframe tbody tr th:only-of-type {\n",
       "        vertical-align: middle;\n",
       "    }\n",
       "\n",
       "    .dataframe tbody tr th {\n",
       "        vertical-align: top;\n",
       "    }\n",
       "\n",
       "    .dataframe thead th {\n",
       "        text-align: right;\n",
       "    }\n",
       "</style>\n",
       "<table border=\"1\" class=\"dataframe\">\n",
       "  <thead>\n",
       "    <tr style=\"text-align: right;\">\n",
       "      <th></th>\n",
       "      <th>post_id</th>\n",
       "      <th>number_comments</th>\n",
       "    </tr>\n",
       "  </thead>\n",
       "  <tbody>\n",
       "    <tr>\n",
       "      <th>41873060</th>\n",
       "      <td>Bx2sPAjHviO</td>\n",
       "      <td>488953.0</td>\n",
       "    </tr>\n",
       "    <tr>\n",
       "      <th>12164781</th>\n",
       "      <td>BuGjhWAhAW5</td>\n",
       "      <td>313997.0</td>\n",
       "    </tr>\n",
       "    <tr>\n",
       "      <th>33261751</th>\n",
       "      <td>BJ-rkpTgn1N</td>\n",
       "      <td>257488.0</td>\n",
       "    </tr>\n",
       "    <tr>\n",
       "      <th>11149127</th>\n",
       "      <td>BMtisIxjhtT</td>\n",
       "      <td>214365.0</td>\n",
       "    </tr>\n",
       "    <tr>\n",
       "      <th>9383817</th>\n",
       "      <td>BzOOWj3DfZK</td>\n",
       "      <td>189888.0</td>\n",
       "    </tr>\n",
       "    <tr>\n",
       "      <th>5427268</th>\n",
       "      <td>BoQoM-JFkPA</td>\n",
       "      <td>180635.0</td>\n",
       "    </tr>\n",
       "    <tr>\n",
       "      <th>25257169</th>\n",
       "      <td>Bwarws1lCok</td>\n",
       "      <td>173988.0</td>\n",
       "    </tr>\n",
       "    <tr>\n",
       "      <th>6220011</th>\n",
       "      <td>Bt4qlVDAZMH</td>\n",
       "      <td>170836.0</td>\n",
       "    </tr>\n",
       "    <tr>\n",
       "      <th>31689573</th>\n",
       "      <td>Bs9NhQkAcJA</td>\n",
       "      <td>166919.0</td>\n",
       "    </tr>\n",
       "    <tr>\n",
       "      <th>14257307</th>\n",
       "      <td>Bzqb95QI_1E</td>\n",
       "      <td>166198.0</td>\n",
       "    </tr>\n",
       "  </tbody>\n",
       "</table>\n",
       "</div>"
      ],
      "text/plain": [
       "              post_id  number_comments\n",
       "41873060  Bx2sPAjHviO         488953.0\n",
       "12164781  BuGjhWAhAW5         313997.0\n",
       "33261751  BJ-rkpTgn1N         257488.0\n",
       "11149127  BMtisIxjhtT         214365.0\n",
       "9383817   BzOOWj3DfZK         189888.0\n",
       "5427268   BoQoM-JFkPA         180635.0\n",
       "25257169  Bwarws1lCok         173988.0\n",
       "6220011   Bt4qlVDAZMH         170836.0\n",
       "31689573  Bs9NhQkAcJA         166919.0\n",
       "14257307  Bzqb95QI_1E         166198.0"
      ]
     },
     "execution_count": 95,
     "metadata": {},
     "output_type": "execute_result"
    }
   ],
   "source": [
    "#return the first ten rows to have the post with the most number of comments\n",
    "posts_n_of_comments_sorted.head(10)"
   ]
  },
  {
   "cell_type": "code",
   "execution_count": 490,
   "id": "085cae9f",
   "metadata": {},
   "outputs": [
    {
     "data": {
      "text/html": [
       "<div>\n",
       "<style scoped>\n",
       "    .dataframe tbody tr th:only-of-type {\n",
       "        vertical-align: middle;\n",
       "    }\n",
       "\n",
       "    .dataframe tbody tr th {\n",
       "        vertical-align: top;\n",
       "    }\n",
       "\n",
       "    .dataframe thead th {\n",
       "        text-align: right;\n",
       "    }\n",
       "</style>\n",
       "<table border=\"1\" class=\"dataframe\">\n",
       "  <thead>\n",
       "    <tr style=\"text-align: right;\">\n",
       "      <th></th>\n",
       "      <th>post_id</th>\n",
       "      <th>number_comments</th>\n",
       "    </tr>\n",
       "  </thead>\n",
       "  <tbody>\n",
       "    <tr>\n",
       "      <th>17510513</th>\n",
       "      <td>BvLC0JAheeI</td>\n",
       "      <td>1.0</td>\n",
       "    </tr>\n",
       "    <tr>\n",
       "      <th>17510522</th>\n",
       "      <td>Bu-RNK6AIjw</td>\n",
       "      <td>1.0</td>\n",
       "    </tr>\n",
       "    <tr>\n",
       "      <th>17510528</th>\n",
       "      <td>Bujp9mfAJGb</td>\n",
       "      <td>1.0</td>\n",
       "    </tr>\n",
       "    <tr>\n",
       "      <th>33713319</th>\n",
       "      <td>BuZ153vgPc-</td>\n",
       "      <td>1.0</td>\n",
       "    </tr>\n",
       "    <tr>\n",
       "      <th>17510546</th>\n",
       "      <td>Bu2vLi5hkIr</td>\n",
       "      <td>1.0</td>\n",
       "    </tr>\n",
       "    <tr>\n",
       "      <th>17510553</th>\n",
       "      <td>Bl04rwkAtZx</td>\n",
       "      <td>1.0</td>\n",
       "    </tr>\n",
       "    <tr>\n",
       "      <th>17510557</th>\n",
       "      <td>BlQ9YL7gdBH</td>\n",
       "      <td>1.0</td>\n",
       "    </tr>\n",
       "    <tr>\n",
       "      <th>17510559</th>\n",
       "      <td>BlQtw_-g2R4</td>\n",
       "      <td>1.0</td>\n",
       "    </tr>\n",
       "    <tr>\n",
       "      <th>17510562</th>\n",
       "      <td>Bs8W7IDlcQa</td>\n",
       "      <td>1.0</td>\n",
       "    </tr>\n",
       "    <tr>\n",
       "      <th>1</th>\n",
       "      <td>BVg0pbolYBC</td>\n",
       "      <td>1.0</td>\n",
       "    </tr>\n",
       "  </tbody>\n",
       "</table>\n",
       "</div>"
      ],
      "text/plain": [
       "              post_id  number_comments\n",
       "17510513  BvLC0JAheeI              1.0\n",
       "17510522  Bu-RNK6AIjw              1.0\n",
       "17510528  Bujp9mfAJGb              1.0\n",
       "33713319  BuZ153vgPc-              1.0\n",
       "17510546  Bu2vLi5hkIr              1.0\n",
       "17510553  Bl04rwkAtZx              1.0\n",
       "17510557  BlQ9YL7gdBH              1.0\n",
       "17510559  BlQtw_-g2R4              1.0\n",
       "17510562  Bs8W7IDlcQa              1.0\n",
       "1         BVg0pbolYBC              1.0"
      ]
     },
     "execution_count": 490,
     "metadata": {},
     "output_type": "execute_result"
    }
   ],
   "source": [
    "#return the last ten rows to show posts withthe least number of comments different from 0 (e.g. > 0)\n",
    "posts_n_of_comments_sorted.tail(n=10)"
   ]
  },
  {
   "cell_type": "markdown",
   "id": "a5ac2d25",
   "metadata": {},
   "source": [
    "The number of comments is lower than the number of likes that is obvious since a like is a more immediate reaction than a comment."
   ]
  },
  {
   "cell_type": "markdown",
   "id": "a5ff2e62",
   "metadata": {},
   "source": [
    "### How many posts include tagged locations, and how many do not? Show it using an appropriate chart and comment your results."
   ]
  },
  {
   "cell_type": "code",
   "execution_count": 180,
   "id": "8444aa30",
   "metadata": {},
   "outputs": [],
   "source": [
    "#read only the column with the location id\n",
    "posts_locations=pd.read_csv('instagram_posts.csv', sep='\\t', usecols=['profile_id', 'location_id' ])\n",
    "#calculate the percentage of posts with location over the total by considering the number of rows in which there are not NA\n",
    "posts_with_location=posts_locations['location_id'].notnull().values.sum()/posts_locations.shape[0]*100\n",
    "#repeat for posts without location as the numers of rows with NA values over the total\n",
    "posts_without_location=posts_locations['location_id'].isnull().values.sum()/posts_locations.shape[0]*100"
   ]
  },
  {
   "cell_type": "code",
   "execution_count": 146,
   "id": "ed04d30f",
   "metadata": {},
   "outputs": [
    {
     "data": {
      "image/png": "[encoded data removed]",
      "text/plain": [
       "<Figure size 432x288 with 1 Axes>"
      ]
     },
     "metadata": {},
     "output_type": "display_data"
    }
   ],
   "source": [
    "#plot a pie chart with the proportion\n",
    "labels=('Posts with location', \"Posts without location\")\n",
    "sizes=[posts_with_location, posts_without_location]\n",
    "explode=(0.1, 0.1)\n",
    "pie_chart=plt.pie(sizes, labels=labels, explode=explode, autopct='%1.1f%%',\n",
    "        shadow=True, startangle=90) \n",
    "plt.show()"
   ]
  },
  {
   "cell_type": "markdown",
   "id": "f82bb851",
   "metadata": {},
   "source": [
    "According to this analysis users tend to add locations to their posts in the around 70% of the cases probably due to the fact that in this way they could let their followers know where they are without explicitely stating it in the post caption. Moreover if the profile is public, adding locations will give more exposure on instagram and this could be useful for example for business purposes, in particular in the case of a business account."
   ]
  },
  {
   "cell_type": "markdown",
   "id": "94bdfb77",
   "metadata": {},
   "source": [
    "### How many posts include only photos? How many also have videos?"
   ]
  },
  {
   "cell_type": "code",
   "execution_count": 107,
   "id": "8a31ffdd",
   "metadata": {},
   "outputs": [],
   "source": [
    "#read only the column with posts type\n",
    "posts_type=pd.read_csv('instagram_posts.csv', sep='\\t', usecols=['post_type'])"
   ]
  },
  {
   "cell_type": "code",
   "execution_count": 109,
   "id": "6ef113e1",
   "metadata": {},
   "outputs": [
    {
     "name": "stdout",
     "output_type": "stream",
     "text": [
      "The number of posts including only photos is:  41534486\n"
     ]
    }
   ],
   "source": [
    "#filter for the posts which contains only photo and print the shape of the column (number of rows)\n",
    "print(\"The number of posts including only photos is: \", posts_type[posts_type[\"post_type\"]==1].shape[0])"
   ]
  },
  {
   "cell_type": "code",
   "execution_count": 110,
   "id": "4c583149",
   "metadata": {
    "scrolled": true
   },
   "outputs": [
    {
     "name": "stdout",
     "output_type": "stream",
     "text": [
      "The number of posts including also video is:  40943\n"
     ]
    }
   ],
   "source": [
    "#filter for the posts which are multy-type and print the shape of the column\n",
    "print(\"The number of posts including also video is: \", posts_type[posts_type[\"post_type\"]==3].shape[0])"
   ]
  },
  {
   "cell_type": "markdown",
   "id": "71a2cf26",
   "metadata": {},
   "source": [
    "### What's the percentage of business accounts vs non-business? What can you interpret regarding that percentage?"
   ]
  },
  {
   "cell_type": "code",
   "execution_count": 112,
   "id": "3bb9ab00",
   "metadata": {},
   "outputs": [],
   "source": [
    "#read only the column which indicates if the account is business or not\n",
    "profiles_business=pd.read_csv('instagram_profiles.csv', sep = '\\t', usecols=['is_business_account'])"
   ]
  },
  {
   "cell_type": "code",
   "execution_count": 147,
   "id": "239abbbf",
   "metadata": {},
   "outputs": [
    {
     "name": "stdout",
     "output_type": "stream",
     "text": [
      "The percentage of business accounts is: 18.97 %\n"
     ]
    }
   ],
   "source": [
    "#return the proportion of business accounts on the total (business accounts/total dimension of the column), considering the NA values as False\n",
    "print(\"The percentage of business accounts is:\", round((profiles_business.loc[:,\"is_business_account\"]==True).sum()/(profiles_business.shape[0])*100, 2),\"%\")"
   ]
  },
  {
   "cell_type": "code",
   "execution_count": 119,
   "id": "3d74cc0c",
   "metadata": {},
   "outputs": [
    {
     "name": "stdout",
     "output_type": "stream",
     "text": [
      "The percentage of business accounts is: 24.82 %\n"
     ]
    }
   ],
   "source": [
    "#repeat operation removing NA not considering NA as False\n",
    "print(\"The percentage of business accounts is:\", round((profiles_business.loc[:,\"is_business_account\"]==True).sum()/(profiles_business.dropna().shape[0])*100, 2), \"%\")"
   ]
  },
  {
   "cell_type": "markdown",
   "id": "f37cf8c4-6211-45f6-9a55-6dc0293268c7",
   "metadata": {},
   "source": [
    "## **[RQ3] Now it's important to understand the most common times in which users publish their posts**"
   ]
  },
  {
   "cell_type": "markdown",
   "id": "2a41d729-c042-4d3a-bdd3-3b6fedba5bea",
   "metadata": {},
   "source": [
    "### What is the most common time in which users publish their posts?"
   ]
  },
  {
   "cell_type": "markdown",
   "id": "444dd659-d8b5-4040-9bb0-04449a846820",
   "metadata": {},
   "source": [
    "To answer to this question we can use the Counter from the package 'collection' of Python. Thanks to the Counter and its function 'update()', we can simply iterate through the posts, dividing the file in chunks and extracting only the columns useful for this exercise (and for the 6.2), for a better efficiency. "
   ]
  },
  {
   "cell_type": "code",
   "execution_count": 71,
   "id": "f92f53ee-bf41-4b9b-9f35-2a754b857835",
   "metadata": {},
   "outputs": [
    {
     "name": "stderr",
     "output_type": "stream",
     "text": [
      "171it [05:19,  1.87s/it]"
     ]
    },
    {
     "name": "stdout",
     "output_type": "stream",
     "text": [
      "The most common time in which users publish their posts is: 21:00:09\n"
     ]
    },
    {
     "name": "stderr",
     "output_type": "stream",
     "text": [
      "\n"
     ]
    }
   ],
   "source": [
    "#initialize a counter for the times of the posts\n",
    "c = Counter()\n",
    "\n",
    "#divide in chunks the file\n",
    "for chunk in tqdm(pd.read_csv('~/Documents/Data_Science/ADM/homeworks/instagram_posts.csv', delimiter = '\\t', chunksize = 250000, usecols = ['cts', 'numbr_likes', 'number_comments'], \n",
    "                              parse_dates=['cts'], date_parser=pd.to_datetime)):\n",
    "    #update the counter with the times of the posts in the current chunk\n",
    "    chunk.dropna(subset=['cts'], inplace = True)\n",
    "    chunk_times = [t.time() for t in chunk.cts]\n",
    "    c.update(chunk_times)\n",
    "    \n",
    "print(\"The most common time in which users publish their posts is:\", c.most_common(1)[0][0] )"
   ]
  },
  {
   "cell_type": "markdown",
   "id": "e5ff3d02-0bad-472c-9deb-502652863e1a",
   "metadata": {},
   "source": [
    "We can slightly modify the code to obtain the most common time in which users publish their posts, considerign a precision to the minute or to the hour."
   ]
  },
  {
   "cell_type": "code",
   "execution_count": null,
   "id": "734ff508-b22e-46f3-9c84-ebd5d47289f7",
   "metadata": {},
   "outputs": [
    {
     "name": "stderr",
     "output_type": "stream",
     "text": [
      "171it [05:43,  2.01s/it]"
     ]
    },
    {
     "name": "stdout",
     "output_type": "stream",
     "text": [
      "The most common time in which users publish their posts is: 18:00\n"
     ]
    },
    {
     "name": "stderr",
     "output_type": "stream",
     "text": [
      "\n"
     ]
    }
   ],
   "source": [
    "#or to be precised at the minute and not at the second:\n",
    "#initialize a counter for the times of the posts\n",
    "c2 = Counter()\n",
    "\n",
    "#divide in chunks the file\n",
    "for chunk in tqdm(pd.read_csv('~/Documents/Data_Science/ADM/homeworks/instagram_posts.csv', delimiter = '\\t', chunksize = 250000, \n",
    "                              usecols = ['cts', 'numbr_likes', 'number_comments'], parse_dates=['cts'], date_parser=pd.to_datetime)):\n",
    "    #update the counter with the times of the posts in the current chunk\n",
    "    chunk_times = [t.time().isoformat(timespec = 'minutes') for t in chunk.cts if not pd.isnull(t)]\n",
    "    c2.update(chunk_times)\n",
    "    \n",
    "print(\"The most common time in which users publish their posts is:\", c2.most_common(1)[0][0] )\n"
   ]
  },
  {
   "cell_type": "code",
   "execution_count": null,
   "id": "ddd42315-7cef-4ca4-94c9-9aa180909296",
   "metadata": {},
   "outputs": [
    {
     "name": "stderr",
     "output_type": "stream",
     "text": [
      "171it [05:34,  1.95s/it]"
     ]
    },
    {
     "name": "stdout",
     "output_type": "stream",
     "text": [
      "The most common time in which users publish their posts is: 19\n"
     ]
    },
    {
     "name": "stderr",
     "output_type": "stream",
     "text": [
      "\n"
     ]
    }
   ],
   "source": [
    "#also the case of the precision at the hour:\n",
    "#initialize a counter for the times of the posts\n",
    "c3 = Counter()\n",
    "\n",
    "#divide in chunks the file\n",
    "for chunk in tqdm(pd.read_csv('~/Documents/Data_Science/ADM/homeworks/instagram_posts.csv', delimiter = '\\t', chunksize = 250000, \n",
    "                              usecols = ['cts', 'numbr_likes', 'number_comments'], parse_dates=['cts'], date_parser=pd.to_datetime)):\n",
    "    #update the counter with the times of the posts in the current chunk\n",
    "    chunk_times = [t.time().isoformat(timespec = 'hours') for t in chunk.cts if not pd.isnull(t)]\n",
    "    c2.update(chunk_times)\n",
    "\n",
    "print(\"The most common time in which users publish their posts is:\", c2.most_common(1)[0][0] )"
   ]
  },
  {
   "cell_type": "markdown",
   "id": "a85fc662-1f54-49a0-a2ba-13de45cb883f",
   "metadata": {},
   "source": [
    "The results are different from each other, but we can see how the interval of time is always the late afternoon/evening. This result makes sense because that is the time when people disconnect from work or have finished studying."
   ]
  },
  {
   "cell_type": "markdown",
   "id": "760675c3-22bc-4845-a388-d48855866a86",
   "metadata": {},
   "source": [
    "### Create a function that receives a time intervals list as a parameter and returns a plot with the number of posts for each given interval."
   ]
  },
  {
   "cell_type": "code",
   "execution_count": 72,
   "id": "345d8f6a-b0a2-4eb3-9aec-038f71ac51b7",
   "metadata": {},
   "outputs": [],
   "source": [
    "def plot_interval_posts(intervals, counter):\n",
    "    '''\n",
    "    Function that takes in input \n",
    "    - a list of time intervals  \n",
    "    - a Counter providing the number of posts of every possible time (among the ones in the file) \n",
    "    Returns the number of posts between each one of the time intervals\n",
    "    '''\n",
    "    #initialize the output array\n",
    "    val = np.zeros(len(intervals), dtype = np.int32)\n",
    "\n",
    "    #for every value in the Counter, check in which interval is comprehended\n",
    "    for ti in counter:\n",
    "        for interval, i in zip(intervals, range(7)):\n",
    "            if ti >= interval[0] and ti <= interval[1]:\n",
    "                val[i] += counter[ti]\n",
    "                break\n",
    "    return val"
   ]
  },
  {
   "cell_type": "markdown",
   "id": "e63eb456-9481-449d-a58c-88a72f5b288e",
   "metadata": {},
   "source": [
    "### Use the function that you created in the previous literal to plot the number of posts between the following time intervals:<br>\n",
    "Initial time | Final Time\n",
    "------------ | ----------\n",
    "06:00:00      | 10:59:59\n",
    "11:00:00      | 13:59:59\n",
    "14:00:00      | 16:59:59\n",
    "17:00:00      | 19:59:59\n",
    "20:00:00      | 23:59:59\n",
    "00:00:00      | 02:59:59\n",
    "03:00:00      | 05:59:59\n"
   ]
  },
  {
   "cell_type": "code",
   "execution_count": 73,
   "id": "101c21a7-214d-4e0f-bbec-73fff894beaf",
   "metadata": {},
   "outputs": [
    {
     "data": {
      "image/png": "[encoded data removed]",
      "text/plain": [
       "<Figure size 432x288 with 1 Axes>"
      ]
     },
     "metadata": {
      "needs_background": "light"
     },
     "output_type": "display_data"
    }
   ],
   "source": [
    "#define the time intervals\n",
    "intervals = [(datetime.time(6,0,0), datetime.time(10,59,59)), (datetime.time(11,0,0), datetime.time(13,59,59)), \n",
    "             (datetime.time(14,0,0), datetime.time(16,59,59)), (datetime.time(17,0,0), datetime.time(19,59,59)),\n",
    "            (datetime.time(20,0,0), datetime.time(23,59,59)),(datetime.time(0,0,0), datetime.time(2,59,59)), (datetime.time(3,0,0), datetime.time(5,59,59))]\n",
    "\n",
    "#plot\n",
    "plt.bar(np.array([str(interval[0]) + '-'+str(interval[1]) for interval in intervals]),plot_interval_posts(intervals, c))\n",
    "plt.xticks(rotation=90)\n",
    "plt.show()"
   ]
  },
  {
   "cell_type": "markdown",
   "id": "545ca924-8d57-416b-8bb9-b3e4c398a132",
   "metadata": {},
   "source": [
    "Though this histogram we have the confirm of the results obtained in the first question of the RQ3 block."
   ]
  },
  {
   "cell_type": "markdown",
   "id": "b6c00fe6",
   "metadata": {},
   "source": [
    "\n",
    "\n",
    "## **[RQ4] In most cases, we will not have a consistent dataset, and the one we are dealing with is not an exception (ex. in the given datasets, you may not find the information of the profiles for some of the posts). So let’s enhance our analysis.**\n",
    "\n"
   ]
  },
  {
   "cell_type": "markdown",
   "id": "b3d70f49",
   "metadata": {},
   "source": [
    "### Write a function that, given a profile_id, will be able to return the posts that belong to the given profile_id."
   ]
  },
  {
   "cell_type": "code",
   "execution_count": 249,
   "id": "fd2e0306",
   "metadata": {},
   "outputs": [],
   "source": [
    "post = pd.read_csv('instagram_posts.csv', sep='\\t', usecols = ['profile_id','location_id','numbr_likes','number_comments','post_type','post_id','description']) "
   ]
  },
  {
   "cell_type": "code",
   "execution_count": 34,
   "id": "33e58e91",
   "metadata": {},
   "outputs": [],
   "source": [
    "def post_extraction(profile_id, df):\n",
    "    ''' profile_id : profile_id in which we are interested have the post\n",
    "    df : dataframe of profile\n",
    "    the function return the post id for the choosen user while print no post for the user in the case inside \n",
    "    the database there is not any user with that profile_id'''\n",
    "    if df.loc[df['profile_id'] ==profile_id ].shape[0] >=1:\n",
    "        return df.loc[df['profile_id'] ==profile_id ]['post_id'].values\n",
    "    else:\n",
    "        return None"
   ]
  },
  {
   "cell_type": "code",
   "execution_count": 319,
   "id": "27dc2946",
   "metadata": {},
   "outputs": [
    {
     "data": {
      "text/plain": [
       "array(['BtgBr-hHXez', 'Bs04k58nGY6', 'BzBbR1YAU81', 'By_mhIkAyyY',\n",
       "       'Bx95gbegM7R', 'BxrrTRmhtlt', 'BxPfAzeHn7Q', 'BvoQOd7Hr5Q',\n",
       "       'BvU4ZuAnZdy', 'BvIFGeGnpTf', 'BuxD55_nB5A', 'Bt5rpNfnBkp'],\n",
       "      dtype=object)"
      ]
     },
     "execution_count": 319,
     "metadata": {},
     "output_type": "execute_result"
    }
   ],
   "source": [
    "post_extraction(profile['profile_id'][2], post)"
   ]
  },
  {
   "cell_type": "markdown",
   "id": "7b095b2f",
   "metadata": {},
   "source": [
    "### Write another function that, given an input n (an integer), will return the posts that belong to the n top posted profiles (top n profiles that have posted the highest number of posts) that their data is available in the profile.csv using the previously written function."
   ]
  },
  {
   "cell_type": "code",
   "execution_count": 367,
   "id": "78b1b18e",
   "metadata": {},
   "outputs": [],
   "source": [
    "def post_n_top_posted(n):\n",
    "    ''' n is the number of the user that you want to see which have posted more'''\n",
    "    lista = []\n",
    "    top_10_profile_per_posts_profile_name = list(profile.sort_values(by = 'n_posts', ascending = False).reset_index(drop=True).loc[:n-1]['profile_name'].values)\n",
    "    top_10_profile_per_posts_profile_id = list(profile.sort_values(by = 'n_posts', ascending = False).reset_index(drop=True).loc[:n-1]['profile_id'].values)\n",
    "    for i,j in zip(top_10_profile_per_posts_profile_id, top_10_profile_per_posts_profile_name):\n",
    "        lista.append([post_extraction(i,post),j,i])\n",
    "    return lista\n",
    "#the function returns a list with the post id, the username and the profile id of the n top posted profiles"
   ]
  },
  {
   "cell_type": "code",
   "execution_count": 368,
   "id": "3a8d352d",
   "metadata": {},
   "outputs": [
    {
     "data": {
      "text/plain": [
       "[[array(['Bq3hP3Khp8J', 'Bq3hN53hUsD', 'BCqCe9LypeF', '20Wu4zypd2',\n",
       "         'BrKq76AhadU', 'Bq_MjFzB_Wt', 'Bq_MiKhhP05', 'BpQ2cmKF-W0',\n",
       "         '3V4OeXypTT', 'BzUmjr2pgni', 'BzUmictJSO1', 'BzUmhW0pjrN',\n",
       "         'BzUmgscJEK4', 'BzUmgBYJzoS', 'BzUmfZspDqA', 'BzUmejDptYx',\n",
       "         'BzUmdnupYxW', 'BzUmcZRpTTn', 'BzScUjhJiwK', 'BzRkojLJBMQ',\n",
       "         'BzRkmb3JXea'], dtype=object),\n",
       "  'jasem33312',\n",
       "  199664772.0],\n",
       " [array(['BxJpvMrpl0n', 'BxJpeX2pXeN', 'BxJptNSpk6g', 'BxJpzW4J6Aq',\n",
       "         'BxJpgQMJa66', 'BxJp2qgpVJo', 'BxJpxSLp4rB', 'BxJpcZ0JRqN',\n",
       "         'BxJp4i3pArJ', 'BxJpq3dppxY', 'BxJp6dVJvtO', 'BxJposzpeA7',\n",
       "         'BxJpmohpwK2', 'BxJpkrrJ0b3', 'BxJpijSJd_f'], dtype=object),\n",
       "  'koenigpic',\n",
       "  8563366588.0],\n",
       " [array(['BpfufadAl1f', 'Bz6mD1VpaJB', 'BuCyAT8Abu3', 'BxD_1nXgoBG',\n",
       "         'BvYZl1yAubo', 'BrkhuwcATjv', 'BwMTtZ5g4RY', 'Brt9v5VATSp',\n",
       "         'Bx7F9xKJCN2', 'BvNCnhMgdAl', 'ByBp307pDMh', 'ByPPM0Mps4a',\n",
       "         'ByPPFlhJrbA', 'Bz7fTyVpLLQ', 'Bz7a1vgJzl2', 'Bz6mutIJCHA',\n",
       "         'Bz6mkhBpul2', 'Bz6mbkwHeJJ', 'Bz6mHZFp3zI', 'Bz6mAlXpyCK',\n",
       "         'Bz6l-HkpF8G', 'Bz6lo6RpKQF', 'Bz6VVamJ73y', 'Bz4nObeJBHe',\n",
       "         'BvJIB8PgrRJ'], dtype=object),\n",
       "  'rudyanto62',\n",
       "  1273455368.0]]"
      ]
     },
     "execution_count": 368,
     "metadata": {},
     "output_type": "execute_result"
    }
   ],
   "source": [
    "#try the post_n_top_posted function\n",
    "post_n_top_posted(3) "
   ]
  },
  {
   "cell_type": "markdown",
   "id": "883f69e9",
   "metadata": {},
   "source": [
    "### What is the average number of \"likes\" and comments of the top 10 profiles with the highest number of posts which their information is available in profile.csv?"
   ]
  },
  {
   "cell_type": "code",
   "execution_count": 378,
   "id": "ff4b0d70",
   "metadata": {},
   "outputs": [
    {
     "name": "stdout",
     "output_type": "stream",
     "text": [
      "__________\n",
      "For user jasem33312\n",
      "Number of likes: 7.666666666666667\n",
      "Number of comments: 0.0\n",
      "__________\n",
      "For user koenigpic\n",
      "Number of likes: 0.0\n",
      "Number of comments: 0.0\n",
      "__________\n",
      "For user rudyanto62\n",
      "Number of likes: 2.96\n",
      "Number of comments: 0.04\n",
      "__________\n",
      "For user hometown_ni\n",
      "Number of likes: 0.2962962962962963\n",
      "Number of comments: 0.0\n",
      "__________\n",
      "For user dwfitfiber_thailand\n",
      "Number of likes: 1.5405405405405406\n",
      "Number of comments: 0.0\n",
      "__________\n",
      "For user waxking911\n",
      "Number of likes: 2.026315789473684\n",
      "Number of comments: 0.18421052631578946\n",
      "__________\n",
      "For user gamt_official\n",
      "Number of likes: 6.477611940298507\n",
      "Number of comments: 0.04477611940298507\n",
      "__________\n",
      "For user collarosedw_official\n",
      "Number of likes: 0.4\n",
      "Number of comments: 0.04\n",
      "__________\n",
      "For user gamt_authentic\n",
      "Number of likes: 3.921875\n",
      "Number of comments: 0.0\n",
      "__________\n",
      "For user ivankkkka.trmp\n",
      "Number of likes: nan\n",
      "Number of comments: nan\n"
     ]
    }
   ],
   "source": [
    "lista = post_n_top_posted(10) #call post_n_top_posted with n=10\n",
    "for i in range(len(lista)):\n",
    "    print('__________')\n",
    "    print('For user', lista[i][1]) #lista[1] profile_name\n",
    "    print('Number of likes:', post[post['profile_id']==lista[i][2]]['numbr_likes'].mean()) #lista[2] profile_id\n",
    "    print('Number of comments:', post[post['profile_id']==lista[i][2]]['number_comments'].mean())"
   ]
  },
  {
   "cell_type": "markdown",
   "id": "3c7f3196",
   "metadata": {},
   "source": [
    "  \n",
    "   \n",
    "### Plot the number of posts that these top 10 profiles have sent on Instagram in the given interval in question RQ3. Interpret the resulting chart."
   ]
  },
  {
   "cell_type": "code",
   "execution_count": 256,
   "id": "f3244168",
   "metadata": {},
   "outputs": [],
   "source": [
    "#read only the columns with profile_id and cts\n",
    "post_time = pd.read_csv('instagram_posts.csv', sep='\\t', usecols = ['profile_id','cts'])"
   ]
  },
  {
   "cell_type": "code",
   "execution_count": 257,
   "id": "7c409c5f",
   "metadata": {},
   "outputs": [],
   "source": [
    "#merge to extract from the post dataset only the rows associated to the top 10 users in terms of n_posts\n",
    "top_10_n_posts=profiles_n_posts_sorted[:10] #use the sorted profile dataset generated for RQ2\n",
    "input_counter=top_10_n_posts.merge(post_time, on='profile_id', how='left')"
   ]
  },
  {
   "cell_type": "code",
   "execution_count": 280,
   "id": "bc841d3a",
   "metadata": {},
   "outputs": [],
   "source": [
    "#drop NA values\n",
    "input_counter_without_na=input_counter.dropna()"
   ]
  },
  {
   "cell_type": "code",
   "execution_count": 281,
   "id": "a3594a0c",
   "metadata": {},
   "outputs": [],
   "source": [
    "#convert the cts column to datetime.time\n",
    "input_counter_to_datetime=pd.to_datetime(list(input_counter_without_na['cts'])).time"
   ]
  },
  {
   "cell_type": "code",
   "execution_count": 282,
   "id": "48b09427",
   "metadata": {},
   "outputs": [],
   "source": [
    "#create a counter\n",
    "c_top_10=Counter(input_counter_to_datetime)"
   ]
  },
  {
   "cell_type": "markdown",
   "id": "a469e976",
   "metadata": {},
   "source": [
    "Then we used the same function created for RQ3."
   ]
  },
  {
   "cell_type": "code",
   "execution_count": 283,
   "id": "035b9743",
   "metadata": {
    "scrolled": true
   },
   "outputs": [
    {
     "data": {
      "image/png": "[encoded data removed]",
      "text/plain": [
       "<Figure size 432x288 with 1 Axes>"
      ]
     },
     "metadata": {
      "needs_background": "light"
     },
     "output_type": "display_data"
    }
   ],
   "source": [
    "def plot_interval_posts(intervals, counter):\n",
    "    '''\n",
    "    Function that takes in input \n",
    "    - a list of time intervals  \n",
    "    - a Counter providing the number of posts of every possible time (among the ones in the file) \n",
    "    Returns the number of posts between each one of the time intervals\n",
    "    '''\n",
    "    #initialize the output array\n",
    "    val = np.zeros(len(intervals), dtype = 'int32')\n",
    "    #err = 0\n",
    "    #for every value in the Counter, check in which interval is comprehended\n",
    "    for ti in counter:\n",
    "        for interval, i in zip(intervals, range(7)):\n",
    "            if ti >= interval[0] and ti <= interval[1]:\n",
    "                val[i] += counter[ti]\n",
    "                break\n",
    "            #err+=1\n",
    "    #print(err)\n",
    "    return val\n",
    "\n",
    "#define the time intervals\n",
    "intervals = [(datetime.time(6,0,0), datetime.time(10,59,59)), (datetime.time(11,0,0), datetime.time(13,59,59)), \n",
    "             (datetime.time(14,0,0), datetime.time(16,59,59)), (datetime.time(17,0,0), datetime.time(19,59,59)),\n",
    "            (datetime.time(20,0,0), datetime.time(23,59,59)),(datetime.time(0,0,0), datetime.time(2,59,59)), (datetime.time(3,0,0), datetime.time(5,59,59))]\n",
    "\n",
    "#plot\n",
    "plt.bar(np.array([str(interval[0]) + '-'+str(interval[1]) for interval in intervals]),plot_interval_posts(intervals, c_top_10 ))\n",
    "plt.xticks(rotation=90)\n",
    "plt.show()\n"
   ]
  },
  {
   "cell_type": "markdown",
   "id": "e2a80b8e",
   "metadata": {},
   "source": [
    "In this plot we can observe that the intervals most present for the top 10 users are 6 to 11 am and 3 to 6 am. The first interval is predictable since applying the same function to the whole dataset it turned out to be one of the most frequent ones regarding the publication of posts. The second one is a bit strange because we do not tend to expect a user to publish during the night but at the same time since we are analyzing a small number of posts compared to the total it is probably due to the presence of a user who tends to publish at that time. Further analysis filtering by users would allow us to clarify wheter this could be the reason or it's due to randomness. Similarly, at intermediate times we do not observe as high a posting rate as the plot obtained on the total dataset in the sense that there are few posts at peak times."
   ]
  },
  {
   "cell_type": "markdown",
   "id": "71027f30",
   "metadata": {},
   "source": [
    "## [RQ5] The most influential users are the ones with the highest number of “followers\", you can now look more into their activity."
   ]
  },
  {
   "cell_type": "markdown",
   "id": "e48254b3",
   "metadata": {},
   "source": [
    "\n",
    "### Plot the top 10 most popular users in terms of followers and their number of posts.\n",
    "\n"
   ]
  },
  {
   "cell_type": "code",
   "execution_count": 362,
   "id": "d0b9cd04",
   "metadata": {},
   "outputs": [
    {
     "data": {
      "text/html": [
       "<div>\n",
       "<style scoped>\n",
       "    .dataframe tbody tr th:only-of-type {\n",
       "        vertical-align: middle;\n",
       "    }\n",
       "\n",
       "    .dataframe tbody tr th {\n",
       "        vertical-align: top;\n",
       "    }\n",
       "\n",
       "    .dataframe thead th {\n",
       "        text-align: right;\n",
       "    }\n",
       "</style>\n",
       "<table border=\"1\" class=\"dataframe\">\n",
       "  <thead>\n",
       "    <tr style=\"text-align: right;\">\n",
       "      <th></th>\n",
       "      <th>sid</th>\n",
       "      <th>profile_id</th>\n",
       "      <th>profile_name</th>\n",
       "      <th>followers</th>\n",
       "      <th>n_posts</th>\n",
       "    </tr>\n",
       "  </thead>\n",
       "  <tbody>\n",
       "    <tr>\n",
       "      <th>0</th>\n",
       "      <td>4184446</td>\n",
       "      <td>4721049632.0</td>\n",
       "      <td>jphillip033</td>\n",
       "      <td>146.0</td>\n",
       "      <td>170.0</td>\n",
       "    </tr>\n",
       "  </tbody>\n",
       "</table>\n",
       "</div>"
      ],
      "text/plain": [
       "       sid   profile_id profile_name  followers  n_posts\n",
       "0  4184446 4721049632.0  jphillip033      146.0    170.0"
      ]
     },
     "execution_count": 362,
     "metadata": {},
     "output_type": "execute_result"
    }
   ],
   "source": [
    "profile = pd.read_csv('instagram_profiles.csv',sep='\\t',\n",
    "                      usecols = ['sid', 'profile_id','profile_name','followers','n_posts'])\n",
    "profile.head(1)"
   ]
  },
  {
   "cell_type": "code",
   "execution_count": 16,
   "id": "0f71b5f8",
   "metadata": {
    "scrolled": true
   },
   "outputs": [
    {
     "data": {
      "text/html": [
       "<div>\n",
       "<style scoped>\n",
       "    .dataframe tbody tr th:only-of-type {\n",
       "        vertical-align: middle;\n",
       "    }\n",
       "\n",
       "    .dataframe tbody tr th {\n",
       "        vertical-align: top;\n",
       "    }\n",
       "\n",
       "    .dataframe thead th {\n",
       "        text-align: right;\n",
       "    }\n",
       "</style>\n",
       "<table border=\"1\" class=\"dataframe\">\n",
       "  <thead>\n",
       "    <tr style=\"text-align: right;\">\n",
       "      <th></th>\n",
       "      <th>profile_name</th>\n",
       "      <th>n_posts</th>\n",
       "    </tr>\n",
       "  </thead>\n",
       "  <tbody>\n",
       "    <tr>\n",
       "      <th>2880218</th>\n",
       "      <td>instagram</td>\n",
       "      <td>5760.0</td>\n",
       "    </tr>\n",
       "    <tr>\n",
       "      <th>2582507</th>\n",
       "      <td>victoriassecret</td>\n",
       "      <td>7355.0</td>\n",
       "    </tr>\n",
       "    <tr>\n",
       "      <th>3820939</th>\n",
       "      <td>nba</td>\n",
       "      <td>28816.0</td>\n",
       "    </tr>\n",
       "    <tr>\n",
       "      <th>701965</th>\n",
       "      <td>louisvuitton</td>\n",
       "      <td>3352.0</td>\n",
       "    </tr>\n",
       "    <tr>\n",
       "      <th>2414951</th>\n",
       "      <td>buzzfeedtasty</td>\n",
       "      <td>2791.0</td>\n",
       "    </tr>\n",
       "    <tr>\n",
       "      <th>2785241</th>\n",
       "      <td>andresiniesta8</td>\n",
       "      <td>990.0</td>\n",
       "    </tr>\n",
       "    <tr>\n",
       "      <th>333193</th>\n",
       "      <td>hm</td>\n",
       "      <td>4566.0</td>\n",
       "    </tr>\n",
       "    <tr>\n",
       "      <th>3934581</th>\n",
       "      <td>princessyahrini</td>\n",
       "      <td>4719.0</td>\n",
       "    </tr>\n",
       "    <tr>\n",
       "      <th>1311970</th>\n",
       "      <td>danbilzerian</td>\n",
       "      <td>1311.0</td>\n",
       "    </tr>\n",
       "    <tr>\n",
       "      <th>1703764</th>\n",
       "      <td>akshaykumar</td>\n",
       "      <td>1173.0</td>\n",
       "    </tr>\n",
       "  </tbody>\n",
       "</table>\n",
       "</div>"
      ],
      "text/plain": [
       "            profile_name  n_posts\n",
       "2880218        instagram   5760.0\n",
       "2582507  victoriassecret   7355.0\n",
       "3820939              nba  28816.0\n",
       "701965      louisvuitton   3352.0\n",
       "2414951    buzzfeedtasty   2791.0\n",
       "2785241   andresiniesta8    990.0\n",
       "333193                hm   4566.0\n",
       "3934581  princessyahrini   4719.0\n",
       "1311970     danbilzerian   1311.0\n",
       "1703764      akshaykumar   1173.0"
      ]
     },
     "execution_count": 16,
     "metadata": {},
     "output_type": "execute_result"
    }
   ],
   "source": [
    "profile_top_10=profile.sort_values(by='followers', ascending=False)[:10] #take only the first ten lines of the sorted dataset\n",
    "profile_top_10[['profile_name','n_posts']]"
   ]
  },
  {
   "cell_type": "code",
   "execution_count": 17,
   "id": "a0f2aa6f",
   "metadata": {},
   "outputs": [
    {
     "data": {
      "image/png": "[encoded data removed]",
      "text/plain": [
       "<Figure size 800x720 with 2 Axes>"
      ]
     },
     "metadata": {
      "needs_background": "light"
     },
     "output_type": "display_data"
    }
   ],
   "source": [
    "fig = plt.figure(figsize=(10, 9), dpi=80)\n",
    "ax = fig.add_subplot(221)\n",
    "plt.title('Plot Top 10 user by followers')\n",
    "plot_followers=plt.barh(profile_top_10['profile_name'], profile_top_10['followers'])\n",
    "ax = fig.add_subplot(223)\n",
    "plt.title('Plot Top 10 user by nb. of posts')\n",
    "plot_posts=plt.barh(profile_top_10['profile_name'],profile_top_10['n_posts'])\n",
    "plt.show()"
   ]
  },
  {
   "cell_type": "markdown",
   "id": "5357aba7",
   "metadata": {},
   "source": [
    "### Who is the most influential user?\n"
   ]
  },
  {
   "cell_type": "markdown",
   "id": "56b2b467",
   "metadata": {},
   "source": [
    "As the question mentioned if we consider the number of followers, **Instagram** seems to be the most influential one but the situation could change when we consider the number of posts, in this case the **nba** account looks the most influential one. "
   ]
  },
  {
   "cell_type": "markdown",
   "id": "bbfdc6ce",
   "metadata": {},
   "source": [
    "### Have they posted anything with tagged locations? Extract the most frequent areas on their posts and plot the number of times each city has been visited"
   ]
  },
  {
   "cell_type": "code",
   "execution_count": 86,
   "id": "2cfe26d3",
   "metadata": {},
   "outputs": [],
   "source": [
    "profile_top_10.reset_index(inplace = True, drop = True)\n",
    "# now we search for the post with location\n",
    "post = pd.read_csv('instagram_posts.csv', sep='\\t', usecols = ['profile_id','location_id','numbr_likes','number_comments','post_type']) "
   ]
  },
  {
   "cell_type": "code",
   "execution_count": 107,
   "id": "2512f59c",
   "metadata": {},
   "outputs": [
    {
     "data": {
      "text/html": [
       "<div>\n",
       "<style scoped>\n",
       "    .dataframe tbody tr th:only-of-type {\n",
       "        vertical-align: middle;\n",
       "    }\n",
       "\n",
       "    .dataframe tbody tr th {\n",
       "        vertical-align: top;\n",
       "    }\n",
       "\n",
       "    .dataframe thead th {\n",
       "        text-align: right;\n",
       "    }\n",
       "</style>\n",
       "<table border=\"1\" class=\"dataframe\">\n",
       "  <thead>\n",
       "    <tr style=\"text-align: right;\">\n",
       "      <th></th>\n",
       "      <th>sid</th>\n",
       "      <th>profile_id</th>\n",
       "      <th>profile_name</th>\n",
       "      <th>followers</th>\n",
       "      <th>n_posts</th>\n",
       "      <th>location_id</th>\n",
       "      <th>post_type</th>\n",
       "      <th>numbr_likes</th>\n",
       "      <th>number_comments</th>\n",
       "    </tr>\n",
       "  </thead>\n",
       "  <tbody>\n",
       "    <tr>\n",
       "      <th>0</th>\n",
       "      <td>336492</td>\n",
       "      <td>25025320.0</td>\n",
       "      <td>instagram</td>\n",
       "      <td>285457645.0</td>\n",
       "      <td>5760.0</td>\n",
       "      <td>5.332856e+06</td>\n",
       "      <td>1</td>\n",
       "      <td>125428.0</td>\n",
       "      <td>1240.0</td>\n",
       "    </tr>\n",
       "    <tr>\n",
       "      <th>1</th>\n",
       "      <td>336492</td>\n",
       "      <td>25025320.0</td>\n",
       "      <td>instagram</td>\n",
       "      <td>285457645.0</td>\n",
       "      <td>5760.0</td>\n",
       "      <td>5.873874e+08</td>\n",
       "      <td>1</td>\n",
       "      <td>669786.0</td>\n",
       "      <td>4818.0</td>\n",
       "    </tr>\n",
       "    <tr>\n",
       "      <th>2</th>\n",
       "      <td>336492</td>\n",
       "      <td>25025320.0</td>\n",
       "      <td>instagram</td>\n",
       "      <td>285457645.0</td>\n",
       "      <td>5760.0</td>\n",
       "      <td>8.770667e+14</td>\n",
       "      <td>1</td>\n",
       "      <td>1914299.0</td>\n",
       "      <td>20065.0</td>\n",
       "    </tr>\n",
       "    <tr>\n",
       "      <th>3</th>\n",
       "      <td>336492</td>\n",
       "      <td>25025320.0</td>\n",
       "      <td>instagram</td>\n",
       "      <td>285457645.0</td>\n",
       "      <td>5760.0</td>\n",
       "      <td>3.500213e+08</td>\n",
       "      <td>1</td>\n",
       "      <td>840588.0</td>\n",
       "      <td>3627.0</td>\n",
       "    </tr>\n",
       "    <tr>\n",
       "      <th>4</th>\n",
       "      <td>336492</td>\n",
       "      <td>25025320.0</td>\n",
       "      <td>instagram</td>\n",
       "      <td>285457645.0</td>\n",
       "      <td>5760.0</td>\n",
       "      <td>5.243120e+08</td>\n",
       "      <td>1</td>\n",
       "      <td>385494.0</td>\n",
       "      <td>5664.0</td>\n",
       "    </tr>\n",
       "    <tr>\n",
       "      <th>...</th>\n",
       "      <td>...</td>\n",
       "      <td>...</td>\n",
       "      <td>...</td>\n",
       "      <td>...</td>\n",
       "      <td>...</td>\n",
       "      <td>...</td>\n",
       "      <td>...</td>\n",
       "      <td>...</td>\n",
       "      <td>...</td>\n",
       "    </tr>\n",
       "    <tr>\n",
       "      <th>136</th>\n",
       "      <td>3513205</td>\n",
       "      <td>907025384.0</td>\n",
       "      <td>akshaykumar</td>\n",
       "      <td>26252169.0</td>\n",
       "      <td>1173.0</td>\n",
       "      <td>NaN</td>\n",
       "      <td>1</td>\n",
       "      <td>241543.0</td>\n",
       "      <td>1152.0</td>\n",
       "    </tr>\n",
       "    <tr>\n",
       "      <th>137</th>\n",
       "      <td>3513205</td>\n",
       "      <td>907025384.0</td>\n",
       "      <td>akshaykumar</td>\n",
       "      <td>26252169.0</td>\n",
       "      <td>1173.0</td>\n",
       "      <td>NaN</td>\n",
       "      <td>1</td>\n",
       "      <td>797506.0</td>\n",
       "      <td>2733.0</td>\n",
       "    </tr>\n",
       "    <tr>\n",
       "      <th>138</th>\n",
       "      <td>3513205</td>\n",
       "      <td>907025384.0</td>\n",
       "      <td>akshaykumar</td>\n",
       "      <td>26252169.0</td>\n",
       "      <td>1173.0</td>\n",
       "      <td>NaN</td>\n",
       "      <td>1</td>\n",
       "      <td>921671.0</td>\n",
       "      <td>9349.0</td>\n",
       "    </tr>\n",
       "    <tr>\n",
       "      <th>139</th>\n",
       "      <td>3513205</td>\n",
       "      <td>907025384.0</td>\n",
       "      <td>akshaykumar</td>\n",
       "      <td>26252169.0</td>\n",
       "      <td>1173.0</td>\n",
       "      <td>NaN</td>\n",
       "      <td>1</td>\n",
       "      <td>1402087.0</td>\n",
       "      <td>16180.0</td>\n",
       "    </tr>\n",
       "    <tr>\n",
       "      <th>140</th>\n",
       "      <td>3513205</td>\n",
       "      <td>907025384.0</td>\n",
       "      <td>akshaykumar</td>\n",
       "      <td>26252169.0</td>\n",
       "      <td>1173.0</td>\n",
       "      <td>NaN</td>\n",
       "      <td>1</td>\n",
       "      <td>1646010.0</td>\n",
       "      <td>5548.0</td>\n",
       "    </tr>\n",
       "  </tbody>\n",
       "</table>\n",
       "<p>141 rows × 9 columns</p>\n",
       "</div>"
      ],
      "text/plain": [
       "         sid   profile_id profile_name    followers  n_posts   location_id  \\\n",
       "0     336492   25025320.0    instagram  285457645.0   5760.0  5.332856e+06   \n",
       "1     336492   25025320.0    instagram  285457645.0   5760.0  5.873874e+08   \n",
       "2     336492   25025320.0    instagram  285457645.0   5760.0  8.770667e+14   \n",
       "3     336492   25025320.0    instagram  285457645.0   5760.0  3.500213e+08   \n",
       "4     336492   25025320.0    instagram  285457645.0   5760.0  5.243120e+08   \n",
       "..       ...          ...          ...          ...      ...           ...   \n",
       "136  3513205  907025384.0  akshaykumar   26252169.0   1173.0           NaN   \n",
       "137  3513205  907025384.0  akshaykumar   26252169.0   1173.0           NaN   \n",
       "138  3513205  907025384.0  akshaykumar   26252169.0   1173.0           NaN   \n",
       "139  3513205  907025384.0  akshaykumar   26252169.0   1173.0           NaN   \n",
       "140  3513205  907025384.0  akshaykumar   26252169.0   1173.0           NaN   \n",
       "\n",
       "     post_type  numbr_likes  number_comments  \n",
       "0            1     125428.0           1240.0  \n",
       "1            1     669786.0           4818.0  \n",
       "2            1    1914299.0          20065.0  \n",
       "3            1     840588.0           3627.0  \n",
       "4            1     385494.0           5664.0  \n",
       "..         ...          ...              ...  \n",
       "136          1     241543.0           1152.0  \n",
       "137          1     797506.0           2733.0  \n",
       "138          1     921671.0           9349.0  \n",
       "139          1    1402087.0          16180.0  \n",
       "140          1    1646010.0           5548.0  \n",
       "\n",
       "[141 rows x 9 columns]"
      ]
     },
     "execution_count": 107,
     "metadata": {},
     "output_type": "execute_result"
    }
   ],
   "source": [
    "top_10_df = profile_top_10.merge(post, on ='profile_id', how='inner')\n",
    "#in this datset we have only the post with location made by the 10 top user\n",
    "top_10_df"
   ]
  },
  {
   "cell_type": "markdown",
   "id": "54b2fae3",
   "metadata": {},
   "source": [
    "Now we do the same things in order to have the city name for each location_id (when the information is available)."
   ]
  },
  {
   "cell_type": "code",
   "execution_count": 133,
   "id": "5c04f56f",
   "metadata": {},
   "outputs": [],
   "source": [
    "location = pd.read_csv( 'instagram_locations.csv', sep='\\t', usecols = ['id','name','lat','lng'])"
   ]
  },
  {
   "cell_type": "code",
   "execution_count": 134,
   "id": "18faa698",
   "metadata": {},
   "outputs": [],
   "source": [
    "top_10_df_location  = top_10_df.dropna(subset='location_id').groupby(['profile_id','location_id']).count().reset_index()\n",
    "top_10_df_location = top_10_df_location[['profile_id','location_id','sid']].rename(columns ={'sid':'count_location'})\n",
    "top_10_df_location = top_10_df_location.sort_values(by='count_location', ascending=False).reset_index(drop=True)\n",
    "top_10_df_location = top_10_df_location.merge(profile_top_10[['profile_id','profile_name']], how='left')\n",
    "top_10_df_location = top_10_df_location.merge(location.rename(columns ={'id':'location_id','name':'post_place_name'}), how='left')"
   ]
  },
  {
   "cell_type": "code",
   "execution_count": 164,
   "id": "216e83b9",
   "metadata": {
    "scrolled": true
   },
   "outputs": [
    {
     "data": {
      "text/html": [
       "<div>\n",
       "<style scoped>\n",
       "    .dataframe tbody tr th:only-of-type {\n",
       "        vertical-align: middle;\n",
       "    }\n",
       "\n",
       "    .dataframe tbody tr th {\n",
       "        vertical-align: top;\n",
       "    }\n",
       "\n",
       "    .dataframe thead th {\n",
       "        text-align: right;\n",
       "    }\n",
       "</style>\n",
       "<table border=\"1\" class=\"dataframe\">\n",
       "  <thead>\n",
       "    <tr style=\"text-align: right;\">\n",
       "      <th></th>\n",
       "      <th>profile_id</th>\n",
       "      <th>location_id</th>\n",
       "      <th>count_location</th>\n",
       "      <th>profile_name</th>\n",
       "      <th>post_place_name</th>\n",
       "      <th>lat</th>\n",
       "      <th>lng</th>\n",
       "    </tr>\n",
       "  </thead>\n",
       "  <tbody>\n",
       "    <tr>\n",
       "      <th>0</th>\n",
       "      <td>24239929.0</td>\n",
       "      <td>2.130118e+08</td>\n",
       "      <td>9</td>\n",
       "      <td>princessyahrini</td>\n",
       "      <td>Sydney, Australia</td>\n",
       "      <td>151.207970</td>\n",
       "      <td>-33.867510</td>\n",
       "    </tr>\n",
       "    <tr>\n",
       "      <th>1</th>\n",
       "      <td>496865116.0</td>\n",
       "      <td>3.669021e+08</td>\n",
       "      <td>3</td>\n",
       "      <td>andresiniesta8</td>\n",
       "      <td>Kobe-shi, Hyogo, Japan</td>\n",
       "      <td>135.191300</td>\n",
       "      <td>34.696400</td>\n",
       "    </tr>\n",
       "    <tr>\n",
       "      <th>2</th>\n",
       "      <td>24239929.0</td>\n",
       "      <td>1.906910e+15</td>\n",
       "      <td>2</td>\n",
       "      <td>princessyahrini</td>\n",
       "      <td>Bora Bora, French Polynesia</td>\n",
       "      <td>-151.751991</td>\n",
       "      <td>-16.505823</td>\n",
       "    </tr>\n",
       "    <tr>\n",
       "      <th>3</th>\n",
       "      <td>50417061.0</td>\n",
       "      <td>1.731498e+15</td>\n",
       "      <td>2</td>\n",
       "      <td>danbilzerian</td>\n",
       "      <td>Bel-Air Estate</td>\n",
       "      <td>-118.454550</td>\n",
       "      <td>34.089880</td>\n",
       "    </tr>\n",
       "    <tr>\n",
       "      <th>4</th>\n",
       "      <td>20824486.0</td>\n",
       "      <td>1.027474e+09</td>\n",
       "      <td>2</td>\n",
       "      <td>nba</td>\n",
       "      <td>Wells Fargo Center</td>\n",
       "      <td>-75.171187</td>\n",
       "      <td>39.901452</td>\n",
       "    </tr>\n",
       "    <tr>\n",
       "      <th>5</th>\n",
       "      <td>3416684.0</td>\n",
       "      <td>2.626063e+08</td>\n",
       "      <td>1</td>\n",
       "      <td>victoriassecret</td>\n",
       "      <td>666 Fifth Avenue</td>\n",
       "      <td>-73.976204</td>\n",
       "      <td>40.760163</td>\n",
       "    </tr>\n",
       "    <tr>\n",
       "      <th>6</th>\n",
       "      <td>25025320.0</td>\n",
       "      <td>3.500213e+08</td>\n",
       "      <td>1</td>\n",
       "      <td>instagram</td>\n",
       "      <td>Parkland County</td>\n",
       "      <td>-114.006000</td>\n",
       "      <td>53.530000</td>\n",
       "    </tr>\n",
       "    <tr>\n",
       "      <th>7</th>\n",
       "      <td>25025320.0</td>\n",
       "      <td>1.011689e+09</td>\n",
       "      <td>1</td>\n",
       "      <td>instagram</td>\n",
       "      <td>Leuser Ecosystem</td>\n",
       "      <td>96.847161</td>\n",
       "      <td>3.743398</td>\n",
       "    </tr>\n",
       "    <tr>\n",
       "      <th>8</th>\n",
       "      <td>25025320.0</td>\n",
       "      <td>8.385239e+08</td>\n",
       "      <td>1</td>\n",
       "      <td>instagram</td>\n",
       "      <td>Stanislaus National Forest</td>\n",
       "      <td>-121.291619</td>\n",
       "      <td>38.139407</td>\n",
       "    </tr>\n",
       "    <tr>\n",
       "      <th>9</th>\n",
       "      <td>25025320.0</td>\n",
       "      <td>7.113485e+08</td>\n",
       "      <td>1</td>\n",
       "      <td>instagram</td>\n",
       "      <td>Hadleigh Park</td>\n",
       "      <td>0.595682</td>\n",
       "      <td>51.551175</td>\n",
       "    </tr>\n",
       "  </tbody>\n",
       "</table>\n",
       "</div>"
      ],
      "text/plain": [
       "    profile_id   location_id  count_location     profile_name  \\\n",
       "0   24239929.0  2.130118e+08               9  princessyahrini   \n",
       "1  496865116.0  3.669021e+08               3   andresiniesta8   \n",
       "2   24239929.0  1.906910e+15               2  princessyahrini   \n",
       "3   50417061.0  1.731498e+15               2     danbilzerian   \n",
       "4   20824486.0  1.027474e+09               2              nba   \n",
       "5    3416684.0  2.626063e+08               1  victoriassecret   \n",
       "6   25025320.0  3.500213e+08               1        instagram   \n",
       "7   25025320.0  1.011689e+09               1        instagram   \n",
       "8   25025320.0  8.385239e+08               1        instagram   \n",
       "9   25025320.0  7.113485e+08               1        instagram   \n",
       "\n",
       "               post_place_name         lat        lng  \n",
       "0            Sydney, Australia  151.207970 -33.867510  \n",
       "1       Kobe-shi, Hyogo, Japan  135.191300  34.696400  \n",
       "2  Bora Bora, French Polynesia -151.751991 -16.505823  \n",
       "3               Bel-Air Estate -118.454550  34.089880  \n",
       "4           Wells Fargo Center  -75.171187  39.901452  \n",
       "5             666 Fifth Avenue  -73.976204  40.760163  \n",
       "6              Parkland County -114.006000  53.530000  \n",
       "7             Leuser Ecosystem   96.847161   3.743398  \n",
       "8   Stanislaus National Forest -121.291619  38.139407  \n",
       "9                Hadleigh Park    0.595682  51.551175  "
      ]
     },
     "execution_count": 164,
     "metadata": {},
     "output_type": "execute_result"
    }
   ],
   "source": [
    "top_10_df_location[:10]"
   ]
  },
  {
   "cell_type": "markdown",
   "id": "a723b797",
   "metadata": {},
   "source": [
    "The most frequent location results to be Sidney(Australia), tagged by the account of **princessyahrini**, while the second one is Kobe-shi(Japan) tagged by **andresiniesta8**. Then we have some locations tagged two times and others only one time. It's evident that **instagram** changed location in every published post, while **princessyahrini** published some posts with the same location. We can suppose that users could have tagged a location when they visited a new place and they wanted to show it to their followers."
   ]
  },
  {
   "cell_type": "markdown",
   "id": "6c57594e",
   "metadata": {},
   "source": [
    "### How many pictures-only posts have they published? How many reels? (only videos) and how many with both contents? Provide the number as percentages and interpret those figures."
   ]
  },
  {
   "cell_type": "code",
   "execution_count": 23,
   "id": "70f146a1",
   "metadata": {
    "scrolled": true
   },
   "outputs": [
    {
     "name": "stdout",
     "output_type": "stream",
     "text": [
      "_______________\n",
      "instagram\n",
      "The number of photo : 31\n",
      "Video: 3\n",
      "_______________\n",
      "victoriassecret\n",
      "The number of photo : 5\n",
      "Video: 2\n",
      "_______________\n",
      "nba\n",
      "The number of photo : 13\n",
      "Video: 5\n",
      "_______________\n",
      "louisvuitton\n",
      "The number of photo : 1\n",
      "Video: 0\n",
      "_______________\n",
      "buzzfeedtasty\n",
      "The number of photo : 13\n",
      "Video: 0\n",
      "_______________\n",
      "andresiniesta8\n",
      "The number of photo : 12\n",
      "Video: 0\n",
      "_______________\n",
      "hm\n",
      "The number of photo : 2\n",
      "Video: 0\n",
      "_______________\n",
      "princessyahrini\n",
      "The number of photo : 23\n",
      "Video: 3\n",
      "_______________\n",
      "danbilzerian\n",
      "The number of photo : 15\n",
      "Video: 0\n",
      "_______________\n",
      "akshaykumar\n",
      "The number of photo : 13\n",
      "Video: 0\n",
      "\n",
      " With mixed type there are not any posts\n"
     ]
    }
   ],
   "source": [
    "for i in top_10_df['profile_name'].unique():\n",
    "    print('_______________')\n",
    "    print(i)\n",
    "    print('The number of photo :',top_10_df[(top_10_df['profile_name']==i) & (top_10_df['post_type']==1)].shape[0])\n",
    "    print('Video:',top_10_df[(top_10_df['profile_name']==i) & (top_10_df['post_type']==2)].shape[0])\n",
    "print('\\n With mixed type there are not any posts')"
   ]
  },
  {
   "cell_type": "code",
   "execution_count": 162,
   "id": "c9185e4a",
   "metadata": {},
   "outputs": [
    {
     "name": "stdout",
     "output_type": "stream",
     "text": [
      "The number of posts of the top 10 users which are only photo is: 91 %\n",
      "The number of posts of the top 10 users which are only video is: 9 %\n"
     ]
    },
    {
     "data": {
      "image/png": "[encoded data removed]",
      "text/plain": [
       "<Figure size 432x288 with 1 Axes>"
      ]
     },
     "metadata": {},
     "output_type": "display_data"
    }
   ],
   "source": [
    "#calculate the percentage of posts with only photos and only videos\n",
    "n_photo=round(top_10_df[top_10_df['post_type']==1].shape[0]/top_10_df['post_type'].value_counts().sum()*100)\n",
    "n_video=round(top_10_df[top_10_df['post_type']==2].shape[0]/top_10_df['post_type'].value_counts().sum()*100)\n",
    "\n",
    "print('The number of posts of the top 10 users which are only photo is:', n_photo, '%')\n",
    "print('The number of posts of the top 10 users which are only video is:', n_video, '%')\n",
    "\n",
    "#plot in a pie chart the percentage of photos and videos\n",
    "labels=('Posts with photos', \"Posts with videos\")\n",
    "sizes=[n_photo, n_video]\n",
    "explode=(0.1, 0.1)\n",
    "colors=['magenta', 'yellow']\n",
    "pie_chart=plt.pie(sizes, labels=labels, explode=explode, autopct='%1.1f%%',\n",
    "        shadow=True, startangle=90, colors=colors) \n",
    "plt.show()"
   ]
  },
  {
   "cell_type": "markdown",
   "id": "cf72f09f",
   "metadata": {},
   "source": [
    "\n",
    "### How many \"likes\" and comments did posts with only pictures receive? How about videos and mixed posts? \n"
   ]
  },
  {
   "cell_type": "code",
   "execution_count": 179,
   "id": "8a3d31db",
   "metadata": {},
   "outputs": [
    {
     "name": "stdout",
     "output_type": "stream",
     "text": [
      "Sum of likes for photo: 69285634\n",
      "Sum of comments for photo: 497013\n"
     ]
    },
    {
     "data": {
      "text/html": [
       "<div>\n",
       "<style scoped>\n",
       "    .dataframe tbody tr th:only-of-type {\n",
       "        vertical-align: middle;\n",
       "    }\n",
       "\n",
       "    .dataframe tbody tr th {\n",
       "        vertical-align: top;\n",
       "    }\n",
       "\n",
       "    .dataframe thead th {\n",
       "        text-align: right;\n",
       "    }\n",
       "</style>\n",
       "<table border=\"1\" class=\"dataframe\">\n",
       "  <thead>\n",
       "    <tr style=\"text-align: right;\">\n",
       "      <th></th>\n",
       "      <th>numbr_likes</th>\n",
       "      <th>number_comments</th>\n",
       "    </tr>\n",
       "  </thead>\n",
       "  <tbody>\n",
       "    <tr>\n",
       "      <th>count</th>\n",
       "      <td>128.0</td>\n",
       "      <td>128.0</td>\n",
       "    </tr>\n",
       "    <tr>\n",
       "      <th>mean</th>\n",
       "      <td>541294.015625</td>\n",
       "      <td>3882.9140625</td>\n",
       "    </tr>\n",
       "    <tr>\n",
       "      <th>std</th>\n",
       "      <td>502641.388938992167823</td>\n",
       "      <td>4830.2742052670682824</td>\n",
       "    </tr>\n",
       "    <tr>\n",
       "      <th>min</th>\n",
       "      <td>20749.0</td>\n",
       "      <td>0.0</td>\n",
       "    </tr>\n",
       "    <tr>\n",
       "      <th>25%</th>\n",
       "      <td>105708.75</td>\n",
       "      <td>507.75</td>\n",
       "    </tr>\n",
       "    <tr>\n",
       "      <th>50%</th>\n",
       "      <td>294018.0</td>\n",
       "      <td>2260.5</td>\n",
       "    </tr>\n",
       "    <tr>\n",
       "      <th>75%</th>\n",
       "      <td>926834.5</td>\n",
       "      <td>5461.0</td>\n",
       "    </tr>\n",
       "    <tr>\n",
       "      <th>max</th>\n",
       "      <td>2331497.0</td>\n",
       "      <td>24621.0</td>\n",
       "    </tr>\n",
       "  </tbody>\n",
       "</table>\n",
       "</div>"
      ],
      "text/plain": [
       "                 numbr_likes       number_comments\n",
       "count                  128.0                 128.0\n",
       "mean           541294.015625          3882.9140625\n",
       "std   502641.388938992167823 4830.2742052670682824\n",
       "min                  20749.0                   0.0\n",
       "25%                105708.75                507.75\n",
       "50%                 294018.0                2260.5\n",
       "75%                 926834.5                5461.0\n",
       "max                2331497.0               24621.0"
      ]
     },
     "execution_count": 179,
     "metadata": {},
     "output_type": "execute_result"
    }
   ],
   "source": [
    "print('Sum of likes for photo:', int(top_10_df[top_10_df['post_type']==1]['numbr_likes'].sum()) )\n",
    "print('Sum of comments for photo:', int(top_10_df[top_10_df['post_type']==1]['number_comments'].sum()) )\n",
    "top_10_df[top_10_df['post_type']==1][['numbr_likes','number_comments']].describe()\n",
    "# where the count below represent the number of post that contains only pitcures"
   ]
  },
  {
   "cell_type": "code",
   "execution_count": 180,
   "id": "aec00295",
   "metadata": {},
   "outputs": [
    {
     "name": "stdout",
     "output_type": "stream",
     "text": [
      "Sum of likes for videos: 3464814\n",
      "Sum of comments for videos: 26258\n"
     ]
    },
    {
     "data": {
      "text/html": [
       "<div>\n",
       "<style scoped>\n",
       "    .dataframe tbody tr th:only-of-type {\n",
       "        vertical-align: middle;\n",
       "    }\n",
       "\n",
       "    .dataframe tbody tr th {\n",
       "        vertical-align: top;\n",
       "    }\n",
       "\n",
       "    .dataframe thead th {\n",
       "        text-align: right;\n",
       "    }\n",
       "</style>\n",
       "<table border=\"1\" class=\"dataframe\">\n",
       "  <thead>\n",
       "    <tr style=\"text-align: right;\">\n",
       "      <th></th>\n",
       "      <th>numbr_likes</th>\n",
       "      <th>number_comments</th>\n",
       "    </tr>\n",
       "  </thead>\n",
       "  <tbody>\n",
       "    <tr>\n",
       "      <th>count</th>\n",
       "      <td>13.0</td>\n",
       "      <td>13.0</td>\n",
       "    </tr>\n",
       "    <tr>\n",
       "      <th>mean</th>\n",
       "      <td>266524.15384615387301892</td>\n",
       "      <td>2019.8461538461538112</td>\n",
       "    </tr>\n",
       "    <tr>\n",
       "      <th>std</th>\n",
       "      <td>213533.16002744794241153</td>\n",
       "      <td>2290.24055673029852187</td>\n",
       "    </tr>\n",
       "    <tr>\n",
       "      <th>min</th>\n",
       "      <td>35689.0</td>\n",
       "      <td>323.0</td>\n",
       "    </tr>\n",
       "    <tr>\n",
       "      <th>25%</th>\n",
       "      <td>157695.0</td>\n",
       "      <td>529.0</td>\n",
       "    </tr>\n",
       "    <tr>\n",
       "      <th>50%</th>\n",
       "      <td>198356.0</td>\n",
       "      <td>868.0</td>\n",
       "    </tr>\n",
       "    <tr>\n",
       "      <th>75%</th>\n",
       "      <td>331442.0</td>\n",
       "      <td>2929.0</td>\n",
       "    </tr>\n",
       "    <tr>\n",
       "      <th>max</th>\n",
       "      <td>749724.0</td>\n",
       "      <td>6714.0</td>\n",
       "    </tr>\n",
       "  </tbody>\n",
       "</table>\n",
       "</div>"
      ],
      "text/plain": [
       "                   numbr_likes        number_comments\n",
       "count                     13.0                   13.0\n",
       "mean  266524.15384615387301892  2019.8461538461538112\n",
       "std   213533.16002744794241153 2290.24055673029852187\n",
       "min                    35689.0                  323.0\n",
       "25%                   157695.0                  529.0\n",
       "50%                   198356.0                  868.0\n",
       "75%                   331442.0                 2929.0\n",
       "max                   749724.0                 6714.0"
      ]
     },
     "execution_count": 180,
     "metadata": {},
     "output_type": "execute_result"
    }
   ],
   "source": [
    "print('Sum of likes for videos:', int(top_10_df[top_10_df['post_type']==2]['numbr_likes'].sum()) )\n",
    "print('Sum of comments for videos:', int(top_10_df[top_10_df['post_type']==2]['number_comments'].sum()) )\n",
    "top_10_df[top_10_df['post_type']==2][['numbr_likes','number_comments']].describe()\n",
    "# where the count below represent the number of post that contains only videos"
   ]
  },
  {
   "cell_type": "code",
   "execution_count": 184,
   "id": "77c6216b",
   "metadata": {},
   "outputs": [
    {
     "name": "stdout",
     "output_type": "stream",
     "text": [
      "We do not have any value or any statistics for mixed type posts\n"
     ]
    },
    {
     "data": {
      "text/html": [
       "<div>\n",
       "<style scoped>\n",
       "    .dataframe tbody tr th:only-of-type {\n",
       "        vertical-align: middle;\n",
       "    }\n",
       "\n",
       "    .dataframe tbody tr th {\n",
       "        vertical-align: top;\n",
       "    }\n",
       "\n",
       "    .dataframe thead th {\n",
       "        text-align: right;\n",
       "    }\n",
       "</style>\n",
       "<table border=\"1\" class=\"dataframe\">\n",
       "  <thead>\n",
       "    <tr style=\"text-align: right;\">\n",
       "      <th></th>\n",
       "      <th>numbr_likes</th>\n",
       "      <th>number_comments</th>\n",
       "    </tr>\n",
       "  </thead>\n",
       "  <tbody>\n",
       "  </tbody>\n",
       "</table>\n",
       "</div>"
      ],
      "text/plain": [
       "Empty DataFrame\n",
       "Columns: [numbr_likes, number_comments]\n",
       "Index: []"
      ]
     },
     "execution_count": 184,
     "metadata": {},
     "output_type": "execute_result"
    }
   ],
   "source": [
    "print('We do not have any value or any statistics for mixed type posts')\n",
    "top_10_df[top_10_df['post_type']==3][['numbr_likes','number_comments']]"
   ]
  },
  {
   "cell_type": "markdown",
   "id": "e4cc0980",
   "metadata": {},
   "source": [
    "#### Try to provide the average numbers and confront them with their followers amount, explaining what you can say from that comparison."
   ]
  },
  {
   "cell_type": "code",
   "execution_count": 219,
   "id": "bbe8dece",
   "metadata": {},
   "outputs": [
    {
     "data": {
      "text/html": [
       "<div>\n",
       "<style scoped>\n",
       "    .dataframe tbody tr th:only-of-type {\n",
       "        vertical-align: middle;\n",
       "    }\n",
       "\n",
       "    .dataframe tbody tr th {\n",
       "        vertical-align: top;\n",
       "    }\n",
       "\n",
       "    .dataframe thead th {\n",
       "        text-align: right;\n",
       "    }\n",
       "</style>\n",
       "<table border=\"1\" class=\"dataframe\">\n",
       "  <thead>\n",
       "    <tr style=\"text-align: right;\">\n",
       "      <th></th>\n",
       "      <th>sid</th>\n",
       "      <th>profile_id</th>\n",
       "      <th>profile_name</th>\n",
       "      <th>followers</th>\n",
       "      <th>n_posts</th>\n",
       "      <th>location_id</th>\n",
       "      <th>post_type</th>\n",
       "      <th>numbr_likes</th>\n",
       "      <th>number_comments</th>\n",
       "    </tr>\n",
       "  </thead>\n",
       "  <tbody>\n",
       "    <tr>\n",
       "      <th>0</th>\n",
       "      <td>336492</td>\n",
       "      <td>25025320.0</td>\n",
       "      <td>instagram</td>\n",
       "      <td>285457645.0</td>\n",
       "      <td>5760.0</td>\n",
       "      <td>5332856.0</td>\n",
       "      <td>1</td>\n",
       "      <td>125428.0</td>\n",
       "      <td>1240.0</td>\n",
       "    </tr>\n",
       "    <tr>\n",
       "      <th>1</th>\n",
       "      <td>336492</td>\n",
       "      <td>25025320.0</td>\n",
       "      <td>instagram</td>\n",
       "      <td>285457645.0</td>\n",
       "      <td>5760.0</td>\n",
       "      <td>587387369.0</td>\n",
       "      <td>1</td>\n",
       "      <td>669786.0</td>\n",
       "      <td>4818.0</td>\n",
       "    </tr>\n",
       "    <tr>\n",
       "      <th>2</th>\n",
       "      <td>336492</td>\n",
       "      <td>25025320.0</td>\n",
       "      <td>instagram</td>\n",
       "      <td>285457645.0</td>\n",
       "      <td>5760.0</td>\n",
       "      <td>877066659067597.0</td>\n",
       "      <td>1</td>\n",
       "      <td>1914299.0</td>\n",
       "      <td>20065.0</td>\n",
       "    </tr>\n",
       "    <tr>\n",
       "      <th>3</th>\n",
       "      <td>336492</td>\n",
       "      <td>25025320.0</td>\n",
       "      <td>instagram</td>\n",
       "      <td>285457645.0</td>\n",
       "      <td>5760.0</td>\n",
       "      <td>350021298.0</td>\n",
       "      <td>1</td>\n",
       "      <td>840588.0</td>\n",
       "      <td>3627.0</td>\n",
       "    </tr>\n",
       "    <tr>\n",
       "      <th>4</th>\n",
       "      <td>336492</td>\n",
       "      <td>25025320.0</td>\n",
       "      <td>instagram</td>\n",
       "      <td>285457645.0</td>\n",
       "      <td>5760.0</td>\n",
       "      <td>524311966.0</td>\n",
       "      <td>1</td>\n",
       "      <td>385494.0</td>\n",
       "      <td>5664.0</td>\n",
       "    </tr>\n",
       "    <tr>\n",
       "      <th>...</th>\n",
       "      <td>...</td>\n",
       "      <td>...</td>\n",
       "      <td>...</td>\n",
       "      <td>...</td>\n",
       "      <td>...</td>\n",
       "      <td>...</td>\n",
       "      <td>...</td>\n",
       "      <td>...</td>\n",
       "      <td>...</td>\n",
       "    </tr>\n",
       "    <tr>\n",
       "      <th>136</th>\n",
       "      <td>3513205</td>\n",
       "      <td>907025384.0</td>\n",
       "      <td>akshaykumar</td>\n",
       "      <td>26252169.0</td>\n",
       "      <td>1173.0</td>\n",
       "      <td>NaN</td>\n",
       "      <td>1</td>\n",
       "      <td>241543.0</td>\n",
       "      <td>1152.0</td>\n",
       "    </tr>\n",
       "    <tr>\n",
       "      <th>137</th>\n",
       "      <td>3513205</td>\n",
       "      <td>907025384.0</td>\n",
       "      <td>akshaykumar</td>\n",
       "      <td>26252169.0</td>\n",
       "      <td>1173.0</td>\n",
       "      <td>NaN</td>\n",
       "      <td>1</td>\n",
       "      <td>797506.0</td>\n",
       "      <td>2733.0</td>\n",
       "    </tr>\n",
       "    <tr>\n",
       "      <th>138</th>\n",
       "      <td>3513205</td>\n",
       "      <td>907025384.0</td>\n",
       "      <td>akshaykumar</td>\n",
       "      <td>26252169.0</td>\n",
       "      <td>1173.0</td>\n",
       "      <td>NaN</td>\n",
       "      <td>1</td>\n",
       "      <td>921671.0</td>\n",
       "      <td>9349.0</td>\n",
       "    </tr>\n",
       "    <tr>\n",
       "      <th>139</th>\n",
       "      <td>3513205</td>\n",
       "      <td>907025384.0</td>\n",
       "      <td>akshaykumar</td>\n",
       "      <td>26252169.0</td>\n",
       "      <td>1173.0</td>\n",
       "      <td>NaN</td>\n",
       "      <td>1</td>\n",
       "      <td>1402087.0</td>\n",
       "      <td>16180.0</td>\n",
       "    </tr>\n",
       "    <tr>\n",
       "      <th>140</th>\n",
       "      <td>3513205</td>\n",
       "      <td>907025384.0</td>\n",
       "      <td>akshaykumar</td>\n",
       "      <td>26252169.0</td>\n",
       "      <td>1173.0</td>\n",
       "      <td>NaN</td>\n",
       "      <td>1</td>\n",
       "      <td>1646010.0</td>\n",
       "      <td>5548.0</td>\n",
       "    </tr>\n",
       "  </tbody>\n",
       "</table>\n",
       "<p>141 rows × 9 columns</p>\n",
       "</div>"
      ],
      "text/plain": [
       "         sid  profile_id profile_name   followers  n_posts       location_id  \\\n",
       "0     336492  25025320.0    instagram 285457645.0   5760.0         5332856.0   \n",
       "1     336492  25025320.0    instagram 285457645.0   5760.0       587387369.0   \n",
       "2     336492  25025320.0    instagram 285457645.0   5760.0 877066659067597.0   \n",
       "3     336492  25025320.0    instagram 285457645.0   5760.0       350021298.0   \n",
       "4     336492  25025320.0    instagram 285457645.0   5760.0       524311966.0   \n",
       "..       ...         ...          ...         ...      ...               ...   \n",
       "136  3513205 907025384.0  akshaykumar  26252169.0   1173.0               NaN   \n",
       "137  3513205 907025384.0  akshaykumar  26252169.0   1173.0               NaN   \n",
       "138  3513205 907025384.0  akshaykumar  26252169.0   1173.0               NaN   \n",
       "139  3513205 907025384.0  akshaykumar  26252169.0   1173.0               NaN   \n",
       "140  3513205 907025384.0  akshaykumar  26252169.0   1173.0               NaN   \n",
       "\n",
       "     post_type  numbr_likes  number_comments  \n",
       "0            1     125428.0           1240.0  \n",
       "1            1     669786.0           4818.0  \n",
       "2            1    1914299.0          20065.0  \n",
       "3            1     840588.0           3627.0  \n",
       "4            1     385494.0           5664.0  \n",
       "..         ...          ...              ...  \n",
       "136          1     241543.0           1152.0  \n",
       "137          1     797506.0           2733.0  \n",
       "138          1     921671.0           9349.0  \n",
       "139          1    1402087.0          16180.0  \n",
       "140          1    1646010.0           5548.0  \n",
       "\n",
       "[141 rows x 9 columns]"
      ]
     },
     "execution_count": 219,
     "metadata": {},
     "output_type": "execute_result"
    }
   ],
   "source": [
    "top_10_df"
   ]
  },
  {
   "cell_type": "code",
   "execution_count": 216,
   "id": "3b639f83",
   "metadata": {},
   "outputs": [],
   "source": [
    "top_10_groupby_df = top_10_df.groupby('profile_name').sum().reset_index() #reset index on order to scan by index with the for loop"
   ]
  },
  {
   "cell_type": "code",
   "execution_count": 229,
   "id": "066792f7",
   "metadata": {
    "scrolled": true
   },
   "outputs": [
    {
     "data": {
      "text/html": [
       "<div>\n",
       "<style scoped>\n",
       "    .dataframe tbody tr th:only-of-type {\n",
       "        vertical-align: middle;\n",
       "    }\n",
       "\n",
       "    .dataframe tbody tr th {\n",
       "        vertical-align: top;\n",
       "    }\n",
       "\n",
       "    .dataframe thead th {\n",
       "        text-align: right;\n",
       "    }\n",
       "</style>\n",
       "<table border=\"1\" class=\"dataframe\">\n",
       "  <thead>\n",
       "    <tr style=\"text-align: right;\">\n",
       "      <th></th>\n",
       "      <th>profile_name</th>\n",
       "      <th>sid</th>\n",
       "      <th>profile_id</th>\n",
       "      <th>followers</th>\n",
       "      <th>n_posts</th>\n",
       "      <th>location_id</th>\n",
       "      <th>post_type</th>\n",
       "      <th>numbr_likes</th>\n",
       "      <th>number_comments</th>\n",
       "    </tr>\n",
       "  </thead>\n",
       "  <tbody>\n",
       "    <tr>\n",
       "      <th>0</th>\n",
       "      <td>akshaykumar</td>\n",
       "      <td>45671665</td>\n",
       "      <td>11791329992.0</td>\n",
       "      <td>26252169.0</td>\n",
       "      <td>15249.0</td>\n",
       "      <td>1653066228336077.0</td>\n",
       "      <td>13</td>\n",
       "      <td>13352324.0</td>\n",
       "      <td>85572.0</td>\n",
       "    </tr>\n",
       "    <tr>\n",
       "      <th>1</th>\n",
       "      <td>andresiniesta8</td>\n",
       "      <td>41247528</td>\n",
       "      <td>5962381392.0</td>\n",
       "      <td>29542143.0</td>\n",
       "      <td>11880.0</td>\n",
       "      <td>2019566475639570.0</td>\n",
       "      <td>12</td>\n",
       "      <td>5676272.0</td>\n",
       "      <td>26845.0</td>\n",
       "    </tr>\n",
       "    <tr>\n",
       "      <th>2</th>\n",
       "      <td>buzzfeedtasty</td>\n",
       "      <td>3800667</td>\n",
       "      <td>27631587074.0</td>\n",
       "      <td>30246783.0</td>\n",
       "      <td>36283.0</td>\n",
       "      <td>284407070.0</td>\n",
       "      <td>13</td>\n",
       "      <td>1311218.0</td>\n",
       "      <td>12521.0</td>\n",
       "    </tr>\n",
       "    <tr>\n",
       "      <th>3</th>\n",
       "      <td>danbilzerian</td>\n",
       "      <td>7622100</td>\n",
       "      <td>756255915.0</td>\n",
       "      <td>26476004.0</td>\n",
       "      <td>19665.0</td>\n",
       "      <td>3462999176842407.0</td>\n",
       "      <td>15</td>\n",
       "      <td>12946699.0</td>\n",
       "      <td>128921.0</td>\n",
       "    </tr>\n",
       "    <tr>\n",
       "      <th>4</th>\n",
       "      <td>hm</td>\n",
       "      <td>317380</td>\n",
       "      <td>46820160.0</td>\n",
       "      <td>29176804.0</td>\n",
       "      <td>9132.0</td>\n",
       "      <td>613921984.0</td>\n",
       "      <td>2</td>\n",
       "      <td>162427.0</td>\n",
       "      <td>730.0</td>\n",
       "    </tr>\n",
       "    <tr>\n",
       "      <th>5</th>\n",
       "      <td>instagram</td>\n",
       "      <td>11440728</td>\n",
       "      <td>850860880.0</td>\n",
       "      <td>285457645.0</td>\n",
       "      <td>195840.0</td>\n",
       "      <td>3359947015132448.0</td>\n",
       "      <td>37</td>\n",
       "      <td>29864166.0</td>\n",
       "      <td>225050.0</td>\n",
       "    </tr>\n",
       "    <tr>\n",
       "      <th>6</th>\n",
       "      <td>louisvuitton</td>\n",
       "      <td>330376</td>\n",
       "      <td>187619120.0</td>\n",
       "      <td>30689316.0</td>\n",
       "      <td>3352.0</td>\n",
       "      <td>5590714.0</td>\n",
       "      <td>1</td>\n",
       "      <td>186857.0</td>\n",
       "      <td>867.0</td>\n",
       "    </tr>\n",
       "    <tr>\n",
       "      <th>7</th>\n",
       "      <td>nba</td>\n",
       "      <td>6067746</td>\n",
       "      <td>374840748.0</td>\n",
       "      <td>35339708.0</td>\n",
       "      <td>518688.0</td>\n",
       "      <td>1531514066974584.0</td>\n",
       "      <td>23</td>\n",
       "      <td>4185542.0</td>\n",
       "      <td>19276.0</td>\n",
       "    </tr>\n",
       "    <tr>\n",
       "      <th>8</th>\n",
       "      <td>princessyahrini</td>\n",
       "      <td>93994004</td>\n",
       "      <td>630238154.0</td>\n",
       "      <td>29042823.0</td>\n",
       "      <td>122694.0</td>\n",
       "      <td>5819194325758728.0</td>\n",
       "      <td>29</td>\n",
       "      <td>3388378.0</td>\n",
       "      <td>20131.0</td>\n",
       "    </tr>\n",
       "    <tr>\n",
       "      <th>9</th>\n",
       "      <td>victoriassecret</td>\n",
       "      <td>2599898</td>\n",
       "      <td>23916788.0</td>\n",
       "      <td>65269440.0</td>\n",
       "      <td>51485.0</td>\n",
       "      <td>3852820710127985.0</td>\n",
       "      <td>9</td>\n",
       "      <td>1676565.0</td>\n",
       "      <td>3358.0</td>\n",
       "    </tr>\n",
       "  </tbody>\n",
       "</table>\n",
       "</div>"
      ],
      "text/plain": [
       "      profile_name       sid    profile_id   followers  n_posts  \\\n",
       "0      akshaykumar  45671665 11791329992.0  26252169.0  15249.0   \n",
       "1   andresiniesta8  41247528  5962381392.0  29542143.0  11880.0   \n",
       "2    buzzfeedtasty   3800667 27631587074.0  30246783.0  36283.0   \n",
       "3     danbilzerian   7622100   756255915.0  26476004.0  19665.0   \n",
       "4               hm    317380    46820160.0  29176804.0   9132.0   \n",
       "5        instagram  11440728   850860880.0 285457645.0 195840.0   \n",
       "6     louisvuitton    330376   187619120.0  30689316.0   3352.0   \n",
       "7              nba   6067746   374840748.0  35339708.0 518688.0   \n",
       "8  princessyahrini  93994004   630238154.0  29042823.0 122694.0   \n",
       "9  victoriassecret   2599898    23916788.0  65269440.0  51485.0   \n",
       "\n",
       "         location_id  post_type  numbr_likes  number_comments  \n",
       "0 1653066228336077.0         13   13352324.0          85572.0  \n",
       "1 2019566475639570.0         12    5676272.0          26845.0  \n",
       "2        284407070.0         13    1311218.0          12521.0  \n",
       "3 3462999176842407.0         15   12946699.0         128921.0  \n",
       "4        613921984.0          2     162427.0            730.0  \n",
       "5 3359947015132448.0         37   29864166.0         225050.0  \n",
       "6          5590714.0          1     186857.0            867.0  \n",
       "7 1531514066974584.0         23    4185542.0          19276.0  \n",
       "8 5819194325758728.0         29    3388378.0          20131.0  \n",
       "9 3852820710127985.0          9    1676565.0           3358.0  "
      ]
     },
     "execution_count": 229,
     "metadata": {},
     "output_type": "execute_result"
    }
   ],
   "source": [
    "top_10_groupby_df #with groupby the dataset is grouped by the profile name and then the sum function is applied"
   ]
  },
  {
   "cell_type": "markdown",
   "id": "0ba27b94",
   "metadata": {},
   "source": [
    "Summing after groupby is ok for the number of likes and comments which is associated to each post while is not good for the number of followers which is linked instead to each profile.\n",
    "Due to that in top_10_groupby_df the number of followers cannot be used since it was obtained summing the correct one for each occurence of the profile_name. \n",
    "To obtain the correct one we decided to groupby after dropping duplicates and retrieve the number of followers associated to each row in the for loop."
   ]
  },
  {
   "cell_type": "code",
   "execution_count": 21,
   "id": "f3d70602",
   "metadata": {},
   "outputs": [
    {
     "data": {
      "text/html": [
       "<div>\n",
       "<style scoped>\n",
       "    .dataframe tbody tr th:only-of-type {\n",
       "        vertical-align: middle;\n",
       "    }\n",
       "\n",
       "    .dataframe tbody tr th {\n",
       "        vertical-align: top;\n",
       "    }\n",
       "\n",
       "    .dataframe thead th {\n",
       "        text-align: right;\n",
       "    }\n",
       "</style>\n",
       "<table border=\"1\" class=\"dataframe\">\n",
       "  <thead>\n",
       "    <tr style=\"text-align: right;\">\n",
       "      <th></th>\n",
       "      <th>sid</th>\n",
       "      <th>profile_id</th>\n",
       "      <th>followers</th>\n",
       "      <th>n_posts</th>\n",
       "      <th>location_id</th>\n",
       "      <th>post_type</th>\n",
       "      <th>numbr_likes</th>\n",
       "      <th>number_comments</th>\n",
       "    </tr>\n",
       "    <tr>\n",
       "      <th>profile_name</th>\n",
       "      <th></th>\n",
       "      <th></th>\n",
       "      <th></th>\n",
       "      <th></th>\n",
       "      <th></th>\n",
       "      <th></th>\n",
       "      <th></th>\n",
       "      <th></th>\n",
       "    </tr>\n",
       "  </thead>\n",
       "  <tbody>\n",
       "    <tr>\n",
       "      <th>akshaykumar</th>\n",
       "      <td>3513205</td>\n",
       "      <td>9.070254e+08</td>\n",
       "      <td>26252169.0</td>\n",
       "      <td>1173.0</td>\n",
       "      <td>1.653066e+15</td>\n",
       "      <td>1</td>\n",
       "      <td>382877.0</td>\n",
       "      <td>654.0</td>\n",
       "    </tr>\n",
       "    <tr>\n",
       "      <th>andresiniesta8</th>\n",
       "      <td>3437294</td>\n",
       "      <td>4.968651e+08</td>\n",
       "      <td>29542143.0</td>\n",
       "      <td>990.0</td>\n",
       "      <td>1.793700e+05</td>\n",
       "      <td>1</td>\n",
       "      <td>604503.0</td>\n",
       "      <td>3222.0</td>\n",
       "    </tr>\n",
       "    <tr>\n",
       "      <th>buzzfeedtasty</th>\n",
       "      <td>292359</td>\n",
       "      <td>2.125507e+09</td>\n",
       "      <td>30246783.0</td>\n",
       "      <td>2791.0</td>\n",
       "      <td>0.000000e+00</td>\n",
       "      <td>1</td>\n",
       "      <td>77185.0</td>\n",
       "      <td>504.0</td>\n",
       "    </tr>\n",
       "    <tr>\n",
       "      <th>danbilzerian</th>\n",
       "      <td>508140</td>\n",
       "      <td>5.041706e+07</td>\n",
       "      <td>26476004.0</td>\n",
       "      <td>1311.0</td>\n",
       "      <td>2.222444e+08</td>\n",
       "      <td>1</td>\n",
       "      <td>266200.0</td>\n",
       "      <td>3290.0</td>\n",
       "    </tr>\n",
       "    <tr>\n",
       "      <th>hm</th>\n",
       "      <td>158690</td>\n",
       "      <td>2.341008e+07</td>\n",
       "      <td>29176804.0</td>\n",
       "      <td>4566.0</td>\n",
       "      <td>3.846191e+08</td>\n",
       "      <td>1</td>\n",
       "      <td>116059.0</td>\n",
       "      <td>642.0</td>\n",
       "    </tr>\n",
       "    <tr>\n",
       "      <th>instagram</th>\n",
       "      <td>336492</td>\n",
       "      <td>2.502532e+07</td>\n",
       "      <td>285457645.0</td>\n",
       "      <td>5760.0</td>\n",
       "      <td>5.332856e+06</td>\n",
       "      <td>1</td>\n",
       "      <td>125428.0</td>\n",
       "      <td>1240.0</td>\n",
       "    </tr>\n",
       "    <tr>\n",
       "      <th>louisvuitton</th>\n",
       "      <td>330376</td>\n",
       "      <td>1.876191e+08</td>\n",
       "      <td>30689316.0</td>\n",
       "      <td>3352.0</td>\n",
       "      <td>5.590714e+06</td>\n",
       "      <td>1</td>\n",
       "      <td>186857.0</td>\n",
       "      <td>867.0</td>\n",
       "    </tr>\n",
       "    <tr>\n",
       "      <th>nba</th>\n",
       "      <td>337097</td>\n",
       "      <td>2.082449e+07</td>\n",
       "      <td>35339708.0</td>\n",
       "      <td>28816.0</td>\n",
       "      <td>6.294880e+05</td>\n",
       "      <td>1</td>\n",
       "      <td>164521.0</td>\n",
       "      <td>1415.0</td>\n",
       "    </tr>\n",
       "    <tr>\n",
       "      <th>princessyahrini</th>\n",
       "      <td>3615154</td>\n",
       "      <td>2.423993e+07</td>\n",
       "      <td>29042823.0</td>\n",
       "      <td>4719.0</td>\n",
       "      <td>6.451783e+08</td>\n",
       "      <td>1</td>\n",
       "      <td>55212.0</td>\n",
       "      <td>699.0</td>\n",
       "    </tr>\n",
       "    <tr>\n",
       "      <th>victoriassecret</th>\n",
       "      <td>371414</td>\n",
       "      <td>3.416684e+06</td>\n",
       "      <td>65269440.0</td>\n",
       "      <td>7355.0</td>\n",
       "      <td>1.165313e+14</td>\n",
       "      <td>1</td>\n",
       "      <td>270092.0</td>\n",
       "      <td>368.0</td>\n",
       "    </tr>\n",
       "  </tbody>\n",
       "</table>\n",
       "</div>"
      ],
      "text/plain": [
       "                     sid    profile_id    followers  n_posts   location_id  \\\n",
       "profile_name                                                                 \n",
       "akshaykumar      3513205  9.070254e+08   26252169.0   1173.0  1.653066e+15   \n",
       "andresiniesta8   3437294  4.968651e+08   29542143.0    990.0  1.793700e+05   \n",
       "buzzfeedtasty     292359  2.125507e+09   30246783.0   2791.0  0.000000e+00   \n",
       "danbilzerian      508140  5.041706e+07   26476004.0   1311.0  2.222444e+08   \n",
       "hm                158690  2.341008e+07   29176804.0   4566.0  3.846191e+08   \n",
       "instagram         336492  2.502532e+07  285457645.0   5760.0  5.332856e+06   \n",
       "louisvuitton      330376  1.876191e+08   30689316.0   3352.0  5.590714e+06   \n",
       "nba               337097  2.082449e+07   35339708.0  28816.0  6.294880e+05   \n",
       "princessyahrini  3615154  2.423993e+07   29042823.0   4719.0  6.451783e+08   \n",
       "victoriassecret   371414  3.416684e+06   65269440.0   7355.0  1.165313e+14   \n",
       "\n",
       "                 post_type  numbr_likes  number_comments  \n",
       "profile_name                                              \n",
       "akshaykumar              1     382877.0            654.0  \n",
       "andresiniesta8           1     604503.0           3222.0  \n",
       "buzzfeedtasty            1      77185.0            504.0  \n",
       "danbilzerian             1     266200.0           3290.0  \n",
       "hm                       1     116059.0            642.0  \n",
       "instagram                1     125428.0           1240.0  \n",
       "louisvuitton             1     186857.0            867.0  \n",
       "nba                      1     164521.0           1415.0  \n",
       "princessyahrini          1      55212.0            699.0  \n",
       "victoriassecret          1     270092.0            368.0  "
      ]
     },
     "execution_count": 21,
     "metadata": {},
     "output_type": "execute_result"
    }
   ],
   "source": [
    "top_10_df_duplicates=top_10_df.drop_duplicates(subset='profile_name').reset_index(drop=True).groupby('profile_name').sum()\n",
    "top_10_df_duplicates #reset index to carry out the for loop in an easier way"
   ]
  },
  {
   "cell_type": "code",
   "execution_count": 22,
   "id": "b450bfd2",
   "metadata": {
    "scrolled": true
   },
   "outputs": [
    {
     "name": "stdout",
     "output_type": "stream",
     "text": [
      "__________\n",
      "akshaykumar\n",
      "Proportion of likes respect to followers: 50.8617935531346 %\n",
      "Proportion of comments respect to followers: 0.3259616376841091 %\n",
      "__________\n",
      "andresiniesta8\n",
      "Proportion of likes respect to followers: 19.214151119639492 %\n",
      "Proportion of comments respect to followers: 0.09087018500993649 %\n",
      "__________\n",
      "buzzfeedtasty\n",
      "Proportion of likes respect to followers: 4.335065980405255 %\n",
      "Proportion of comments respect to followers: 0.0413961378967145 %\n",
      "__________\n",
      "danbilzerian\n",
      "Proportion of likes respect to followers: 48.899747106851926 %\n",
      "Proportion of comments respect to followers: 0.48693526409801113 %\n",
      "__________\n",
      "hm\n",
      "Proportion of likes respect to followers: 0.5566990819145236 %\n",
      "Proportion of comments respect to followers: 0.0025019875377714435 %\n",
      "__________\n",
      "instagram\n",
      "Proportion of likes respect to followers: 10.461855383133985 %\n",
      "Proportion of comments respect to followers: 0.07883831592599315 %\n",
      "__________\n",
      "louisvuitton\n",
      "Proportion of likes respect to followers: 0.608866616642743 %\n",
      "Proportion of comments respect to followers: 0.0028250874017524534 %\n",
      "__________\n",
      "nba\n",
      "Proportion of likes respect to followers: 11.843736796014275 %\n",
      "Proportion of comments respect to followers: 0.0545448762621355 %\n",
      "__________\n",
      "princessyahrini\n",
      "Proportion of likes respect to followers: 11.666834177930982 %\n",
      "Proportion of comments respect to followers: 0.06931488719261208 %\n",
      "__________\n",
      "victoriassecret\n",
      "Proportion of likes respect to followers: 2.568682985482946 %\n",
      "Proportion of comments respect to followers: 0.0051448273495222265 %\n",
      "\n",
      " With mixed type there are not any posts\n"
     ]
    }
   ],
   "source": [
    "for i in top_10_groupby_df.index:\n",
    "    print('__________')\n",
    "    print(top_10_groupby_df['profile_name'][i])\n",
    "    likes_i = top_10_groupby_df['numbr_likes'][i]\n",
    "    comments_i = top_10_groupby_df['number_comments'][i]\n",
    "    followers_i = top_10_df_duplicates['followers'][i] #retrieve the number of followers from the dropped datset\n",
    "    print('Proportion of likes respect to followers:', likes_i/followers_i*100,'%')\n",
    "    print('Proportion of comments respect to followers:', comments_i/followers_i*100,'%')\n",
    "print('\\n With mixed type there are not any posts')"
   ]
  },
  {
   "cell_type": "markdown",
   "id": "05ac2f9c-7c56-41a8-8da6-4be5625794da",
   "metadata": {},
   "source": [
    "## [RQ6] It's time to get information from the user posting effectiveness."
   ]
  },
  {
   "cell_type": "markdown",
   "id": "a65a0b42-7230-442c-b16e-2cfcfd342689",
   "metadata": {},
   "source": [
    "### What is the average time (days and minutes) a user lets pass before publishing another post? Plot the top 3 users that publish posts more frequently (calculate the average time that passes between posts), including their amount of followers and following. Provide insights from that chart."
   ]
  },
  {
   "cell_type": "markdown",
   "id": "ecfddb20-2c75-4e1f-b66f-c8f0360a076e",
   "metadata": {},
   "source": [
    "To give an answer to these questions (and to some of the next questions, in particular of the bonus points) it could be useful to map *profile_id*s to the posts of the profile (as a DataFrame object, including only the columns of interest). This is, computationally speaking, an heavy operation; for this reason we computed it only once and then we stored it as a binary file in order to be able to only load the file (which contains the dict). To do so, we used the pickle package."
   ]
  },
  {
   "cell_type": "code",
   "execution_count": 2,
   "id": "51f51dbe-061d-4c0e-8174-d226d0e9ee70",
   "metadata": {},
   "outputs": [],
   "source": [
    "import pickle"
   ]
  },
  {
   "cell_type": "code",
   "execution_count": 6,
   "id": "c59e994e-ed07-4702-b294-b4e06c4bd2ce",
   "metadata": {},
   "outputs": [],
   "source": [
    "profiles = pd.read_csv('~/Documents/Data_Science/ADM/homeworks/instagram_profiles.csv', delimiter = '\\t', \n",
    "                                  usecols=['profile_id', 'following', 'followers', 'profile_name'])\n",
    "profiles.profile_id.dropna(inplace=True)"
   ]
  },
  {
   "cell_type": "code",
   "execution_count": 78,
   "id": "ab6db864-9849-4218-b95b-c72b50ed12ab",
   "metadata": {},
   "outputs": [],
   "source": [
    "def profiles_to_posts(profiles):\n",
    "    '''\n",
    "    Function that return a dict() object that maps every profile_id with its posts\n",
    "    '''\n",
    "    #initialize an empty list\n",
    "    l = []\n",
    "\n",
    "    #read the file 'instagram_posts' in chunks\n",
    "    for chunk in tqdm(pd.read_csv('~/Documents/Data_Science/ADM/homeworks/instagram_posts.csv', delimiter = '\\t', \n",
    "                                  usecols=['profile_id', 'cts', 'location_id', 'numbr_likes', 'number_comments'], chunksize = 250000, parse_dates=['cts'], date_parser=pd.to_datetime)):\n",
    "        chunk.dropna(subset = ['cts', 'profile_id'], inplace=True)\n",
    "        l.append(profiles.merge(chunk, on = 'profile_id', how = 'inner'))\n",
    "    \n",
    "    #create the dataframe\n",
    "    pro_to_posts = pd.concat(l)\n",
    "    \n",
    "    return pro_to_posts"
   ]
  },
  {
   "cell_type": "code",
   "execution_count": 80,
   "id": "36c507bc-8956-4a08-9a0e-cf1e661e0d24",
   "metadata": {},
   "outputs": [],
   "source": [
    "#code that computes and save the Dataframe in a file\n",
    "pro_to_posts = profiles_to_posts(profiles)\n",
    "with open(\"profiles_to_posts.dat\", \"wb\") as file:\n",
    "    pickle.dump(pro_to_posts, file)"
   ]
  },
  {
   "cell_type": "code",
   "execution_count": 128,
   "id": "4f8e45a4-3ce1-47c0-861f-1c8305dc9447",
   "metadata": {},
   "outputs": [
    {
     "name": "stdout",
     "output_type": "stream",
     "text": [
      "The average time a user lets pass before publishing another post is: 16 days 14:13:39.238841055\n"
     ]
    }
   ],
   "source": [
    "#initialize a dictionary that maps each profile_id to its average time\n",
    "averages = dict()\n",
    "\n",
    "#initialize the global average with the first average time of the first user that has at least 2 posts\n",
    "for pro_id, p_posts in pro_to_posts:\n",
    "    if len(p_posts) > 1:\n",
    "        global_average = (max(p_posts.cts) - min(p_posts.cts)) / (len(p_posts) - 1)\n",
    "        break\n",
    "\n",
    "for pro_id, p_posts in pro_to_posts:\n",
    "    if len(p_posts) > 1:\n",
    "        averages[pro_id] = (max(p_posts.cts) - min(p_posts.cts)) / (len(p_posts) - 1)\n",
    "        global_average = (global_average + averages[pro_id]) / 2\n",
    "        \n",
    "print('The average time a user lets pass before publishing another post is:', global_average)"
   ]
  },
  {
   "cell_type": "code",
   "execution_count": 129,
   "id": "cff8024c-d317-4963-8a43-c0ae806ea1a0",
   "metadata": {},
   "outputs": [],
   "source": [
    "with open(\"averages.dat\", \"wb\") as file_avg:\n",
    "    pickle.dump(averages, file_avg)"
   ]
  },
  {
   "cell_type": "code",
   "execution_count": 3,
   "id": "8b4a178b-dbfd-4eea-b8ca-780c659d2aeb",
   "metadata": {},
   "outputs": [],
   "source": [
    "#code that retrieves the DataFrame from the file\n",
    "with open(\"profiles_to_posts.dat\", \"rb\") as file:\n",
    "    pro_to_posts = pickle.load(file)\n",
    "    \n",
    "with open(\"averages.dat\", \"rb\") as file_avg:\n",
    "    averages = pickle.load(file_avg)"
   ]
  },
  {
   "cell_type": "markdown",
   "id": "8348a296-6e38-4da9-bff8-f151025458cc",
   "metadata": {},
   "source": [
    "At this point we have the datas that we were talking about, so we can proceed with the answers to the questions."
   ]
  },
  {
   "cell_type": "code",
   "execution_count": 4,
   "id": "31a89181-f907-487a-8259-be9e630c4ba3",
   "metadata": {},
   "outputs": [],
   "source": [
    "#sort the average times in descending order\n",
    "sorted_averages = sorted(averages.items(), key=lambda x:x[1])"
   ]
  },
  {
   "cell_type": "code",
   "execution_count": 24,
   "id": "b307c573-757f-46cf-be2e-bcc8c7a4fb8e",
   "metadata": {},
   "outputs": [
    {
     "name": "stdout",
     "output_type": "stream",
     "text": [
      "The 1 -st user to post more frequently is elvinabril and has 1569.0 followers and 738.0 following.\n",
      "The 2 -nd user to post more frequently is alex_dinsdale and has 705.0 followers and 1572.0 following.\n",
      "The 3 -rd user to post more frequently is kkyros and has 1560.0 followers and 1094.0 following.\n"
     ]
    }
   ],
   "source": [
    "#print the 3 more \"active\" profiles\n",
    "i = 1\n",
    "j = 0\n",
    "while i < 4:\n",
    "    #select the profile\n",
    "    user = profiles.loc[profiles['profile_id'] == sorted_averages[j][0]]\n",
    "    j += 1 \n",
    "    #skip the profiles for which we don't have info about followers and following\n",
    "    if np.isnan(user.followers.values[0]) or np.isnan(user.following.values[0]):\n",
    "        continue\n",
    "    if i == 1: pos = '-st'\n",
    "    elif i == 2: pos = '-nd'\n",
    "    elif i == 3: pos = '-rd'\n",
    "    print('The', i, pos, 'user to post more frequently is', user.profile_name.values[0], 'and has', user.followers.values[0], 'followers and', user.following.values[0], 'following.' )\n",
    "    i += 1"
   ]
  },
  {
   "cell_type": "markdown",
   "id": "3def99fb-369a-4475-b335-2a2d58a49cc3",
   "metadata": {},
   "source": [
    "### Using the function you previously coded, plot the time intervals with the highest average number of “likes” and the ones with the highest average number of comments on posts."
   ]
  },
  {
   "cell_type": "code",
   "execution_count": 24,
   "id": "39db1e51-8356-40df-b96e-9138a599d17e",
   "metadata": {},
   "outputs": [
    {
     "name": "stderr",
     "output_type": "stream",
     "text": [
      "/var/folders/_2/4hw_b5r17l139bnw2649h6yc0000gn/T/ipykernel_74203/952755035.py:9: SettingWithCopyWarning: \n",
      "A value is trying to be set on a copy of a slice from a DataFrame\n",
      "\n",
      "See the caveats in the documentation: https://pandas.pydata.org/pandas-docs/stable/user_guide/indexing.html#returning-a-view-versus-a-copy\n",
      "  post.dropna(subset=['numbr_likes', 'number_comments'], inplace = True)\n"
     ]
    },
    {
     "data": {
      "image/png": "[encoded data removed]",
      "text/plain": [
       "<Figure size 432x288 with 1 Axes>"
      ]
     },
     "metadata": {
      "needs_background": "light"
     },
     "output_type": "display_data"
    },
    {
     "data": {
      "image/png": "[encoded data removed]",
      "text/plain": [
       "<Figure size 432x288 with 1 Axes>"
      ]
     },
     "metadata": {
      "needs_background": "light"
     },
     "output_type": "display_data"
    }
   ],
   "source": [
    "def plot_likes_and_comments(intervals):\n",
    "    '''\n",
    "    Function that takes in input \n",
    "    - a list of time intervals  \n",
    "    - a Counter providing the number of posts of every possible time (among the ones in the file) \n",
    "    Returns the number of posts between each one of the time intervals\n",
    "    '''\n",
    "    post = pro_to_posts.obj[['cts', 'numbr_likes', 'number_comments']]\n",
    "    post.dropna(subset=['numbr_likes', 'number_comments'], inplace = True)\n",
    "    #initialize the output arrays\n",
    "    likes = np.empty(len(intervals))\n",
    "    comments = np.empty(len(intervals))\n",
    "    #for every post, check in which interval is comprehended\n",
    "    for time, like, comment in zip(post.cts, post.numbr_likes, post.number_comments):\n",
    "        time = time.time()\n",
    "        for i, interval in enumerate(intervals):\n",
    "            if time >= interval[0] and time <= interval[1]:\n",
    "                try:\n",
    "                    likes[i] = (likes[i] + like) / 2\n",
    "                    comments[i] = (comments[i] + comment) / 2\n",
    "                except:\n",
    "                    likes[i] = like\n",
    "                    comments[i] = comment\n",
    "                break\n",
    "                \n",
    "    return (likes, comments)\n",
    "#define the time intervals\n",
    "intervals = [(datetime.time(6,0,0), datetime.time(10,59,59)), (datetime.time(11,0,0), datetime.time(13,59,59)), \n",
    "             (datetime.time(14,0,0), datetime.time(16,59,59)), (datetime.time(17,0,0), datetime.time(19,59,59)),\n",
    "            (datetime.time(20,0,0), datetime.time(23,59,59)),(datetime.time(0,0,0), datetime.time(2,59,59)), (datetime.time(3,0,0), datetime.time(5,59,59))]\n",
    "\n",
    "likes, comments = plot_likes_and_comments(intervals)\n",
    "\n",
    "#plot likes\n",
    "plt.bar(np.array([str(interval[0]) + '-'+str(interval[1]) for interval in intervals]),likes)\n",
    "plt.xticks(rotation=90)\n",
    "plt.show()\n",
    "\n",
    "#plot comments\n",
    "plt.bar(np.array([str(interval[0]) + '-'+str(interval[1]) for interval in intervals]),comments)\n",
    "plt.xticks(rotation=90)\n",
    "plt.show()"
   ]
  },
  {
   "cell_type": "markdown",
   "id": "2f92367f-b6ce-414b-bf3d-f567ec8ecfb5",
   "metadata": {},
   "source": [
    "The result makes sense because the intervals with the highest average of likes and comments coincides with the one in which people post more."
   ]
  },
  {
   "cell_type": "markdown",
   "id": "baa98e3f",
   "metadata": {},
   "source": [
    "## [RQ7] Of course, calculating probabilities is a job that any Data Scientist must know. So let's compute some engaging figures."
   ]
  },
  {
   "cell_type": "markdown",
   "id": "6643b973",
   "metadata": {},
   "source": [
    "### What's the probability that a post receives more than 20% \"likes\" of the number of followers a user has?"
   ]
  },
  {
   "cell_type": "markdown",
   "id": "5fcca404",
   "metadata": {
    "id": "JLTNcEh8fF3k"
   },
   "source": [
    "We are intrested in the probability that a post receives more than 20% \"likes\" of the number of followers a user has.\n",
    "So we extract from the posts dataframe only the column that are useful for our study: profile_id and numbr_likes.\n",
    "From profiles dataframe: profile_id works as the key, since in this way our datas can be used in different dataframes but they refers to the same profiles and followers.\n",
    "After this we deleted NA values and merged the two dataframes.\n",
    "We have  created a new coloum with the ratio between favorable cases and possible cases that are above 20 %. But it was a True/False array so with values_counts pandas function, using the attribute normalize=True we obtained that the percentage is 15.86 %."
   ]
  },
  {
   "cell_type": "code",
   "execution_count": null,
   "id": "0779029b",
   "metadata": {
    "id": "lclTQgqLbL49"
   },
   "outputs": [],
   "source": [
    "data_posts_sid_likes= pd.read_csv('/content/instagram_posts.csv', delimiter='\\t', usecols=['profile_id', 'numbr_likes'])"
   ]
  },
  {
   "cell_type": "code",
   "execution_count": null,
   "id": "c2dbb237",
   "metadata": {
    "id": "mA0YbCR_bOhV"
   },
   "outputs": [],
   "source": [
    "data_profiles_sid_likes=pd.read_csv('/content/instagram_profiles.csv', delimiter='\\t', usecols=['profile_id', 'followers'])"
   ]
  },
  {
   "cell_type": "code",
   "execution_count": null,
   "id": "ff0be7c0",
   "metadata": {
    "id": "BGZw6sBZbTWW"
   },
   "outputs": [],
   "source": [
    "data_posts_sid_likes.dropna( inplace=True)"
   ]
  },
  {
   "cell_type": "code",
   "execution_count": null,
   "id": "ccc47f18",
   "metadata": {
    "id": "iMK9sDYRbX79"
   },
   "outputs": [],
   "source": [
    "data_profiles_sid_likes.dropna( inplace=True)"
   ]
  },
  {
   "cell_type": "code",
   "execution_count": null,
   "id": "4086ba4a",
   "metadata": {
    "id": "0_Zwo3xvbaXf"
   },
   "outputs": [],
   "source": [
    "posts_profiles = pd.merge(data_posts_sid_likes, data_profiles_sid_likes, how = 'inner', on = 'profile_id')"
   ]
  },
  {
   "cell_type": "code",
   "execution_count": null,
   "id": "de590747",
   "metadata": {
    "id": "jZLUvbE6bbCf"
   },
   "outputs": [],
   "source": [
    "posts_profiles['20perc'] = posts_profiles['numbr_likes']/posts_profiles['followers'] >= 0.2"
   ]
  },
  {
   "cell_type": "code",
   "execution_count": null,
   "id": "a7f8912e",
   "metadata": {
    "colab": {
     "base_uri": "https://localhost:8080/"
    },
    "id": "9wv5f7Opbd65",
    "outputId": "383166ad-ddaa-49c0-c583-0b51cc7d00f4"
   },
   "outputs": [
    {
     "name": "stdout",
     "output_type": "stream",
     "text": [
      "False    84.131752\n",
      "True     15.868248\n",
      "Name: 20perc, dtype: float64\n"
     ]
    }
   ],
   "source": [
    "rel = posts_profiles['20perc'].value_counts(normalize = True)\n",
    "print(rel*100)"
   ]
  },
  {
   "cell_type": "markdown",
   "id": "0120d119-841b-443f-8b84-40a2ef38ab16",
   "metadata": {
    "id": "ZWKjutcl8nGV"
   },
   "source": [
    "### Do users usually return to locations? Extract the probability that a user returns to a site after having posted it in the past. Does that probability make sense to you? Explain why or why not."
   ]
  },
  {
   "cell_type": "markdown",
   "id": "c8b4c1b5-f0a4-4832-9896-11cf9deeec74",
   "metadata": {
    "id": "kJ-bn3ic8t9H"
   },
   "source": [
    "Now we are asked to extract the probability that a user returns to a site after having posted there in the past.\n",
    "As before we consider from posts dataframe only profile_id and location_id coloumns. As always we delete the NA values."
   ]
  },
  {
   "cell_type": "code",
   "execution_count": 3,
   "id": "467c10d0",
   "metadata": {
    "id": "RyFsKDoncpXI"
   },
   "outputs": [],
   "source": [
    "import pandas as pd\n",
    "data_posts_profile_location= pd.read_csv('instagram_posts.csv', delimiter='\\t', usecols=['profile_id', 'location_id'])"
   ]
  },
  {
   "cell_type": "code",
   "execution_count": 4,
   "id": "297e6ef5",
   "metadata": {
    "colab": {
     "base_uri": "https://localhost:8080/"
    },
    "id": "eKrEg-Decpfj",
    "outputId": "6f377b65-bd99-4cf3-9dca-f42d4a17e7bb"
   },
   "outputs": [
    {
     "name": "stdout",
     "output_type": "stream",
     "text": [
      "            profile_id   location_id\n",
      "0         2.237948e+09  1.022366e+15\n",
      "1         5.579335e+09  4.574268e+14\n",
      "2         3.134296e+08  4.574268e+14\n",
      "3         1.837593e+09  4.574268e+14\n",
      "4         1.131527e+09  4.574268e+14\n",
      "...                ...           ...\n",
      "42710192  5.556457e+09  4.574268e+14\n",
      "42710193  3.371865e+08  4.574268e+14\n",
      "42710194  3.289886e+09  4.574268e+14\n",
      "42710195  8.536366e+09  4.267235e+06\n",
      "42710196  2.219100e+09  4.574268e+14\n",
      "\n",
      "[28625055 rows x 2 columns]\n"
     ]
    }
   ],
   "source": [
    "data_posts_profile_location.dropna( subset=['profile_id', 'location_id'], inplace=True)\n",
    "print(data_posts_profile_location)"
   ]
  },
  {
   "cell_type": "code",
   "execution_count": 5,
   "id": "085bb8d2",
   "metadata": {
    "colab": {
     "base_uri": "https://localhost:8080/",
     "height": 166
    },
    "id": "YEZtKlk7cpkW",
    "outputId": "d209d24c-4fe6-44d7-abf8-7f9811f712c3"
   },
   "outputs": [],
   "source": [
    "#We have grouped by the profile_id so for each one of them we have all the locations of them posts.\n",
    "group=data_posts_profile_location.groupby('profile_id')"
   ]
  },
  {
   "cell_type": "code",
   "execution_count": 6,
   "id": "b857e4ff",
   "metadata": {
    "colab": {
     "base_uri": "https://localhost:8080/",
     "height": 166
    },
    "id": "9OxBYysmP0-e",
    "outputId": "6e23da6b-ba8e-4c96-d72b-962a65974e72"
   },
   "outputs": [],
   "source": [
    "#After that we created a loop where the output is a True/False list if the locations id was greater than 1 and viceversa.\n",
    "for profiles, location in group:\n",
    "    l=[j for j in location.location_id.value_counts() if j>1]\n"
   ]
  },
  {
   "cell_type": "code",
   "execution_count": 8,
   "id": "9f256ec6",
   "metadata": {
    "colab": {
     "base_uri": "https://localhost:8080/",
     "height": 502
    },
    "id": "SEF54Uzic7yb",
    "outputId": "4c2800b0-14ca-47e7-906e-6ae1d5a403bf"
   },
   "outputs": [
    {
     "data": {
      "text/plain": [
       "Series([], dtype: float64)"
      ]
     },
     "execution_count": 8,
     "metadata": {},
     "output_type": "execute_result"
    }
   ],
   "source": [
    "#We convert our list in a series so we can now apply values_counts attributes and have the following result:\n",
    "c=pd.Series(l, dtype='float64')\n",
    "(c.value_counts(normalize=True))*100"
   ]
  },
  {
   "cell_type": "markdown",
   "id": "08c49fa2-5c2a-4272-a0c6-ff5241990005",
   "metadata": {
    "id": "vBy-3s_FILgN"
   },
   "source": [
    "So the probability that a profile come back in the same place is 14,04%. \n",
    "This probability is quite low if we expect that people should publish posts with the same location for example in the same day, or locations near to where they live or furthermore locations linked to their business purposes, but we must take into account as supposed in RQ5 that people tend to add locations when they visit new places and they want to share the novelty with their followers and probably they tend not to realize a content or tag the location when they come back to places of routine. So this could be one of the possible explanations of this low value."
   ]
  },
  {
   "cell_type": "markdown",
   "id": "1e9087be",
   "metadata": {},
   "source": [
    "## [RQ8] Every decision you take in a data-based environment should be reinforced with charts, statistical tests and analysis methods to check whether a hypothesis is correct or not."
   ]
  },
  {
   "cell_type": "markdown",
   "id": "91f12027",
   "metadata": {},
   "source": [
    "### Does more “likes” also mean more comments? Plot a scatter plot of “likes” vs comments for posts."
   ]
  },
  {
   "cell_type": "code",
   "execution_count": 141,
   "id": "8ed70f0e",
   "metadata": {
    "colab": {
     "base_uri": "https://localhost:8080/",
     "height": 242
    },
    "id": "LAZ5bKFsuhHL",
    "outputId": "582729fb-6d97-49d0-853c-7ded684d9642"
   },
   "outputs": [],
   "source": [
    "data_numbr_likes_comm=pd.read_csv('instagram_posts.csv', delimiter='\\t', usecols=['numbr_likes', 'number_comments'])"
   ]
  },
  {
   "cell_type": "code",
   "execution_count": 17,
   "id": "3bc67d3b",
   "metadata": {
    "id": "dJ_U42wnuj1s"
   },
   "outputs": [],
   "source": [
    "data_numbr_likes_comm.dropna(subset=['numbr_likes', 'number_comments'], inplace=True)"
   ]
  },
  {
   "cell_type": "code",
   "execution_count": 18,
   "id": "1be1bdfd",
   "metadata": {
    "colab": {
     "base_uri": "https://localhost:8080/",
     "height": 297
    },
    "id": "qJRCCYDVvF0a",
    "outputId": "5ccd3f37-79f7-4a6e-d659-51eaaee97cda"
   },
   "outputs": [
    {
     "data": {
      "text/plain": [
       "<matplotlib.axes._subplots.AxesSubplot at 0x7efc22c03c10>"
      ]
     },
     "execution_count": 18,
     "metadata": {},
     "output_type": "execute_result"
    },
    {
     "data": {
      "image/png": "[encoded data removed]",
      "text/plain": [
       "<Figure size 432x288 with 1 Axes>"
      ]
     },
     "metadata": {
      "needs_background": "light"
     },
     "output_type": "display_data"
    }
   ],
   "source": [
    "data_numbr_likes_comm.plot.scatter(x='numbr_likes', y='number_comments', c='DarkBlue')"
   ]
  },
  {
   "cell_type": "markdown",
   "id": "5fbdaef6",
   "metadata": {
    "id": "5t3KGMidJi9S"
   },
   "source": [
    "Through scatterplots we can analyze the linear reletionship between two variables, in particular correlation. On x axis we find the number oflikes, while on the y axis the number of comments. From this representation it's evident that when the number of likes increases, the number of comments is not so far from zero and doesn't increase in the same way of the first variable. It happens also for the number of comments, since when the values are higher the number of likes doesn't increase so much. So it is not possible to underline an actual significant relation between these two.\n"
   ]
  },
  {
   "cell_type": "markdown",
   "id": "f4ab6d04",
   "metadata": {
    "id": "OguHas9QLJoJ"
   },
   "source": [
    "### Can you find any significant relationship between the time a user publishes a post and the number of comments and “likes”? Use an appropriate statistical test or technique and support your choice."
   ]
  },
  {
   "cell_type": "markdown",
   "id": "e4772a79-ece7-4c0f-a13b-1642fd1f06b2",
   "metadata": {},
   "source": [
    "To answer to this question we can simply exploit the two lists likes and comments of the RQ6. These list were the average of likes and comments for each time interval."
   ]
  },
  {
   "cell_type": "markdown",
   "id": "18b21cc0-2a6e-4807-bd1e-34160fda3654",
   "metadata": {},
   "source": [
    "A statistical test that we can use is one-way ANOVA.\n",
    "\n",
    "In the null hypothesis H0, we have that the means are equal: μ1 = μ2 = μ3 = … = μk \n",
    "In the null hypothesis H0 at least one mean differs from the others."
   ]
  },
  {
   "cell_type": "code",
   "execution_count": 25,
   "id": "1aac914e-cee9-4ef8-b204-62457dd87108",
   "metadata": {},
   "outputs": [],
   "source": [
    "from scipy.stats import f_oneway"
   ]
  },
  {
   "cell_type": "code",
   "execution_count": 26,
   "id": "33b12d4f-646a-4981-a78f-d26ef023f5ae",
   "metadata": {},
   "outputs": [
    {
     "data": {
      "text/plain": [
       "F_onewayResult(statistic=3.043049205780961, pvalue=0.1066164033701431)"
      ]
     },
     "execution_count": 26,
     "metadata": {},
     "output_type": "execute_result"
    }
   ],
   "source": [
    "f_oneway(likes,comments)"
   ]
  },
  {
   "cell_type": "markdown",
   "id": "e57125ae-386e-423f-b0a7-0b6cf88dc68c",
   "metadata": {},
   "source": [
    "The p value is greater than 0.05 so we know that we don't refuse the null hypothesis and so we know that the comments  means and the likes means in specific intervals of times are the same."
   ]
  },
  {
   "cell_type": "markdown",
   "id": "e20affa6",
   "metadata": {
    "id": "B-xPnyW3JpdG"
   },
   "source": [
    "### What’s the distribution of followers? Plot the empirical distribution of followers amongst all users and extract the mean, mode, and quantiles. Interpret those figures.\n"
   ]
  },
  {
   "cell_type": "code",
   "execution_count": 142,
   "id": "fcfb4673",
   "metadata": {
    "id": "5mh-qt9sJ8C3"
   },
   "outputs": [],
   "source": [
    "data_profiles_followers = pd.read_csv('instagram_profiles.csv', delimiter='\\t', usecols=['followers'])"
   ]
  },
  {
   "cell_type": "code",
   "execution_count": 143,
   "id": "9e97cd70",
   "metadata": {
    "id": "XuRmvmvtJ87v"
   },
   "outputs": [],
   "source": [
    "dp_followers=data_profiles_followers.copy()"
   ]
  },
  {
   "cell_type": "code",
   "execution_count": 144,
   "id": "dfaede45",
   "metadata": {
    "id": "9lhMwGgRJ8_6"
   },
   "outputs": [],
   "source": [
    "dp_followers['followers']=dp_followers['followers'].fillna(dp_followers['followers'].median())"
   ]
  },
  {
   "cell_type": "code",
   "execution_count": 145,
   "id": "ef28846e",
   "metadata": {
    "id": "sJcdUn8XKBph"
   },
   "outputs": [
    {
     "data": {
      "text/plain": [
       "<AxesSubplot:title={'center':'Histogram of Followers'}, ylabel='Frequency'>"
      ]
     },
     "execution_count": 145,
     "metadata": {},
     "output_type": "execute_result"
    },
    {
     "data": {
      "image/png": "[encoded data removed]",
      "text/plain": [
       "<Figure size 432x288 with 1 Axes>"
      ]
     },
     "metadata": {
      "needs_background": "light"
     },
     "output_type": "display_data"
    }
   ],
   "source": [
    "dp_followers.plot.hist(range=[0,10000], edgecolor='black',color=\"lightblue\", legend=True, title='Histogram of Followers')"
   ]
  },
  {
   "cell_type": "code",
   "execution_count": 146,
   "id": "4d9b1d42",
   "metadata": {
    "id": "WuFhj1LHKD0c"
   },
   "outputs": [],
   "source": [
    "def ecdf(x):\n",
    "  x = x / np.sum(x)\n",
    "  return np.cumsum(x)\n",
    "\n",
    "ECDF=ecdf(dp_followers)"
   ]
  },
  {
   "cell_type": "code",
   "execution_count": 147,
   "id": "8eca9148",
   "metadata": {
    "id": "aL4_jzg5KLJ8"
   },
   "outputs": [
    {
     "data": {
      "image/png": "[encoded data removed]",
      "text/plain": [
       "<Figure size 432x288 with 1 Axes>"
      ]
     },
     "metadata": {
      "needs_background": "light"
     },
     "output_type": "display_data"
    }
   ],
   "source": [
    "ECDF.plot(title='Empirical Distribution of Followers ')\n",
    "plt.grid()"
   ]
  },
  {
   "cell_type": "code",
   "execution_count": 148,
   "id": "fda05acb",
   "metadata": {
    "id": "QRMOLI_0KNdo"
   },
   "outputs": [],
   "source": [
    "followers_sorted=dp_followers.sort_values(by='followers' , ascending=True)"
   ]
  },
  {
   "cell_type": "code",
   "execution_count": 149,
   "id": "f3c69673",
   "metadata": {
    "id": "D9rQ-SemKPdI"
   },
   "outputs": [
    {
     "data": {
      "text/html": [
       "<div>\n",
       "<style scoped>\n",
       "    .dataframe tbody tr th:only-of-type {\n",
       "        vertical-align: middle;\n",
       "    }\n",
       "\n",
       "    .dataframe tbody tr th {\n",
       "        vertical-align: top;\n",
       "    }\n",
       "\n",
       "    .dataframe thead th {\n",
       "        text-align: right;\n",
       "    }\n",
       "</style>\n",
       "<table border=\"1\" class=\"dataframe\">\n",
       "  <thead>\n",
       "    <tr style=\"text-align: right;\">\n",
       "      <th></th>\n",
       "      <th>followers</th>\n",
       "    </tr>\n",
       "  </thead>\n",
       "  <tbody>\n",
       "    <tr>\n",
       "      <th>0</th>\n",
       "      <td>406.0</td>\n",
       "    </tr>\n",
       "  </tbody>\n",
       "</table>\n",
       "</div>"
      ],
      "text/plain": [
       "   followers\n",
       "0      406.0"
      ]
     },
     "execution_count": 149,
     "metadata": {},
     "output_type": "execute_result"
    }
   ],
   "source": [
    "followers_sorted.mode()"
   ]
  },
  {
   "cell_type": "markdown",
   "id": "b01e95f2",
   "metadata": {
    "id": "tYkugts6KnNr"
   },
   "source": [
    "The mode is 0."
   ]
  },
  {
   "cell_type": "code",
   "execution_count": 150,
   "id": "c1f032dc",
   "metadata": {
    "id": "o83Jeqs0KRRP"
   },
   "outputs": [
    {
     "data": {
      "text/plain": [
       "followers    3724.256134\n",
       "dtype: float64"
      ]
     },
     "execution_count": 150,
     "metadata": {},
     "output_type": "execute_result"
    }
   ],
   "source": [
    "dp_followers.mean()"
   ]
  },
  {
   "cell_type": "markdown",
   "id": "742470b1",
   "metadata": {
    "id": "Vw8X-JlCKrub"
   },
   "source": [
    "The mean is 3724.256134."
   ]
  },
  {
   "cell_type": "code",
   "execution_count": 151,
   "id": "370735b8",
   "metadata": {
    "colab": {
     "base_uri": "https://localhost:8080/",
     "height": 201
    },
    "id": "J3ob1gjuKRUE",
    "outputId": "b8fa5071-88cc-443f-cbdf-5b6c04ca97ca"
   },
   "outputs": [
    {
     "data": {
      "text/plain": [
       "followers    729.0\n",
       "Name: 0.75, dtype: float64"
      ]
     },
     "execution_count": 151,
     "metadata": {},
     "output_type": "execute_result"
    }
   ],
   "source": [
    "dp_followers.quantile(q=0.25)\n",
    "dp_followers.quantile()\n",
    "dp_followers.quantile(q=0.75)"
   ]
  },
  {
   "cell_type": "markdown",
   "id": "53519ee9",
   "metadata": {
    "id": "qlttFymMKtHH"
   },
   "source": [
    "This is the first quantile: 221.0\n",
    "\n",
    "This is the second quantile: 406.0\n",
    "\n",
    "This is the third quantile: 729.0"
   ]
  },
  {
   "cell_type": "markdown",
   "id": "3269b04d",
   "metadata": {
    "id": "eoNbPXYOKcXc"
   },
   "source": [
    "### What are histograms, bar plots, scatterplots and pie charts used for?\n"
   ]
  },
  {
   "cell_type": "markdown",
   "id": "5de7e38e",
   "metadata": {
    "id": "GtC4IP_AKY6T"
   },
   "source": [
    "Histograms, bar plots, scatterplots and pie charts are ways of visualizing data.\n",
    "In particular the histogram shows a frequency distribution of variables in a data set and it is used when the variable taken into consideration is a quantitative one. It's an easy way to display our datas into vertical bars erected over discrete intervals, usually combined, where on the x axis we find the range of values (known as class or bins) that indicates the number of observations. The histogram is different from the bar plot for different reasons. First, the bar plot refers to qualitative variables while the histogram to quantitative ones. Moreover the bar plot is used to realize comparisons between categories of data. A bar plot could be both horizontal and vertical and in one axis we will find categories while on the other one the number of values of the corresponding category. Another visualization type that is used for qualitative variables is the pie chart. This rappresentation usually shows the percentage of the parts of the whole variable. Pie charts are best used as a basic two-dimensional because otherwise we could have optic illusions about proportions.\n",
    "Finally we have the scatterplot, a special type of chart that indicates the correlation between two numeric variables. It's the set of values of individual data points that helps us to understand wheter the relation between these two variables is positive or negative, strong or weak, linear or nonlinear. More in details, if the correlation is positive the points will follow an increasiing line, while viceversa if the correlation is negative the line will decrease. If the relation is strong then the points will be really close to each other, otherwise the relation will be a weak one. We coul also meet a non linear correlation tha we find when for example the points are distributed like a parable. In the case there is not an actual correlation the points will appear to be distributed all over the plane without e very specific shape."
   ]
  },
  {
   "cell_type": "markdown",
   "id": "8e736d04",
   "metadata": {
    "id": "k-RUm0XrKZEE"
   },
   "source": [
    "### What insights can you extract from a Box Plot?"
   ]
  },
  {
   "cell_type": "markdown",
   "id": "66a0b208",
   "metadata": {
    "id": "a_3j2eBJKfx_"
   },
   "source": [
    "The boxplot is a very useful chart, since it is a standardized way of displaying the distribution of data based on a five number summary (minimum, first quartile, median, third quartile and maximum). It looks like a box with an horizontal line in it. That line represent the median or the second quantile while the lines which delimit the ends of the box represent the first and the third quantile. \n",
    "Outside the box  two more lines: the maximum and the minimum values respectively. Any points above or below these are to be considered outliers which belongs to data points that differs significantly from the other observations."
   ]
  },
  {
   "cell_type": "markdown",
   "id": "67366656-459a-4be8-a4a7-36b2e8085863",
   "metadata": {},
   "source": [
    "## **Bonus points**"
   ]
  },
  {
   "cell_type": "markdown",
   "id": "6e230280-7b58-4f9a-a65e-3c73a3ac3105",
   "metadata": {},
   "source": [
    "### Sort the users in terms of number of followers and divide them into two groups: for the first group, take only the top 10% regarding \"followers\", and for the second one, take the rest. Now compare the mean of time intervals between posts for the two categories. Do you notice something relevant?"
   ]
  },
  {
   "cell_type": "code",
   "execution_count": 103,
   "id": "6be809f5-5681-45c3-af05-aaa8453296a6",
   "metadata": {},
   "outputs": [],
   "source": [
    "#sort the users by the number of followers\n",
    "ordered_profiles = profiles[profiles['followers'].notna()].sort_values(by='followers', ascending = False)"
   ]
  },
  {
   "cell_type": "code",
   "execution_count": 104,
   "id": "2ec037a6-f214-4e4f-ba8c-d073600fed42",
   "metadata": {},
   "outputs": [],
   "source": [
    "#calculate how many is the 10%\n",
    "ten_perc = len(ordered_profiles) // 10 \n",
    "\n",
    "top_profiles = ordered_profiles.head(ten_perc)\n",
    "other_profiles = ordered_profiles.tail(len(ordered_profiles) - ten_perc)"
   ]
  },
  {
   "cell_type": "code",
   "execution_count": 133,
   "id": "8d3b5992-ce4d-4cfa-a643-c15ac803d41d",
   "metadata": {},
   "outputs": [
    {
     "name": "stdout",
     "output_type": "stream",
     "text": [
      "The average time a user of the first group lets pass before publishing another post is: 31 days 09:42:18.211083594\n"
     ]
    }
   ],
   "source": [
    "averages_copy = averages.copy()\n",
    "\n",
    "top_average = averages_copy[top_profiles.head(1).profile_id.values[0]]\n",
    "\n",
    "for profile in top_profiles.profile_id:\n",
    "    try:\n",
    "        top_average = (top_average + averages_copy[profile]) / 2\n",
    "        del averages_copy[profile]\n",
    "    except:\n",
    "        pass\n",
    "print('The average time a user of the first group lets pass before publishing another post is:', top_average)"
   ]
  },
  {
   "cell_type": "code",
   "execution_count": 135,
   "id": "52a46814-512d-4053-a7b7-c99522b341c4",
   "metadata": {},
   "outputs": [
    {
     "name": "stdout",
     "output_type": "stream",
     "text": [
      "The average time a user of the second group lets pass before publishing another post is: 16 days 14:13:39.238841055\n"
     ]
    }
   ],
   "source": [
    "other_average = averages_copy[other_profiles.head(1).profile_id.values[0]]\n",
    "for avg in averages_copy.values():\n",
    "    other_average = (other_average + avg) / 2\n",
    "print('The average time a user of the second group lets pass before publishing another post is:', other_average)"
   ]
  },
  {
   "cell_type": "markdown",
   "id": "03ff94c0-da6f-410e-a165-c22f17d8592d",
   "metadata": {},
   "source": [
    "We can notice how people with more followers tend to post less. We can also notice how the average time of the 'non-top' profiles coincides with the general average time. Top profiles are a sort of outliers."
   ]
  },
  {
   "cell_type": "markdown",
   "id": "d5a802f2-c4de-4276-a581-f4d75226d35e",
   "metadata": {},
   "source": [
    "###  Assume users publish their posts the same day pictures or videos are taken: Are there users that have visited the same location on the same day? How about the same week? Extract the results and explain them."
   ]
  },
  {
   "cell_type": "code",
   "execution_count": 50,
   "id": "c054b93a-4f95-4f69-bc0b-1531c4548919",
   "metadata": {},
   "outputs": [
    {
     "name": "stderr",
     "output_type": "stream",
     "text": [
      "Exception in thread Exception in thread Thread-72:\n",
      "Traceback (most recent call last):\n",
      "  File \"/Users/smndrs/opt/anaconda3/lib/python3.9/threading.py\", line 973, in _bootstrap_inner\n",
      "Thread-73Exception in thread :\n",
      "Traceback (most recent call last):\n",
      "  File \"/Users/smndrs/opt/anaconda3/lib/python3.9/threading.py\", line 973, in _bootstrap_inner\n",
      "    Exception in thread self.run()\n",
      "  File \"/Users/smndrs/opt/anaconda3/lib/python3.9/threading.py\", line 910, in run\n",
      "Thread-75:\n",
      "Traceback (most recent call last):\n",
      "  File \"/Users/smndrs/opt/anaconda3/lib/python3.9/threading.py\", line 973, in _bootstrap_inner\n",
      "Exception in thread Thread-74Thread-76:\n",
      "Traceback (most recent call last):\n",
      "  File \"/Users/smndrs/opt/anaconda3/lib/python3.9/threading.py\", line 973, in _bootstrap_inner\n",
      ":\n",
      "Traceback (most recent call last):\n",
      "  File \"/Users/smndrs/opt/anaconda3/lib/python3.9/threading.py\", line 973, in _bootstrap_inner\n",
      "    self._target(*self._args, **self._kwargs)\n",
      "  File \"/var/folders/_2/4hw_b5r17l139bnw2649h6yc0000gn/T/ipykernel_36484/2807222421.py\", line 24, in update_counter\n",
      "    self.run()\n",
      "  File \"/Users/smndrs/opt/anaconda3/lib/python3.9/threading.py\", line 910, in run\n",
      "        self.run()\n",
      "  File \"/Users/smndrs/opt/anaconda3/lib/python3.9/threading.py\", line 910, in run\n",
      "self.run()\n",
      "  File \"/Users/smndrs/opt/anaconda3/lib/python3.9/threading.py\", line 910, in run\n",
      "        self._target(*self._args, **self._kwargs)\n",
      "  File \"/var/folders/_2/4hw_b5r17l139bnw2649h6yc0000gn/T/ipykernel_36484/2807222421.py\", line 24, in update_counter\n",
      "self.run()\n",
      "  File \"/Users/smndrs/opt/anaconda3/lib/python3.9/threading.py\", line 910, in run\n",
      "    self._target(*self._args, **self._kwargs)\n",
      "  File \"/var/folders/_2/4hw_b5r17l139bnw2649h6yc0000gn/T/ipykernel_36484/2807222421.py\", line 24, in update_counter\n",
      "    self._target(*self._args, **self._kwargs)\n",
      "  File \"/var/folders/_2/4hw_b5r17l139bnw2649h6yc0000gn/T/ipykernel_36484/2807222421.py\", line 24, in update_counter\n",
      "    self._target(*self._args, **self._kwargs)\n",
      "  File \"/var/folders/_2/4hw_b5r17l139bnw2649h6yc0000gn/T/ipykernel_36484/2807222421.py\", line 24, in update_counter\n",
      "ValueErrorValueErrorValueErrorValueErrorValueError: generator already executing\n",
      ": generator already executing\n",
      ": generator already executing\n",
      ": generator already executing\n",
      ": generator already executing\n"
     ]
    },
    {
     "name": "stdout",
     "output_type": "stream",
     "text": [
      "The number of users that returned to the same place on the same day is: 184080 -> 18.408 %.\n",
      "The number of users that returned to the same place on the same week is: 332896 -> 33.2896 %.\n"
     ]
    }
   ],
   "source": [
    "#version with multithreading:\n",
    "\n",
    "import threading\n",
    "import _thread\n",
    "\n",
    "# Declaring a lock\n",
    "lock = threading.Lock()\n",
    "\n",
    "#initialize a counter for the days and one for the weeks\n",
    "count_day = 0\n",
    "count_week = 0\n",
    "\n",
    "#initialize an iterator through the groups\n",
    "group_iter = iter(pro_to_posts)\n",
    "\n",
    "#Function for the thread\n",
    "def update_counter(tot):\n",
    "    global count_day\n",
    "    global count_week\n",
    "    global group_iter\n",
    "    global count\n",
    "    \n",
    "    while count<tot:\n",
    "        pro_id, p_posts = next(group_iter)\n",
    "        #consider only locations and cts (not null)\n",
    "        p_posts = p_posts[['cts', 'location_id']]\n",
    "        p_posts.dropna(subset=['location_id'], inplace = True)\n",
    "    \n",
    "        #create a column for the date and one for the week number\n",
    "        p_posts['date'] = pd.to_datetime(p_posts['cts']).dt.date\n",
    "        p_posts['week'] = p_posts.date.apply(lambda x: x.isocalendar().week)\n",
    "    \n",
    "        #find if the user has returned to one location in the same date\n",
    "        if len(p_posts[['location_id', 'date']].drop_duplicates()) < len(p_posts):\n",
    "            lock.acquire()\n",
    "            count_day += 1\n",
    "            lock.release()\n",
    "        \n",
    "        #find if the user has returned to one location in the same week\n",
    "        if len(p_posts[['location_id', 'week']].drop_duplicates()) < len(p_posts):\n",
    "            lock.acquire()\n",
    "            count_week += 1\n",
    "            lock.release()\n",
    "        lock.acquire()\n",
    "        count += 1\n",
    "        lock.release()\n",
    "    return \n",
    "\n",
    "\n",
    "#initialize 6 threads\n",
    "count = 0\n",
    "tot = 1000000 #len(pro_to_posts)\n",
    "t1 = threading.Thread(target=update_counter, args=[tot])\n",
    "t2 = threading.Thread(target=update_counter, args=[tot])\n",
    "t3 = threading.Thread(target=update_counter, args=[tot])\n",
    "t4 = threading.Thread(target=update_counter, args=[tot])\n",
    "t5 = threading.Thread(target=update_counter, args=[tot])\n",
    "t6 = threading.Thread(target=update_counter, args=[tot])\n",
    "#start the threads\n",
    "t1.start()\n",
    "t2.start()\n",
    "t3.start()\n",
    "t4.start()\n",
    "t5.start()\n",
    "t6.start()\n",
    "#wait for the results of the threads\n",
    "t1.join()\n",
    "t2.join()\n",
    "t3.join()\n",
    "t4.join()\n",
    "t5.join()\n",
    "t6.join()\n",
    "\n",
    "print('The number of users that returned to the same place on the same day is:', count_day, '->', count_day*100 / tot, '%.')\n",
    "print('The number of users that returned to the same place on the same week is:', count_week, '->', count_week*100 / tot, '%.')"
   ]
  },
  {
   "cell_type": "markdown",
   "id": "4853a886-001b-4465-b945-7d26f9926855",
   "metadata": {},
   "source": [
    "### Implement a text data analysis (also known as text mining) of the field \"description\" from instagram_posts.csv for descriptions written in English. Use appropriate visualizations and statistics to highlight the words (and probably the topics) provided for the users in that field."
   ]
  },
  {
   "cell_type": "markdown",
   "id": "efc4601e-e8aa-433e-99cc-7841e685c92d",
   "metadata": {},
   "source": [
    "Regarding the last question, to find the most common topics in the field \"description\" we need to import some new packages.\n",
    "The package *nltk* is an helpful package for the tokenization and stemming of a text and also for the removing of stopwords. While *english_words* is a dictionary that contains all the english words (without punctuation). "
   ]
  },
  {
   "cell_type": "code",
   "execution_count": null,
   "id": "44a51d27-f0af-4481-8fec-494438447a2f",
   "metadata": {},
   "outputs": [],
   "source": [
    "import nltk\n",
    "from nltk.corpus import stopwords\n",
    "from nltk.tokenize import word_tokenize\n",
    "from nltk.stem.snowball import SnowballStemmer\n",
    "from english_words import english_words_set"
   ]
  },
  {
   "cell_type": "code",
   "execution_count": null,
   "id": "36fd8e96-b1c3-4637-8996-e8d215f9700e",
   "metadata": {},
   "outputs": [],
   "source": [
    "pip install english-words\n",
    "nltk.download('stopwords')\n",
    "nltk.download('punkt')"
   ]
  },
  {
   "cell_type": "markdown",
   "id": "e7f7da70-5a74-409a-a6d5-7874cada31c2",
   "metadata": {},
   "source": [
    "Now we can proceed with the code. The algorithm that we implemented returns a Counter that counts the occurrencies of each word in the descriptions. By taking the 10 most common words we can have an idea of the 20 most common topics. To do so, we first tokenize each description, the word_tokenize() function divides each piece of the string (also punctuation and emojis). Then we applicate the stemmer to find the root of every word. At this point we can control if the words are present in the english dictionary, during this transiction we manage to eliminate all the non english words, punctuation and emojis. The last step is the one in which we eliminate also the stopwords (otherwise they would appear as the most common words)."
   ]
  },
  {
   "cell_type": "code",
   "execution_count": 4,
   "id": "3d2c3612-7022-4d96-97a1-80e860663e7c",
   "metadata": {},
   "outputs": [
    {
     "name": "stderr",
     "output_type": "stream",
     "text": [
      "50it [34:34, 41.50s/it]"
     ]
    },
    {
     "name": "stdout",
     "output_type": "stream",
     "text": [
      "[('love', 311359), ('day', 234791), ('time', 154272), ('one', 149746), ('get', 148717), ('thank', 141295), ('like', 136378), ('today', 133768), ('new', 128777), ('come', 114835), ('friend', 109552), ('good', 104695), ('year', 103765), ('see', 102993), ('make', 100823), ('work', 98839), ('look', 98094), ('travel', 97831), ('life', 96360), ('great', 94555)]\n"
     ]
    },
    {
     "name": "stderr",
     "output_type": "stream",
     "text": [
      "\n"
     ]
    }
   ],
   "source": [
    "#initialize a Counter for the frequencies of the topics\n",
    "freq = Counter()\n",
    "\n",
    "#initialize the set of stopwords and the stemmer\n",
    "stopset = set(stopwords.words('english'))\n",
    "stemmer = SnowballStemmer(language=\"english\")\n",
    "\n",
    "#iterate only on a part of the dataset\n",
    "i=0\n",
    "\n",
    "#iterate on the posts in chunks\n",
    "for chunk in tqdm(pd.read_csv('~/instagram_posts.csv', usecols = ['description'], delimiter='\\t', chunksize = 100000)):\n",
    "    \n",
    "    if i >= 50:\n",
    "        break\n",
    "    \n",
    "    #iterate on all the not null description\n",
    "    chunk.dropna(subset=['description'], inplace= True)\n",
    "    \n",
    "    for desc in chunk.description:\n",
    "        \n",
    "        #divide the description in tokens\n",
    "        tokens = word_tokenize(desc)\n",
    "        \n",
    "        #stem the words\n",
    "        stemmed = [stemmer.stem(t) for t in tokens]\n",
    "        \n",
    "        #take only the english words\n",
    "        english_words = []\n",
    "        for t in stemmed:\n",
    "            if t.lower() in english_words_set:\n",
    "                english_words.append(t)\n",
    "        \n",
    "        #remove stopwords\n",
    "        topics = [word for word in english_words if not word in stopset and len(word)>2]\n",
    "        \n",
    "        #update the Counter\n",
    "        freq.update(topics)\n",
    "        \n",
    "    i += 1\n",
    "        \n",
    "print(freq.most_common(20))"
   ]
  },
  {
   "cell_type": "markdown",
   "id": "d7b6448e-3f3b-4654-b8e9-b450986f598b",
   "metadata": {},
   "source": [
    "The result might be not consistent because we only considered 5000000 posts (of the 42000000 total), so like 1/8 of the dataset. By the way from the 20 most common topics we can see how they are related to positive feelings and verbs of action, furthermore very recurrent is the topic of the day/year/today. So, we can say that people post on Instagram updates on their lives, mainly on what they did of positive / productive."
   ]
  },
  {
   "cell_type": "markdown",
   "id": "238e3b71-a9c1-4f83-bae8-2c0733557f0d",
   "metadata": {},
   "source": [
    "## Command line question"
   ]
  },
  {
   "cell_type": "markdown",
   "id": "cc9c0b50-7976-40a5-95e0-c26e3700923a",
   "metadata": {},
   "source": [
    "### Using the instagram_posts.csv, retrieve the first ten posts with descriptions longer than 100 characters and output the profiles that posted them. (Please keep in mind that the profile associated with some of those posts may not be found in the profiles. You can simply output User was not found! for those posts.)"
   ]
  },
  {
   "cell_type": "markdown",
   "id": "38689197-60cd-4144-81bf-7b0fd7d3ac78",
   "metadata": {},
   "source": [
    "Below you can find the copy of what is contained in the source code in the repository."
   ]
  },
  {
   "cell_type": "raw",
   "id": "dd015091-d052-4456-9620-ea8e91923e63",
   "metadata": {},
   "source": [
    "#!/bin/sh\n",
    "\n",
    "#initialize the iterators\n",
    "READ=0\n",
    "ITER=2\n",
    "\n",
    "#iterate while you haven't found 10 descriptions longer than 100 characters\n",
    "while (($READ < 10))\n",
    "do\n",
    "    #take the iter-nth row\n",
    "\tcat instagram_posts.csv | head -$ITER | tail -1  > line\n",
    "\t#cut the description\n",
    "    descr=$(cut -f8 line)\n",
    "\t\n",
    "    #check the length of the description\n",
    "\tif ((${#descr} >= 100))\n",
    "\tthen\n",
    "    #cut the user\n",
    "\t\tUSER=$(cut -f 4 line)\n",
    "        #if you find the profile, print all the infos, if not print user not foun\n",
    "\t\tif PROFILE=$(grep $USER instagram_profiles.csv)\n",
    "\t\tthen\n",
    "\t\t\techo $PROFILE\n",
    "\t\telse\n",
    "\t\t\techo \"User not found!\"\n",
    "\t\tfi\n",
    "\n",
    "\t\tlet \"READ += 1\"\n",
    "\tfi\n",
    "\n",
    "\tlet \"ITER += 1\"\n",
    "\trm line\n",
    "done"
   ]
  },
  {
   "cell_type": "markdown",
   "id": "329791b3-8c91-4eb3-9163-4c629f71d184",
   "metadata": {},
   "source": [
    "The output is in the image below."
   ]
  },
  {
   "attachments": {
    "d211de51-f95f-4cb2-bdb9-acf2f3b308c0.png": {
     "image/png": "[encoded data removed]"
    }
   },
   "cell_type": "markdown",
   "id": "b7d2184f-00bb-44bb-89b4-4d737486eb1f",
   "metadata": {},
   "source": [
    "![Schermata 2022-10-29 alle 12.31.17.png](attachment:d211de51-f95f-4cb2-bdb9-acf2f3b308c0.png)"
   ]
  },
  {
   "cell_type": "markdown",
   "id": "1a4d7a81-55ee-4cce-87bc-beaa772a4c5b",
   "metadata": {},
   "source": [
    "Let's explain the code. First of all we used two iterators, one for counting the actual descriptions longer than 100 characters (READ) and the other to iterate though the dataset(ITER). Until the 10 descriptions aren't found we proceed in this way:\n",
    "1. We save the n-th row in a temporary file called line\n",
    "2. We extract the field of the description\n",
    "3. If the length of the description is > 100, we extract also the profile\n",
    "4. If the profile is found in the instagram_profile.csv dataset, we print all the corresponding row, otherwise we print that the user wasn't found.\n",
    "5. We increment by one the variable READ if and only if the description was greater than 100 character\n",
    "6. In every case we increment by 1 the ITER variable, and we delete the \"line\" file."
   ]
  },
  {
   "cell_type": "markdown",
   "id": "ad5871d1-7cb7-4476-bcf6-aafd5fee7100",
   "metadata": {},
   "source": [
    "## [AQ1] Given the following pseudocode, answer the questions:"
   ]
  },
  {
   "cell_type": "raw",
   "id": "af8f014b-0bbb-4b5c-8b17-42e1275ed033",
   "metadata": {},
   "source": [
    "Input: \n",
    "    N : an integer \n",
    "    List : array of characters of length N without repetition\n",
    "    \n",
    "function f1(sequence, end): \n",
    "    For i=0 To end:\n",
    "        OUTPUT sequence[i]\n",
    "    EndFor\n",
    "    Output \"\\n\"\n",
    "    \n",
    "function f2(sequence, start, end): \n",
    "    If start = end: \n",
    "        f1(sequence, end)\n",
    "    Else\n",
    "        For i=start To end: \n",
    "            temp <-- sequence[start]\n",
    "            sequence[start] <-- sequence[i]\n",
    "            sequence[i] <-- temp\n",
    "            f2(sequence, start+1, end)\n",
    "            temp <-- sequence[start]\n",
    "            sequence[start] <-- sequence[i]\n",
    "            sequence[i] <-- temp\n",
    "f2(List, 0, N)"
   ]
  },
  {
   "cell_type": "markdown",
   "id": "934454b2-722d-4bb3-b72d-0cf4faa43a0a",
   "metadata": {},
   "source": [
    "### What is the output of this algorithm? Describe the mechanism of the algorithm in detail . We do not want to know only its final result. (Describe one example on your own)"
   ]
  },
  {
   "cell_type": "markdown",
   "id": "4fc4a953-5066-4709-878a-7eedd2739126",
   "metadata": {},
   "source": [
    "The output of this algorithm is the printing of all the possible permutations of the N elements of the string. <br>\n",
    "Let's see the mechanims in more details. First of all we have two functions: f1 that prints the sequence in input, and f2 that 'mixes' the elements of the list. The f2 function is the one more complex that's worth further explanations with an example.<br>\n",
    "Let's suppose that we have the sequence l = [a, b, c]. \n",
    "- 1-st call to f2: *f2(abc, 1, 3)*. 0!=3, we go in the for loop from 1 to 3. \n",
    "- i=1, start=1: We switch the first element with the i-th element (this very first iteration will switch 'a' with 'a').\n",
    "     - then we call recursively f2, *f2(abc, 2, 3)*. One more time 2!=3, so we go in the for loop this time from 2 to 3.\n",
    "     - i=2, start=2: switch 'b' with 'b'\n",
    "         - Call *f2(abc, 3, 3)*. This time we print the sequence that is [a, b, c].\n",
    "     - (still i =2 and start = 2), switch 'b' with 'b'\n",
    "     - i=3, start=2: switch 'b' with 'c'. Now the sequence is a, c, b\n",
    "         - Call *f2(acb, 3, 3)*. This time we print the sequence that is [a, c, b]. \n",
    "     - (still i =3 and start = 2), switch 'c' with 'b'. Now the sequence is a, b, c\n",
    "- i=2, start=1: We switch 'a' with 'b'. Sequence is now b, a, c\n",
    "    - then we call recursively f2, *f2(bac, 2, 3)*. 2!=3, so we go in the for loop from 2 to 3.\n",
    "     - i=2, start=2: switch 'a' with 'a'\n",
    "         - Call *f2(bac, 3, 3)*. This time we print the sequence that is [b, a, c].\n",
    "     - (still i =2 and start = 2), switch 'a' with 'a'\n",
    "     - i=3, start=2: switch 'a' with 'c'\n",
    "         - Call *f2(bca, 3, 3)*. This time we print the sequence that is [b, c, a]. \n",
    "     - (still i =3 and start = 2), switch 'c' with 'a'. Now the sequence is b, a, c\n",
    "- i=3, start=1: We switch 'b' with 'c'. Sequence is now c, a, b\n",
    "    - then we call recursively f2, *f2(cab, 2, 3)*. 2!=3, so we go in the for loop from 2 to 3.\n",
    "     - i=2, start=2: switch 'b' with 'b'\n",
    "         - Call *f2(cba, 3, 3)*. This time we print the sequence that is [c, a, b].\n",
    "     - (still i =2 and start = 2), switch 'a' with 'a'\n",
    "     - i=3, start=2: switch 'a' with 'b'\n",
    "         - Call *f2(cba, 3, 3)*. This time we print the sequence that is [c, b, a]. \n",
    "     - (still i =3 and start = 2), switch 'a' with 'b'. Now the sequence is c, b, a\n",
    "     \n",
    "To conlude, the algorithm has recursively switched the elements of the sequence (practically it fixates the firtsts letters and then switches the others and prints the results)."
   ]
  },
  {
   "cell_type": "markdown",
   "id": "15368f56-cae1-4d10-b863-f1a1ef31a34a",
   "metadata": {},
   "source": [
    "### What is asymptotically (i.e., we are asking for big-O complexity) the algorithm's running time as a function of N?"
   ]
  },
  {
   "cell_type": "markdown",
   "id": "c75e7231-0c8f-4e6e-a58e-47d058350f93",
   "metadata": {},
   "source": [
    "We can say that the running time for an input of length n is $O(n \\ n!)$.<br>\n",
    "This is because at first we'll do $n$ calls to the f2 function, for each of them we'll call f2 $n-1$ times. All this $n \\ (n-1)$ calls will do $n-2$ calls and  so on. It's evident how this is equal to $n!$. Meanwhile the f1 has simply to iterate on the sequence (only \"full\" sequences of length n will be inputs of f1), so its complexity is $O(n)$. If we put together the fact that each of the n! sequences produced by the  f2 function is to be printed, we can conclude that the complexity of the algorithm is $O(n \\ n!)$"
   ]
  },
  {
   "cell_type": "markdown",
   "id": "cef4ea28-f595-4223-b9a5-cda83f7be88b",
   "metadata": {},
   "source": [
    "### Is this algorithm the optimal one to produce this output? If not, can you suggest a better algorithm to perform the same task?"
   ]
  },
  {
   "cell_type": "markdown",
   "id": "5c40043b-944f-43c4-aa07-19ef0644ba84",
   "metadata": {},
   "source": [
    "We think that this algorithm is the optimal one. In fact we know that the number of permutations of n elements is *n!*, so it's impossible to not do n! iterations, furthermore it costs *n* to print a string. We can conclude that the optimal algorithm to produce all the permutations of a string has a big-O complexity $O(n \\ n!)$"
   ]
  },
  {
   "cell_type": "markdown",
   "id": "69a308ee-605c-49ac-80a5-59568f2f77ae",
   "metadata": {},
   "source": [
    "### [AQ2] Considering the following problem, answer the questions:\n",
    "Alex has a ribbon of length N. He wants to cut the ribbon in a way that fulfils the following three conditions:\n",
    "\n",
    "- Each piece of the cut should have an integer length\n",
    "- He should at least cut the ribbon once\n",
    "- The multiplication of the length of all the pieces be the maximum possible"
   ]
  },
  {
   "cell_type": "markdown",
   "id": "9ef3679f-321d-46ac-92de-012b89454808",
   "metadata": {},
   "source": [
    "#### Implement a recursive algorithm to help Alex find the maximum possible value after multiplying the length of the pieces. Explain your algorithm in detail."
   ]
  },
  {
   "cell_type": "code",
   "execution_count": 2,
   "id": "3de1f1fe-1d32-42b9-b0bb-86457eb7be8c",
   "metadata": {},
   "outputs": [],
   "source": [
    "import numpy as np\n",
    "\n",
    "\n",
    "def calc_mult(n, cuts):\n",
    "    mult = 1\n",
    "    if len(cuts) == 1:\n",
    "        return 0\n",
    "    for i in range(len(cuts)-1, -1, -1):\n",
    "        mult = mult * (n - cuts[i])\n",
    "        n = cuts[i]\n",
    "    return mult\n",
    "    \n",
    "\n",
    "def ribbon(n, cuts, mass):\n",
    "    if len(cuts) >= n-1:\n",
    "        return calc_mult(n, cuts)\n",
    "    for i in range(cuts[-1] + 1, n):\n",
    "        mass= max(calc_mult(n, cuts), ribbon(n, np.append(cuts, i), mass))\n",
    "    return mass\n",
    "\n",
    "cuts = np.zeros(1, dtype=np.int32) \n",
    "n = input('Insert an integer value')\n",
    "ribbon(n, cuts, 0)"
   ]
  },
  {
   "cell_type": "markdown",
   "id": "fa2e9af5-48b4-4d53-bfa7-f8d1652c5f5f",
   "metadata": {},
   "source": [
    "We initialized a numpy array to [0] (the choice was made only to avoid TypeError exceptions).\n",
    "The ribbon function takes in input the length (of the ribbon) n, the array cuts and the maximum value at that point.\n",
    "Cuts contains all the position in which the cut is to make, so its values will go from 1 to n-1 and its length will be maximum n-1.<br>\n",
    "The calc_mult function takes in input the length n and the array cuts and will calculate the multiplication of the length of all the pieces. If the length is 1 (so there's only the 0 in the array), it's not valid, so return 0. Otherwise do the calculations by multiplicating the lengths of the intervals between the positions.<br>\n",
    "Let's explain better the code. When ribbon is called, its inputs are the array with only the zero inside (which as said before will be 'ignored') and the max initialized at 0. Then if we are arrived at the maximum number of cuts possible, we return the multiplication value, otherwise the max is set to the maximum between the multiplication of the values if we cut in that point or if we not cut.<br>\n",
    "In other words, for each possible point we have 2 options: cut and not cut. The max will be set to the maximum between the results of the 2 options."
   ]
  },
  {
   "cell_type": "markdown",
   "id": "c5ba4e29-c982-4209-bad7-7deb65b32d4e",
   "metadata": {},
   "source": [
    "#### Show that the algorithm has exponential running time."
   ]
  },
  {
   "cell_type": "markdown",
   "id": "06992e9e-bae5-4f76-96f3-fb3f866f5ff9",
   "metadata": {},
   "source": [
    "As we said for each possible \"cut point\" (1,2,3,..,n-1) we have to explore the case in which we cut and the case in which we don't cut. So, the complexity will be $O(2^n)$ (for n-1 places there are 2 choices). We should consider also the complexity of calc_mult, which depends on the number of cuts. But, for sure is something \"marginal\" compared to the exponential time of the ribbon function."
   ]
  },
  {
   "cell_type": "code",
   "execution_count": null,
   "id": "048a8171-6545-463b-98a9-fc34861cb98c",
   "metadata": {},
   "outputs": [],
   "source": []
  }
 ],
 "metadata": {
  "kernelspec": {
   "display_name": "Python 3 (ipykernel)",
   "language": "python",
   "name": "python3"
  },
  "language_info": {
   "codemirror_mode": {
    "name": "ipython",
    "version": 3
   },
   "file_extension": ".py",
   "mimetype": "text/x-python",
   "name": "python",
   "nbconvert_exporter": "python",
   "pygments_lexer": "ipython3",
   "version": "3.9.12"
  },
  "toc": {
   "base_numbering": 1,
   "nav_menu": {},
   "number_sections": true,
   "sideBar": true,
   "skip_h1_title": false,
   "title_cell": "Table of Contents",
   "title_sidebar": "Contents",
   "toc_cell": false,
   "toc_position": {
    "height": "calc(100% - 180px)",
    "left": "10px",
    "top": "150px",
    "width": "352px"
   },
   "toc_section_display": true,
   "toc_window_display": true
  },
  "varInspector": {
   "cols": {
    "lenName": 16,
    "lenType": 16,
    "lenVar": 40
   },
   "kernels_config": {
    "python": {
     "delete_cmd_postfix": "",
     "delete_cmd_prefix": "del ",
     "library": "var_list.py",
     "varRefreshCmd": "print(var_dic_list())"
    },
    "r": {
     "delete_cmd_postfix": ") ",
     "delete_cmd_prefix": "rm(",
     "library": "var_list.r",
     "varRefreshCmd": "cat(var_dic_list()) "
    }
   },
   "oldHeight": 165.016666,
   "position": {
    "height": "132.017px",
    "left": "1406px",
    "right": "20px",
    "top": "60px",
    "width": "350px"
   },
   "types_to_exclude": [
    "module",
    "function",
    "builtin_function_or_method",
    "instance",
    "_Feature"
   ],
   "varInspector_section_display": "block",
   "window_display": true
  }
 },
 "nbformat": 4,
 "nbformat_minor": 5
}
